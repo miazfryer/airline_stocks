{
 "cells": [
  {
   "cell_type": "code",
   "execution_count": 1,
   "id": "35f8ae36-3f0e-485d-aea1-66133092d958",
   "metadata": {},
   "outputs": [],
   "source": [
    "#basic\n",
    "import pandas as pd\n",
    "import numpy as np\n",
    "\n",
    "#plot\n",
    "import matplotlib.pyplot as plt\n",
    "import seaborn as sns\n",
    "sns.set_style('whitegrid')\n",
    "plt.style.use(\"fivethirtyeight\")\n",
    "%matplotlib inline\n",
    "\n",
    "# For reading stock data \n",
    "from pandas_datareader.data import DataReader\n",
    "\n",
    "# For time stamps\n",
    "from datetime import datetime\n",
    "\n",
    "#for evaluation\n",
    "from statsmodels.graphics.tsaplots import plot_acf, plot_pacf\n",
    "from sklearn.metrics import mean_squared_error, mean_absolute_error\n",
    "from math import sqrt \n",
    "\n",
    "#for modeling\n",
    "import tensorflow as tf\n",
    "from sklearn.preprocessing import MinMaxScaler\n",
    "from tensorflow.keras.models import Sequential\n",
    "from keras import optimizers\n",
    "from tensorflow.keras.layers import Dense, Dropout, LSTM, RepeatVector, TimeDistributed, Bidirectional, Activation\n",
    "from tensorflow.keras.callbacks import EarlyStopping, ReduceLROnPlateau\n",
    "from keras.preprocessing.sequence import TimeseriesGenerator\n",
    "\n",
    "import warnings\n",
    "warnings.filterwarnings('ignore')\n",
    "\n",
    "from statsmodels.tsa.arima_model import ARIMA\n",
    "from pmdarima.arima import auto_arima\n",
    "\n",
    "np.random.seed(123)"
   ]
  },
  {
   "cell_type": "markdown",
   "id": "640ca38f-48f9-4185-89b6-11e1c2c9b3e8",
   "metadata": {},
   "source": [
    "## Load data"
   ]
  },
  {
   "cell_type": "code",
   "execution_count": 2,
   "id": "e08d9e86-7a35-40ac-adf9-94f32950369d",
   "metadata": {},
   "outputs": [],
   "source": [
    "df = DataReader('LUV', data_source='yahoo', start='2012-01-01', end=datetime.now())"
   ]
  },
  {
   "cell_type": "code",
   "execution_count": 3,
   "id": "d548fd10-c446-4de2-98df-b40eb191f606",
   "metadata": {},
   "outputs": [],
   "source": [
    "data = df.filter(['Close'])"
   ]
  },
  {
   "cell_type": "code",
   "execution_count": 4,
   "id": "00103c63-b152-4b56-8bee-0f2c5d0ebbf2",
   "metadata": {},
   "outputs": [],
   "source": [
    "dataset = data.values"
   ]
  },
  {
   "cell_type": "markdown",
   "id": "a46d893e-106d-43e2-87c5-6d191ed8c754",
   "metadata": {},
   "source": [
    "## Data preparation"
   ]
  },
  {
   "cell_type": "code",
   "execution_count": 5,
   "id": "5b7b1668-6cf2-4893-a794-76eff962ee38",
   "metadata": {},
   "outputs": [],
   "source": [
    "scaler = MinMaxScaler(feature_range=(0,1))\n",
    "scaled_data = scaler.fit_transform(dataset)"
   ]
  },
  {
   "cell_type": "code",
   "execution_count": 6,
   "id": "f38c644b-4a35-43e4-8743-312fc8194b68",
   "metadata": {},
   "outputs": [],
   "source": [
    "training_data_len = int(np.ceil( len(dataset) * .9 ))\n",
    "train_data = scaled_data[0:int(training_data_len), :]"
   ]
  },
  {
   "cell_type": "code",
   "execution_count": 7,
   "id": "67f886f1-3198-4bb2-9216-ac2be6da5192",
   "metadata": {},
   "outputs": [],
   "source": [
    "test_data = scaled_data[training_data_len: , :]"
   ]
  },
  {
   "cell_type": "code",
   "execution_count": 8,
   "id": "0ac901bd-2fd8-4057-bd1c-1a126804e029",
   "metadata": {},
   "outputs": [
    {
     "data": {
      "text/plain": [
       "(2196, 1)"
      ]
     },
     "execution_count": 8,
     "metadata": {},
     "output_type": "execute_result"
    }
   ],
   "source": [
    "train_data.shape"
   ]
  },
  {
   "cell_type": "code",
   "execution_count": 9,
   "id": "742339b3-1e7c-449d-ad7f-899addbcaef8",
   "metadata": {},
   "outputs": [],
   "source": [
    "def train_val(data):\n",
    "    train_size = int(len(data) * 0.8)\n",
    "    train = data[0:train_size]\n",
    "    val= data[train_size:len(data)]\n",
    "    return train, val"
   ]
  },
  {
   "cell_type": "code",
   "execution_count": 10,
   "id": "7b5469d1-db37-425d-b4f9-a2015d61428f",
   "metadata": {},
   "outputs": [],
   "source": [
    "def split_sequences(sequences, n_steps_in, n_steps_out):\n",
    "    X, y = list(), list()\n",
    "    for i in range(len(sequences)):\n",
    "        # find the end of this pattern\n",
    "        end_ix = i + n_steps_in\n",
    "        out_end_ix = end_ix + n_steps_out\n",
    "        # check if we are beyond the dataset\n",
    "        if out_end_ix > len(sequences):\n",
    "            break\n",
    "        # gather input and output parts of the pattern\n",
    "        seq_x, seq_y = sequences[i:end_ix, :], sequences[end_ix:out_end_ix, -1]\n",
    "        X.append(seq_x)\n",
    "        y.append(seq_y)\n",
    "    return np.array(X), np.array(y)"
   ]
  },
  {
   "cell_type": "code",
   "execution_count": 11,
   "id": "cd45e49f-6faf-42cd-9f31-c32edf0ef177",
   "metadata": {},
   "outputs": [],
   "source": [
    "def prepare_training(data, n_steps_in, n_steps_out):\n",
    "    #data = to_dataset(data)\n",
    "    train, val = train_val(data)\n",
    "    x_train, y_train = split_sequences(train, n_steps_in, n_steps_out)\n",
    "    x_val, y_val = split_sequences(val, n_steps_in, n_steps_out)\n",
    "    features = 1\n",
    "    return x_train, y_train, x_val, y_val, features"
   ]
  },
  {
   "cell_type": "code",
   "execution_count": 12,
   "id": "1d6cd8e0-005c-4055-b303-a83e37d8dc30",
   "metadata": {},
   "outputs": [],
   "source": [
    "n_steps_in, n_steps_out = 60 , 30\n",
    "x_train, y_train, x_val, y_val, feature = prepare_training(train_data,n_steps_in, n_steps_out)"
   ]
  },
  {
   "cell_type": "code",
   "execution_count": 13,
   "id": "f2d97716-2454-4351-8f3b-58203248f530",
   "metadata": {},
   "outputs": [
    {
     "data": {
      "text/plain": [
       "(1667, 60, 1)"
      ]
     },
     "execution_count": 13,
     "metadata": {},
     "output_type": "execute_result"
    }
   ],
   "source": [
    "x_train.shape"
   ]
  },
  {
   "cell_type": "code",
   "execution_count": 14,
   "id": "b3d3e079-7bd1-4746-a3d5-7775dfc72adc",
   "metadata": {},
   "outputs": [
    {
     "data": {
      "text/plain": [
       "(1667, 30)"
      ]
     },
     "execution_count": 14,
     "metadata": {},
     "output_type": "execute_result"
    }
   ],
   "source": [
    "y_train.shape"
   ]
  },
  {
   "cell_type": "markdown",
   "id": "dda84301-829e-4a01-85b0-f5dcb2549406",
   "metadata": {},
   "source": [
    "## Modeling"
   ]
  },
  {
   "cell_type": "code",
   "execution_count": 15,
   "id": "fce1f5d9-2573-4110-8a22-9e69510d8ca5",
   "metadata": {},
   "outputs": [],
   "source": [
    "# simple Encoder-Decoder model\n",
    "def creat_model1(n_steps_in, n_steps_out, features):\n",
    "    model = Sequential()\n",
    "    model.add(LSTM(128, activation='relu', return_sequences=False, input_shape=(n_steps_in, features)))\n",
    "    model.add(RepeatVector(n_steps_out))\n",
    "    model.add(LSTM(128, activation='relu', return_sequences=False))\n",
    "    model.add(Dense(features))\n",
    "    \n",
    "    model.compile(optimizer='adam', loss='mean_squared_error', metrics=['mean_squared_error'])\n",
    "    return model"
   ]
  },
  {
   "cell_type": "code",
   "execution_count": 16,
   "id": "59ff9219-01b5-4b63-89ab-8f190b5b9877",
   "metadata": {},
   "outputs": [],
   "source": [
    "# simple lstm model\n",
    "def creat_model2(n_steps_in, n_steps_out, features):\n",
    "    model2 = Sequential()\n",
    "    model2.add(LSTM(50, activation='relu', return_sequences=True, input_shape=(n_steps_in, features)))\n",
    "    model2.add(LSTM(50, activation='relu'))\n",
    "    model2.add(Dense(n_steps_out))\n",
    "    model2.add(Activation('linear'))\n",
    "    \n",
    "    model2.compile(loss='mean_squared_error', optimizer=opt, metrics=['mean_squared_error'])\n",
    "    \n",
    "    return model2"
   ]
  },
  {
   "cell_type": "code",
   "execution_count": 17,
   "id": "b0e2f929-b59e-4abe-8d97-c7b6783ef1e6",
   "metadata": {},
   "outputs": [],
   "source": [
    "#Stop training when a monitored metric has stopped improving.\n",
    "early = EarlyStopping(monitor='val_loss',patience=5)\n",
    "\n",
    "#Reduce learning rate when a metric has stopped improving.\n",
    "reduce = ReduceLROnPlateau(monitor='val_loss', patience=3, factor=0.2, mil_lr=0.001)\n",
    "\n",
    "opt = optimizers.Adam(learning_rate=0.0001)"
   ]
  },
  {
   "cell_type": "markdown",
   "id": "cf03d31c-4d7e-4b61-a846-3fd4bfb4c43a",
   "metadata": {},
   "source": [
    "### Model1"
   ]
  },
  {
   "cell_type": "code",
   "execution_count": 18,
   "id": "6c8bd5bf-01cc-4987-a1d0-9d6d6c32ca56",
   "metadata": {},
   "outputs": [],
   "source": [
    "model1 = creat_model1(n_steps_in, n_steps_out, feature)"
   ]
  },
  {
   "cell_type": "code",
   "execution_count": 19,
   "id": "25da253e-c1f8-45d6-aba9-13a338720274",
   "metadata": {
    "collapsed": true,
    "jupyter": {
     "outputs_hidden": true
    },
    "tags": []
   },
   "outputs": [
    {
     "name": "stdout",
     "output_type": "stream",
     "text": [
      "Epoch 1/50\n",
      "34/34 [==============================] - 4s 87ms/step - loss: 0.1416 - mean_squared_error: 0.1416 - val_loss: 0.0116 - val_mean_squared_error: 0.0116\n",
      "Epoch 2/50\n",
      "34/34 [==============================] - 2s 73ms/step - loss: 0.0035 - mean_squared_error: 0.0035 - val_loss: 0.0079 - val_mean_squared_error: 0.0079\n",
      "Epoch 3/50\n",
      "34/34 [==============================] - 2s 73ms/step - loss: 0.0029 - mean_squared_error: 0.0029 - val_loss: 0.0086 - val_mean_squared_error: 0.0086\n",
      "Epoch 4/50\n",
      "34/34 [==============================] - 2s 73ms/step - loss: 0.0028 - mean_squared_error: 0.0028 - val_loss: 0.0083 - val_mean_squared_error: 0.0083\n",
      "Epoch 5/50\n",
      "34/34 [==============================] - 3s 76ms/step - loss: 0.0030 - mean_squared_error: 0.0030 - val_loss: 0.0088 - val_mean_squared_error: 0.0088\n",
      "Epoch 6/50\n",
      "34/34 [==============================] - 3s 75ms/step - loss: 0.0029 - mean_squared_error: 0.0029 - val_loss: 0.0083 - val_mean_squared_error: 0.0083\n",
      "Epoch 7/50\n",
      "34/34 [==============================] - 2s 73ms/step - loss: 0.0026 - mean_squared_error: 0.0026 - val_loss: 0.0081 - val_mean_squared_error: 0.0081\n"
     ]
    }
   ],
   "source": [
    "history1 = model1.fit(x_train, y_train, epochs=50, batch_size=50, verbose=1,\n",
    "         validation_data=(x_val, y_val), callbacks=[early,reduce])"
   ]
  },
  {
   "cell_type": "code",
   "execution_count": 20,
   "id": "58250276-035c-4114-b874-67268933bc7e",
   "metadata": {},
   "outputs": [
    {
     "name": "stdout",
     "output_type": "stream",
     "text": [
      "Model: \"sequential\"\n",
      "_________________________________________________________________\n",
      "Layer (type)                 Output Shape              Param #   \n",
      "=================================================================\n",
      "lstm (LSTM)                  (None, 128)               66560     \n",
      "_________________________________________________________________\n",
      "repeat_vector (RepeatVector) (None, 30, 128)           0         \n",
      "_________________________________________________________________\n",
      "lstm_1 (LSTM)                (None, 128)               131584    \n",
      "_________________________________________________________________\n",
      "dense (Dense)                (None, 1)                 129       \n",
      "=================================================================\n",
      "Total params: 198,273\n",
      "Trainable params: 198,273\n",
      "Non-trainable params: 0\n",
      "_________________________________________________________________\n"
     ]
    }
   ],
   "source": [
    "model1.summary()"
   ]
  },
  {
   "cell_type": "code",
   "execution_count": 21,
   "id": "4153f100-1e93-415b-8738-ca73a983c736",
   "metadata": {},
   "outputs": [
    {
     "data": {
      "image/png": "[encoded data removed]",
      "text/plain": [
       "<Figure size 432x288 with 1 Axes>"
      ]
     },
     "metadata": {
      "needs_background": "light"
     },
     "output_type": "display_data"
    }
   ],
   "source": [
    "plt.plot(history1.history['loss'])\n",
    "plt.plot(history1.history['val_loss'])\n",
    "plt.xlabel('Epochs')\n",
    "plt.ylabel('MSE')\n",
    "plt.legend(['Train','Val']);"
   ]
  },
  {
   "cell_type": "code",
   "execution_count": 22,
   "id": "d239cf77-aa62-45e1-ad16-68c4740fb3ec",
   "metadata": {},
   "outputs": [
    {
     "data": {
      "image/png": "[encoded data removed]",
      "text/plain": [
       "<Figure size 432x288 with 1 Axes>"
      ]
     },
     "metadata": {
      "needs_background": "light"
     },
     "output_type": "display_data"
    }
   ],
   "source": [
    "plt.plot(history1.history['mean_squared_error'])\n",
    "plt.plot(history1.history['val_mean_squared_error'])\n",
    "plt.xlabel('Epochs')\n",
    "plt.ylabel('MSE')\n",
    "plt.legend(['Train','Val']);"
   ]
  },
  {
   "cell_type": "markdown",
   "id": "1b798b7e-6549-4b3c-96b1-6a88a976cba2",
   "metadata": {},
   "source": [
    "### Model2"
   ]
  },
  {
   "cell_type": "code",
   "execution_count": 23,
   "id": "57019369-96a2-4f93-96b4-4445c6cc9a9d",
   "metadata": {},
   "outputs": [],
   "source": [
    "model2 = creat_model2(n_steps_in, n_steps_out, feature)"
   ]
  },
  {
   "cell_type": "code",
   "execution_count": 24,
   "id": "52f3d680-a0e0-4839-adca-9031852a1c6e",
   "metadata": {
    "collapsed": true,
    "jupyter": {
     "outputs_hidden": true
    },
    "tags": []
   },
   "outputs": [
    {
     "name": "stdout",
     "output_type": "stream",
     "text": [
      "Epoch 1/60\n",
      "25/25 [==============================] - 2s 56ms/step - loss: 0.3225 - mean_squared_error: 0.3225 - val_loss: 0.4487 - val_mean_squared_error: 0.4487\n",
      "Epoch 2/60\n",
      "25/25 [==============================] - 1s 50ms/step - loss: 0.3205 - mean_squared_error: 0.3205 - val_loss: 0.4323 - val_mean_squared_error: 0.4323\n",
      "Epoch 3/60\n",
      "25/25 [==============================] - 1s 51ms/step - loss: 0.2980 - mean_squared_error: 0.2980 - val_loss: 0.4091 - val_mean_squared_error: 0.4091\n",
      "Epoch 4/60\n",
      "25/25 [==============================] - 1s 50ms/step - loss: 0.2969 - mean_squared_error: 0.2969 - val_loss: 0.3564 - val_mean_squared_error: 0.3564\n",
      "Epoch 5/60\n",
      "25/25 [==============================] - 1s 52ms/step - loss: 0.2270 - mean_squared_error: 0.2270 - val_loss: 0.1803 - val_mean_squared_error: 0.1803\n",
      "Epoch 6/60\n",
      "25/25 [==============================] - 1s 50ms/step - loss: 0.1350 - mean_squared_error: 0.1350 - val_loss: 0.1357 - val_mean_squared_error: 0.1357\n",
      "Epoch 7/60\n",
      "25/25 [==============================] - 1s 51ms/step - loss: 0.1038 - mean_squared_error: 0.1038 - val_loss: 0.1078 - val_mean_squared_error: 0.1078\n",
      "Epoch 8/60\n",
      "25/25 [==============================] - 1s 51ms/step - loss: 0.0782 - mean_squared_error: 0.0782 - val_loss: 0.0824 - val_mean_squared_error: 0.0824\n",
      "Epoch 9/60\n",
      "25/25 [==============================] - 1s 50ms/step - loss: 0.0623 - mean_squared_error: 0.0623 - val_loss: 0.0605 - val_mean_squared_error: 0.0605\n",
      "Epoch 10/60\n",
      "25/25 [==============================] - 1s 50ms/step - loss: 0.0444 - mean_squared_error: 0.0444 - val_loss: 0.0444 - val_mean_squared_error: 0.0444\n",
      "Epoch 11/60\n",
      "25/25 [==============================] - 1s 50ms/step - loss: 0.0323 - mean_squared_error: 0.0323 - val_loss: 0.0326 - val_mean_squared_error: 0.0326\n",
      "Epoch 12/60\n",
      "25/25 [==============================] - 1s 50ms/step - loss: 0.0221 - mean_squared_error: 0.0221 - val_loss: 0.0248 - val_mean_squared_error: 0.0248\n",
      "Epoch 13/60\n",
      "25/25 [==============================] - 1s 50ms/step - loss: 0.0142 - mean_squared_error: 0.0142 - val_loss: 0.0197 - val_mean_squared_error: 0.0197\n",
      "Epoch 14/60\n",
      "25/25 [==============================] - 1s 50ms/step - loss: 0.0101 - mean_squared_error: 0.0101 - val_loss: 0.0154 - val_mean_squared_error: 0.0154\n",
      "Epoch 15/60\n",
      "25/25 [==============================] - 1s 49ms/step - loss: 0.0079 - mean_squared_error: 0.0079 - val_loss: 0.0168 - val_mean_squared_error: 0.0168\n",
      "Epoch 16/60\n",
      "25/25 [==============================] - 1s 50ms/step - loss: 0.0063 - mean_squared_error: 0.0063 - val_loss: 0.0145 - val_mean_squared_error: 0.0145\n",
      "Epoch 17/60\n",
      "25/25 [==============================] - 1s 50ms/step - loss: 0.0056 - mean_squared_error: 0.0056 - val_loss: 0.0137 - val_mean_squared_error: 0.0137\n",
      "Epoch 18/60\n",
      "25/25 [==============================] - 1s 50ms/step - loss: 0.0050 - mean_squared_error: 0.0050 - val_loss: 0.0134 - val_mean_squared_error: 0.0134\n",
      "Epoch 19/60\n",
      "25/25 [==============================] - 1s 51ms/step - loss: 0.0048 - mean_squared_error: 0.0048 - val_loss: 0.0127 - val_mean_squared_error: 0.0127\n",
      "Epoch 20/60\n",
      "25/25 [==============================] - 1s 50ms/step - loss: 0.0047 - mean_squared_error: 0.0047 - val_loss: 0.0146 - val_mean_squared_error: 0.0146\n",
      "Epoch 21/60\n",
      "25/25 [==============================] - 1s 50ms/step - loss: 0.0043 - mean_squared_error: 0.0043 - val_loss: 0.0122 - val_mean_squared_error: 0.0122\n",
      "Epoch 22/60\n",
      "25/25 [==============================] - 1s 50ms/step - loss: 0.0043 - mean_squared_error: 0.0043 - val_loss: 0.0133 - val_mean_squared_error: 0.0133\n",
      "Epoch 23/60\n",
      "25/25 [==============================] - 1s 50ms/step - loss: 0.0041 - mean_squared_error: 0.0041 - val_loss: 0.0132 - val_mean_squared_error: 0.0132\n",
      "Epoch 24/60\n",
      "25/25 [==============================] - 1s 50ms/step - loss: 0.0043 - mean_squared_error: 0.0043 - val_loss: 0.0138 - val_mean_squared_error: 0.0138\n",
      "Epoch 25/60\n",
      "25/25 [==============================] - 1s 50ms/step - loss: 0.0042 - mean_squared_error: 0.0042 - val_loss: 0.0131 - val_mean_squared_error: 0.0131\n",
      "Epoch 26/60\n",
      "25/25 [==============================] - 1s 50ms/step - loss: 0.0041 - mean_squared_error: 0.0041 - val_loss: 0.0129 - val_mean_squared_error: 0.0129\n",
      "Epoch 27/60\n",
      "25/25 [==============================] - 1s 50ms/step - loss: 0.0041 - mean_squared_error: 0.0041 - val_loss: 0.0133 - val_mean_squared_error: 0.0133\n",
      "Epoch 28/60\n",
      "25/25 [==============================] - 1s 51ms/step - loss: 0.0039 - mean_squared_error: 0.0039 - val_loss: 0.0128 - val_mean_squared_error: 0.0128\n",
      "Epoch 29/60\n",
      "25/25 [==============================] - 1s 49ms/step - loss: 0.0041 - mean_squared_error: 0.0041 - val_loss: 0.0134 - val_mean_squared_error: 0.0134\n",
      "Epoch 30/60\n",
      "25/25 [==============================] - 1s 49ms/step - loss: 0.0041 - mean_squared_error: 0.0041 - val_loss: 0.0139 - val_mean_squared_error: 0.0139\n",
      "Epoch 31/60\n",
      "25/25 [==============================] - 1s 49ms/step - loss: 0.0039 - mean_squared_error: 0.0039 - val_loss: 0.0146 - val_mean_squared_error: 0.0146\n",
      "Epoch 32/60\n",
      "25/25 [==============================] - 1s 50ms/step - loss: 0.0041 - mean_squared_error: 0.0041 - val_loss: 0.0139 - val_mean_squared_error: 0.0139\n",
      "Epoch 33/60\n",
      "25/25 [==============================] - 1s 49ms/step - loss: 0.0039 - mean_squared_error: 0.0039 - val_loss: 0.0134 - val_mean_squared_error: 0.0134\n",
      "Epoch 34/60\n",
      "25/25 [==============================] - 1s 49ms/step - loss: 0.0038 - mean_squared_error: 0.0038 - val_loss: 0.0131 - val_mean_squared_error: 0.0131\n",
      "Epoch 35/60\n",
      "25/25 [==============================] - 1s 49ms/step - loss: 0.0038 - mean_squared_error: 0.0038 - val_loss: 0.0130 - val_mean_squared_error: 0.0130\n",
      "Epoch 36/60\n",
      "25/25 [==============================] - 1s 50ms/step - loss: 0.0037 - mean_squared_error: 0.0037 - val_loss: 0.0137 - val_mean_squared_error: 0.0137\n",
      "Epoch 37/60\n",
      "25/25 [==============================] - 1s 49ms/step - loss: 0.0038 - mean_squared_error: 0.0038 - val_loss: 0.0124 - val_mean_squared_error: 0.0124\n",
      "Epoch 38/60\n",
      "25/25 [==============================] - 1s 50ms/step - loss: 0.0037 - mean_squared_error: 0.0037 - val_loss: 0.0133 - val_mean_squared_error: 0.0133\n",
      "Epoch 39/60\n",
      "25/25 [==============================] - 1s 49ms/step - loss: 0.0037 - mean_squared_error: 0.0037 - val_loss: 0.0147 - val_mean_squared_error: 0.0147\n",
      "Epoch 40/60\n",
      "25/25 [==============================] - 1s 49ms/step - loss: 0.0037 - mean_squared_error: 0.0037 - val_loss: 0.0143 - val_mean_squared_error: 0.0143\n",
      "Epoch 41/60\n",
      "25/25 [==============================] - 1s 50ms/step - loss: 0.0035 - mean_squared_error: 0.0035 - val_loss: 0.0138 - val_mean_squared_error: 0.0138\n",
      "Epoch 42/60\n",
      "25/25 [==============================] - 1s 49ms/step - loss: 0.0036 - mean_squared_error: 0.0036 - val_loss: 0.0126 - val_mean_squared_error: 0.0126\n",
      "Epoch 43/60\n",
      "25/25 [==============================] - 1s 50ms/step - loss: 0.0038 - mean_squared_error: 0.0038 - val_loss: 0.0133 - val_mean_squared_error: 0.0133\n",
      "Epoch 44/60\n",
      "25/25 [==============================] - 1s 50ms/step - loss: 0.0035 - mean_squared_error: 0.0035 - val_loss: 0.0131 - val_mean_squared_error: 0.0131\n",
      "Epoch 45/60\n",
      "25/25 [==============================] - 1s 50ms/step - loss: 0.0036 - mean_squared_error: 0.0036 - val_loss: 0.0142 - val_mean_squared_error: 0.0142\n",
      "Epoch 46/60\n",
      "25/25 [==============================] - 1s 50ms/step - loss: 0.0036 - mean_squared_error: 0.0036 - val_loss: 0.0113 - val_mean_squared_error: 0.0113\n",
      "Epoch 47/60\n",
      "25/25 [==============================] - 1s 50ms/step - loss: 0.0037 - mean_squared_error: 0.0037 - val_loss: 0.0119 - val_mean_squared_error: 0.0119\n",
      "Epoch 48/60\n",
      "25/25 [==============================] - 1s 51ms/step - loss: 0.0034 - mean_squared_error: 0.0034 - val_loss: 0.0118 - val_mean_squared_error: 0.0118\n",
      "Epoch 49/60\n",
      "25/25 [==============================] - 1s 50ms/step - loss: 0.0037 - mean_squared_error: 0.0037 - val_loss: 0.0132 - val_mean_squared_error: 0.0132\n",
      "Epoch 50/60\n",
      "25/25 [==============================] - 1s 49ms/step - loss: 0.0035 - mean_squared_error: 0.0035 - val_loss: 0.0146 - val_mean_squared_error: 0.0146\n",
      "Epoch 51/60\n",
      "25/25 [==============================] - 1s 51ms/step - loss: 0.0035 - mean_squared_error: 0.0035 - val_loss: 0.0126 - val_mean_squared_error: 0.0126\n",
      "Epoch 52/60\n",
      "25/25 [==============================] - 1s 50ms/step - loss: 0.0032 - mean_squared_error: 0.0032 - val_loss: 0.0123 - val_mean_squared_error: 0.0123\n",
      "Epoch 53/60\n",
      "25/25 [==============================] - 1s 51ms/step - loss: 0.0035 - mean_squared_error: 0.0035 - val_loss: 0.0125 - val_mean_squared_error: 0.0125\n",
      "Epoch 54/60\n",
      "25/25 [==============================] - 1s 50ms/step - loss: 0.0034 - mean_squared_error: 0.0034 - val_loss: 0.0138 - val_mean_squared_error: 0.0138\n",
      "Epoch 55/60\n",
      "25/25 [==============================] - 1s 51ms/step - loss: 0.0034 - mean_squared_error: 0.0034 - val_loss: 0.0135 - val_mean_squared_error: 0.0135\n",
      "Epoch 56/60\n",
      "25/25 [==============================] - 1s 50ms/step - loss: 0.0035 - mean_squared_error: 0.0035 - val_loss: 0.0117 - val_mean_squared_error: 0.0117\n",
      "Epoch 57/60\n",
      "25/25 [==============================] - 1s 50ms/step - loss: 0.0035 - mean_squared_error: 0.0035 - val_loss: 0.0133 - val_mean_squared_error: 0.0133\n",
      "Epoch 58/60\n",
      "25/25 [==============================] - 1s 50ms/step - loss: 0.0034 - mean_squared_error: 0.0034 - val_loss: 0.0129 - val_mean_squared_error: 0.0129\n",
      "Epoch 59/60\n",
      "25/25 [==============================] - 1s 50ms/step - loss: 0.0032 - mean_squared_error: 0.0032 - val_loss: 0.0142 - val_mean_squared_error: 0.0142\n",
      "Epoch 60/60\n",
      "25/25 [==============================] - 1s 50ms/step - loss: 0.0033 - mean_squared_error: 0.0033 - val_loss: 0.0137 - val_mean_squared_error: 0.0137\n"
     ]
    }
   ],
   "source": [
    "history2 = model2.fit(x_train, y_train, epochs=60 , steps_per_epoch=25, verbose=1,\n",
    "         validation_data=(x_val, y_val))"
   ]
  },
  {
   "cell_type": "code",
   "execution_count": 25,
   "id": "b5a97986-c1b2-48d0-a90e-9d3e1ae35b9b",
   "metadata": {},
   "outputs": [
    {
     "name": "stdout",
     "output_type": "stream",
     "text": [
      "Model: \"sequential_1\"\n",
      "_________________________________________________________________\n",
      "Layer (type)                 Output Shape              Param #   \n",
      "=================================================================\n",
      "lstm_2 (LSTM)                (None, 60, 50)            10400     \n",
      "_________________________________________________________________\n",
      "lstm_3 (LSTM)                (None, 50)                20200     \n",
      "_________________________________________________________________\n",
      "dense_1 (Dense)              (None, 30)                1530      \n",
      "_________________________________________________________________\n",
      "activation (Activation)      (None, 30)                0         \n",
      "=================================================================\n",
      "Total params: 32,130\n",
      "Trainable params: 32,130\n",
      "Non-trainable params: 0\n",
      "_________________________________________________________________\n"
     ]
    }
   ],
   "source": [
    "model2.summary()"
   ]
  },
  {
   "cell_type": "code",
   "execution_count": 26,
   "id": "6faf7c37-12e1-4878-8ed5-07efaae40c45",
   "metadata": {},
   "outputs": [
    {
     "data": {
      "image/png": "[encoded data removed]",
      "text/plain": [
       "<Figure size 432x288 with 1 Axes>"
      ]
     },
     "metadata": {
      "needs_background": "light"
     },
     "output_type": "display_data"
    }
   ],
   "source": [
    "plt.plot(history2.history['loss'])\n",
    "plt.plot(history2.history['val_loss'])\n",
    "plt.xlabel('Epochs')\n",
    "plt.ylabel('MSE')\n",
    "plt.legend(['Train','Val']);"
   ]
  },
  {
   "cell_type": "code",
   "execution_count": 27,
   "id": "1a293f89-059e-4cbb-9ebe-3ce9792da2e8",
   "metadata": {},
   "outputs": [
    {
     "data": {
      "image/png": "[encoded data removed]",
      "text/plain": [
       "<Figure size 432x288 with 1 Axes>"
      ]
     },
     "metadata": {
      "needs_background": "light"
     },
     "output_type": "display_data"
    }
   ],
   "source": [
    "plt.plot(history2.history['mean_squared_error'])\n",
    "plt.plot(history2.history['val_mean_squared_error'])\n",
    "plt.xlabel('Epochs')\n",
    "plt.ylabel('MSE')\n",
    "plt.legend(['Train','Val']);"
   ]
  },
  {
   "cell_type": "markdown",
   "id": "12a8e527-e529-467d-b3b6-f03c37d8464f",
   "metadata": {},
   "source": [
    "## Model1 Evaluation"
   ]
  },
  {
   "cell_type": "code",
   "execution_count": 51,
   "id": "7f2ddf1a-efe7-4011-be82-8494bd19cc70",
   "metadata": {},
   "outputs": [],
   "source": [
    "# make a forecast\n",
    "def forecast(model, history, n_input):\n",
    "    # flatten data\n",
    "    data = np.array(history)\n",
    "    # retrieve last observations for input data\n",
    "    input_x = data[-n_input:, 0]\n",
    "    # reshape into [1, n_input, 1]\n",
    "    input_x = input_x.reshape((1, len(input_x), 1))\n",
    "\n",
    "    yhat = model.predict(input_x, verbose=0)\n",
    "    # we only want the vector forecast\n",
    "    yhat = yhat[0]\n",
    "    return yhat\n"
   ]
  },
  {
   "cell_type": "code",
   "execution_count": 52,
   "id": "ad808843-9f3f-41d1-943d-9fe2305d0d35",
   "metadata": {},
   "outputs": [],
   "source": [
    "n_input = 60\n",
    "\n",
    "# history is a list of weekly data\n",
    "history = [x for x in train_data]\n",
    "# walk-forward validation over each week\n",
    "predictions1 = list()\n",
    "for i in range(len(test_data)):\n",
    "    # predict the week\n",
    "    yhat_sequence = forecast(model1, history, n_input)\n",
    "    # store the predictions\n",
    "    predictions1.append(yhat_sequence)\n",
    "    # get real observation and add to history for predicting the next week\n",
    "    history.append(test_data[i, :])\n",
    "    \n",
    "# evaluate predictions days for each week\n",
    "predictions1 = np.array(predictions1)\n"
   ]
  },
  {
   "cell_type": "code",
   "execution_count": 53,
   "id": "d5e31d0b-1c0f-4143-ba34-8efc7c448a83",
   "metadata": {},
   "outputs": [
    {
     "name": "stdout",
     "output_type": "stream",
     "text": [
      "RMSE：0.0284\n"
     ]
    }
   ],
   "source": [
    "rmse1 = np.sqrt(np.mean(((predictions1 -test_data) ** 2)))\n",
    "print(f'RMSE：{np.round(rmse1, 4)}')"
   ]
  },
  {
   "cell_type": "code",
   "execution_count": 54,
   "id": "b221bc16-d6f5-444d-a054-0477ddfb2a60",
   "metadata": {},
   "outputs": [],
   "source": [
    "predictions_inv1 = scaler.inverse_transform(predictions1)"
   ]
  },
  {
   "cell_type": "code",
   "execution_count": 55,
   "id": "a449e2dc-5d62-46e9-b59d-0e372e06ece7",
   "metadata": {},
   "outputs": [],
   "source": [
    "test_inv = scaler.inverse_transform(test_data)"
   ]
  },
  {
   "cell_type": "code",
   "execution_count": 56,
   "id": "8a1b9ef2-c8bd-4364-93b9-b8b776ede17c",
   "metadata": {},
   "outputs": [
    {
     "name": "stdout",
     "output_type": "stream",
     "text": [
      "RMSE：1.6613\n"
     ]
    }
   ],
   "source": [
    "rmse1 = np.sqrt(np.mean(((predictions_inv1 -test_inv) ** 2)))\n",
    "print(f'RMSE：{np.round(rmse1, 4)}')"
   ]
  },
  {
   "cell_type": "markdown",
   "id": "3268dd3a-4e56-447f-8ed5-2f04816267e1",
   "metadata": {},
   "source": [
    "## Model1 Evaluation"
   ]
  },
  {
   "cell_type": "code",
   "execution_count": 46,
   "id": "81a3b01b-e928-4c23-95e7-288cf2b793c2",
   "metadata": {},
   "outputs": [],
   "source": [
    "n_input = 60\n",
    "\n",
    "# history is a list of weekly data\n",
    "history = [x for x in train_data]\n",
    "# walk-forward validation over each week\n",
    "predictions2 = list()\n",
    "for i in range(len(test_data)):\n",
    "    # predict the week\n",
    "    yhat_sequence = forecast(model2, history, n_input)\n",
    "    # store the predictions\n",
    "    predictions2.append(yhat_sequence)\n",
    "    # get real observation and add to history for predicting the next week\n",
    "    history.append(test_data[i, :])\n",
    "    \n",
    "# evaluate predictions days for each week\n",
    "predictions2 = np.array(predictions2)"
   ]
  },
  {
   "cell_type": "code",
   "execution_count": 48,
   "id": "93c2de22-34ac-4269-a7af-5a2889b0880e",
   "metadata": {},
   "outputs": [
    {
     "name": "stdout",
     "output_type": "stream",
     "text": [
      "RMSE：0.0502\n"
     ]
    }
   ],
   "source": [
    "rmse1 = np.sqrt(np.mean(((predictions2 -test_data) ** 2)))\n",
    "print(f'RMSE：{np.round(rmse1, 4)}')"
   ]
  },
  {
   "cell_type": "code",
   "execution_count": 49,
   "id": "ef7362db-5f77-4b03-8794-d7a4932e47c0",
   "metadata": {},
   "outputs": [],
   "source": [
    "predictions_inv2 = scaler.inverse_transform(predictions2)"
   ]
  },
  {
   "cell_type": "code",
   "execution_count": 50,
   "id": "9c3721e6-6cb6-4c82-8570-081dfe97cf9e",
   "metadata": {},
   "outputs": [
    {
     "name": "stdout",
     "output_type": "stream",
     "text": [
      "RMSE：2.9319\n"
     ]
    }
   ],
   "source": [
    "rmse1 = np.sqrt(np.mean(((predictions_inv2 -test_inv) ** 2)))\n",
    "print(f'RMSE：{np.round(rmse1, 4)}')"
   ]
  },
  {
   "cell_type": "markdown",
   "id": "96b3a790-38fe-4db5-8067-ef0c4b1f3bbb",
   "metadata": {
    "tags": []
   },
   "source": [
    "## Plot evaluation"
   ]
  },
  {
   "cell_type": "code",
   "execution_count": 38,
   "id": "3d0223d7-a0cc-494d-a9ec-f451275e1699",
   "metadata": {},
   "outputs": [],
   "source": [
    "#split data\n",
    "train = data[:training_data_len]\n",
    "test = data[training_data_len:]"
   ]
  },
  {
   "cell_type": "code",
   "execution_count": 57,
   "id": "a91fdabe-12af-477d-8e05-6a0448d0aa53",
   "metadata": {},
   "outputs": [],
   "source": [
    "test['Predictions'] =predictions_inv1"
   ]
  },
  {
   "cell_type": "code",
   "execution_count": 58,
   "id": "31156872-e483-4e45-a1a1-5fa927c1d65d",
   "metadata": {},
   "outputs": [
    {
     "data": {
      "image/png": "[encoded data removed]",
      "text/plain": [
       "<Figure size 1152x432 with 1 Axes>"
      ]
     },
     "metadata": {
      "needs_background": "light"
     },
     "output_type": "display_data"
    }
   ],
   "source": [
    "# Visualize the data\n",
    "plt.figure(figsize=(16,6))\n",
    "plt.title('Model')\n",
    "plt.xlabel('Date', fontsize=18)\n",
    "plt.ylabel('Close Price USD ($)', fontsize=18)\n",
    "plt.plot(train['Close'])\n",
    "plt.plot(test[['Close','Predictions']])\n",
    "plt.legend(['Train', 'Test', 'Predictions'], loc='lower right')\n",
    "plt.show()"
   ]
  },
  {
   "cell_type": "code",
   "execution_count": 41,
   "id": "8eca3893-7e1f-4246-8fd7-0137e5f0cdb3",
   "metadata": {},
   "outputs": [
    {
     "data": {
      "text/html": [
       "<div>\n",
       "<style scoped>\n",
       "    .dataframe tbody tr th:only-of-type {\n",
       "        vertical-align: middle;\n",
       "    }\n",
       "\n",
       "    .dataframe tbody tr th {\n",
       "        vertical-align: top;\n",
       "    }\n",
       "\n",
       "    .dataframe thead th {\n",
       "        text-align: right;\n",
       "    }\n",
       "</style>\n",
       "<table border=\"1\" class=\"dataframe\">\n",
       "  <thead>\n",
       "    <tr style=\"text-align: right;\">\n",
       "      <th></th>\n",
       "      <th>Close</th>\n",
       "      <th>Predictions</th>\n",
       "    </tr>\n",
       "    <tr>\n",
       "      <th>Date</th>\n",
       "      <th></th>\n",
       "      <th></th>\n",
       "    </tr>\n",
       "  </thead>\n",
       "  <tbody>\n",
       "    <tr>\n",
       "      <th>2020-09-24</th>\n",
       "      <td>36.860001</td>\n",
       "      <td>40.001598</td>\n",
       "    </tr>\n",
       "    <tr>\n",
       "      <th>2020-09-25</th>\n",
       "      <td>37.099998</td>\n",
       "      <td>39.609268</td>\n",
       "    </tr>\n",
       "    <tr>\n",
       "      <th>2020-09-28</th>\n",
       "      <td>38.240002</td>\n",
       "      <td>39.333157</td>\n",
       "    </tr>\n",
       "    <tr>\n",
       "      <th>2020-09-29</th>\n",
       "      <td>37.610001</td>\n",
       "      <td>39.315624</td>\n",
       "    </tr>\n",
       "    <tr>\n",
       "      <th>2020-09-30</th>\n",
       "      <td>37.500000</td>\n",
       "      <td>39.197258</td>\n",
       "    </tr>\n",
       "    <tr>\n",
       "      <th>...</th>\n",
       "      <td>...</td>\n",
       "      <td>...</td>\n",
       "    </tr>\n",
       "    <tr>\n",
       "      <th>2021-09-03</th>\n",
       "      <td>48.860001</td>\n",
       "      <td>49.701546</td>\n",
       "    </tr>\n",
       "    <tr>\n",
       "      <th>2021-09-07</th>\n",
       "      <td>48.529999</td>\n",
       "      <td>49.534573</td>\n",
       "    </tr>\n",
       "    <tr>\n",
       "      <th>2021-09-08</th>\n",
       "      <td>48.119999</td>\n",
       "      <td>49.333912</td>\n",
       "    </tr>\n",
       "    <tr>\n",
       "      <th>2021-09-09</th>\n",
       "      <td>49.230000</td>\n",
       "      <td>49.091717</td>\n",
       "    </tr>\n",
       "    <tr>\n",
       "      <th>2021-09-10</th>\n",
       "      <td>47.900002</td>\n",
       "      <td>49.104172</td>\n",
       "    </tr>\n",
       "  </tbody>\n",
       "</table>\n",
       "<p>243 rows × 2 columns</p>\n",
       "</div>"
      ],
      "text/plain": [
       "                Close  Predictions\n",
       "Date                              \n",
       "2020-09-24  36.860001    40.001598\n",
       "2020-09-25  37.099998    39.609268\n",
       "2020-09-28  38.240002    39.333157\n",
       "2020-09-29  37.610001    39.315624\n",
       "2020-09-30  37.500000    39.197258\n",
       "...               ...          ...\n",
       "2021-09-03  48.860001    49.701546\n",
       "2021-09-07  48.529999    49.534573\n",
       "2021-09-08  48.119999    49.333912\n",
       "2021-09-09  49.230000    49.091717\n",
       "2021-09-10  47.900002    49.104172\n",
       "\n",
       "[243 rows x 2 columns]"
      ]
     },
     "execution_count": 41,
     "metadata": {},
     "output_type": "execute_result"
    }
   ],
   "source": [
    "test"
   ]
  }
 ],
 "metadata": {
  "kernelspec": {
   "display_name": "tf_env",
   "language": "python",
   "name": "tf_env"
  },
  "language_info": {
   "codemirror_mode": {
    "name": "ipython",
    "version": 3
   },
   "file_extension": ".py",
   "mimetype": "text/x-python",
   "name": "python",
   "nbconvert_exporter": "python",
   "pygments_lexer": "ipython3",
   "version": "3.8.11"
  }
 },
 "nbformat": 4,
 "nbformat_minor": 5
}
