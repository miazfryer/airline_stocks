{
 "cells": [
  {
   "cell_type": "code",
   "execution_count": 58,
   "id": "565951fd-8a05-4a12-8916-536255ae7b69",
   "metadata": {},
   "outputs": [],
   "source": [
    "#basic\n",
    "import pandas as pd\n",
    "import numpy as np\n",
    "\n",
    "#plot\n",
    "import matplotlib.pyplot as plt\n",
    "import seaborn as sns\n",
    "sns.set_style('whitegrid')\n",
    "plt.style.use(\"fivethirtyeight\")\n",
    "%matplotlib inline\n",
    "\n",
    "\n",
    "# For reading stock data \n",
    "from pandas_datareader.data import DataReader\n",
    "\n",
    "# For time stamps\n",
    "from datetime import datetime\n",
    "\n",
    "#for evaluation\n",
    "from statsmodels.graphics.tsaplots import plot_acf, plot_pacf\n",
    "from sklearn.metrics import mean_squared_error, mean_absolute_error\n",
    "\n",
    "#for modeling\n",
    "from sklearn.preprocessing import MinMaxScaler\n",
    "from tensorflow.keras.models import Sequential\n",
    "from tensorflow.keras.layers import Dense, Dropout, LSTM, RepeatVector, TimeDistributed, Bidirectional\n",
    "from tensorflow.keras.callbacks import EarlyStopping, ReduceLROnPlateau\n",
    "\n",
    "import warnings\n",
    "warnings.filterwarnings('ignore')\n",
    "\n",
    "from statsmodels.tsa.arima_model import ARIMA\n",
    "from pmdarima.arima import auto_arima\n",
    "\n",
    "np.random.seed(123)"
   ]
  },
  {
   "cell_type": "markdown",
   "id": "f54c05aa-8d97-4cd3-890a-6b3fcd81c1c8",
   "metadata": {},
   "source": [
    "# Load Data"
   ]
  },
  {
   "cell_type": "code",
   "execution_count": 59,
   "id": "25ea72e6-4387-46ba-b61c-5e598c2603dd",
   "metadata": {},
   "outputs": [
    {
     "data": {
      "text/html": [
       "<div>\n",
       "<style scoped>\n",
       "    .dataframe tbody tr th:only-of-type {\n",
       "        vertical-align: middle;\n",
       "    }\n",
       "\n",
       "    .dataframe tbody tr th {\n",
       "        vertical-align: top;\n",
       "    }\n",
       "\n",
       "    .dataframe thead th {\n",
       "        text-align: right;\n",
       "    }\n",
       "</style>\n",
       "<table border=\"1\" class=\"dataframe\">\n",
       "  <thead>\n",
       "    <tr style=\"text-align: right;\">\n",
       "      <th></th>\n",
       "      <th>High</th>\n",
       "      <th>Low</th>\n",
       "      <th>Open</th>\n",
       "      <th>Close</th>\n",
       "      <th>Volume</th>\n",
       "      <th>Adj Close</th>\n",
       "    </tr>\n",
       "    <tr>\n",
       "      <th>Date</th>\n",
       "      <th></th>\n",
       "      <th></th>\n",
       "      <th></th>\n",
       "      <th></th>\n",
       "      <th></th>\n",
       "      <th></th>\n",
       "    </tr>\n",
       "  </thead>\n",
       "  <tbody>\n",
       "    <tr>\n",
       "      <th>2012-01-03</th>\n",
       "      <td>5.220000</td>\n",
       "      <td>5.070000</td>\n",
       "      <td>5.200000</td>\n",
       "      <td>5.120000</td>\n",
       "      <td>6105900.0</td>\n",
       "      <td>4.826837</td>\n",
       "    </tr>\n",
       "    <tr>\n",
       "      <th>2012-01-04</th>\n",
       "      <td>5.180000</td>\n",
       "      <td>4.970000</td>\n",
       "      <td>5.090000</td>\n",
       "      <td>5.030000</td>\n",
       "      <td>5268700.0</td>\n",
       "      <td>4.741990</td>\n",
       "    </tr>\n",
       "    <tr>\n",
       "      <th>2012-01-05</th>\n",
       "      <td>5.480000</td>\n",
       "      <td>5.070000</td>\n",
       "      <td>5.150000</td>\n",
       "      <td>5.470000</td>\n",
       "      <td>8216100.0</td>\n",
       "      <td>5.156795</td>\n",
       "    </tr>\n",
       "    <tr>\n",
       "      <th>2012-01-06</th>\n",
       "      <td>5.670000</td>\n",
       "      <td>5.400000</td>\n",
       "      <td>5.440000</td>\n",
       "      <td>5.600000</td>\n",
       "      <td>8323000.0</td>\n",
       "      <td>5.279352</td>\n",
       "    </tr>\n",
       "    <tr>\n",
       "      <th>2012-01-09</th>\n",
       "      <td>5.800000</td>\n",
       "      <td>5.550000</td>\n",
       "      <td>5.560000</td>\n",
       "      <td>5.720000</td>\n",
       "      <td>8029900.0</td>\n",
       "      <td>5.392481</td>\n",
       "    </tr>\n",
       "    <tr>\n",
       "      <th>...</th>\n",
       "      <td>...</td>\n",
       "      <td>...</td>\n",
       "      <td>...</td>\n",
       "      <td>...</td>\n",
       "      <td>...</td>\n",
       "      <td>...</td>\n",
       "    </tr>\n",
       "    <tr>\n",
       "      <th>2021-08-31</th>\n",
       "      <td>20.020000</td>\n",
       "      <td>19.360001</td>\n",
       "      <td>19.469999</td>\n",
       "      <td>19.940001</td>\n",
       "      <td>24993200.0</td>\n",
       "      <td>19.940001</td>\n",
       "    </tr>\n",
       "    <tr>\n",
       "      <th>2021-09-01</th>\n",
       "      <td>20.100000</td>\n",
       "      <td>19.530001</td>\n",
       "      <td>20.010000</td>\n",
       "      <td>19.639999</td>\n",
       "      <td>20843200.0</td>\n",
       "      <td>19.639999</td>\n",
       "    </tr>\n",
       "    <tr>\n",
       "      <th>2021-09-02</th>\n",
       "      <td>19.980000</td>\n",
       "      <td>19.480000</td>\n",
       "      <td>19.730000</td>\n",
       "      <td>19.760000</td>\n",
       "      <td>20179400.0</td>\n",
       "      <td>19.760000</td>\n",
       "    </tr>\n",
       "    <tr>\n",
       "      <th>2021-09-03</th>\n",
       "      <td>19.930000</td>\n",
       "      <td>19.320000</td>\n",
       "      <td>19.680000</td>\n",
       "      <td>19.370001</td>\n",
       "      <td>20311900.0</td>\n",
       "      <td>19.370001</td>\n",
       "    </tr>\n",
       "    <tr>\n",
       "      <th>2021-09-07</th>\n",
       "      <td>19.579901</td>\n",
       "      <td>19.209999</td>\n",
       "      <td>19.360001</td>\n",
       "      <td>19.366199</td>\n",
       "      <td>8335255.0</td>\n",
       "      <td>19.366199</td>\n",
       "    </tr>\n",
       "  </tbody>\n",
       "</table>\n",
       "<p>2436 rows × 6 columns</p>\n",
       "</div>"
      ],
      "text/plain": [
       "                 High        Low       Open      Close      Volume  Adj Close\n",
       "Date                                                                         \n",
       "2012-01-03   5.220000   5.070000   5.200000   5.120000   6105900.0   4.826837\n",
       "2012-01-04   5.180000   4.970000   5.090000   5.030000   5268700.0   4.741990\n",
       "2012-01-05   5.480000   5.070000   5.150000   5.470000   8216100.0   5.156795\n",
       "2012-01-06   5.670000   5.400000   5.440000   5.600000   8323000.0   5.279352\n",
       "2012-01-09   5.800000   5.550000   5.560000   5.720000   8029900.0   5.392481\n",
       "...               ...        ...        ...        ...         ...        ...\n",
       "2021-08-31  20.020000  19.360001  19.469999  19.940001  24993200.0  19.940001\n",
       "2021-09-01  20.100000  19.530001  20.010000  19.639999  20843200.0  19.639999\n",
       "2021-09-02  19.980000  19.480000  19.730000  19.760000  20179400.0  19.760000\n",
       "2021-09-03  19.930000  19.320000  19.680000  19.370001  20311900.0  19.370001\n",
       "2021-09-07  19.579901  19.209999  19.360001  19.366199   8335255.0  19.366199\n",
       "\n",
       "[2436 rows x 6 columns]"
      ]
     },
     "execution_count": 59,
     "metadata": {},
     "output_type": "execute_result"
    }
   ],
   "source": [
    "df = DataReader('AAL', data_source='yahoo', start='2012-01-01', end=datetime.now())\n",
    "df"
   ]
  },
  {
   "cell_type": "markdown",
   "id": "33522a7a-ca22-4488-855f-31d8ecf7aeb3",
   "metadata": {},
   "source": [
    "# Modeling"
   ]
  },
  {
   "cell_type": "code",
   "execution_count": 60,
   "id": "39729648-c261-4f43-9d84-bb5e7247d8cf",
   "metadata": {},
   "outputs": [
    {
     "data": {
      "image/png": "[encoded data removed]",
      "text/plain": [
       "<Figure size 1152x432 with 1 Axes>"
      ]
     },
     "metadata": {
      "needs_background": "light"
     },
     "output_type": "display_data"
    }
   ],
   "source": [
    "plt.figure(figsize=(16,6))\n",
    "plt.title('Close Price History')\n",
    "plt.plot(df['Close'])\n",
    "plt.xlabel('Date', fontsize=18)\n",
    "plt.ylabel('Close Price USD ($)', fontsize=18)\n",
    "plt.show()"
   ]
  },
  {
   "cell_type": "code",
   "execution_count": 61,
   "id": "05f3aa74-0e5e-47cd-b2d0-cea8cb0142e2",
   "metadata": {},
   "outputs": [
    {
     "data": {
      "text/html": [
       "<div>\n",
       "<style scoped>\n",
       "    .dataframe tbody tr th:only-of-type {\n",
       "        vertical-align: middle;\n",
       "    }\n",
       "\n",
       "    .dataframe tbody tr th {\n",
       "        vertical-align: top;\n",
       "    }\n",
       "\n",
       "    .dataframe thead th {\n",
       "        text-align: right;\n",
       "    }\n",
       "</style>\n",
       "<table border=\"1\" class=\"dataframe\">\n",
       "  <thead>\n",
       "    <tr style=\"text-align: right;\">\n",
       "      <th></th>\n",
       "      <th>Close</th>\n",
       "    </tr>\n",
       "    <tr>\n",
       "      <th>Date</th>\n",
       "      <th></th>\n",
       "    </tr>\n",
       "  </thead>\n",
       "  <tbody>\n",
       "    <tr>\n",
       "      <th>2012-01-03</th>\n",
       "      <td>5.120000</td>\n",
       "    </tr>\n",
       "    <tr>\n",
       "      <th>2012-01-04</th>\n",
       "      <td>5.030000</td>\n",
       "    </tr>\n",
       "    <tr>\n",
       "      <th>2012-01-05</th>\n",
       "      <td>5.470000</td>\n",
       "    </tr>\n",
       "    <tr>\n",
       "      <th>2012-01-06</th>\n",
       "      <td>5.600000</td>\n",
       "    </tr>\n",
       "    <tr>\n",
       "      <th>2012-01-09</th>\n",
       "      <td>5.720000</td>\n",
       "    </tr>\n",
       "    <tr>\n",
       "      <th>...</th>\n",
       "      <td>...</td>\n",
       "    </tr>\n",
       "    <tr>\n",
       "      <th>2021-08-31</th>\n",
       "      <td>19.940001</td>\n",
       "    </tr>\n",
       "    <tr>\n",
       "      <th>2021-09-01</th>\n",
       "      <td>19.639999</td>\n",
       "    </tr>\n",
       "    <tr>\n",
       "      <th>2021-09-02</th>\n",
       "      <td>19.760000</td>\n",
       "    </tr>\n",
       "    <tr>\n",
       "      <th>2021-09-03</th>\n",
       "      <td>19.370001</td>\n",
       "    </tr>\n",
       "    <tr>\n",
       "      <th>2021-09-07</th>\n",
       "      <td>19.366199</td>\n",
       "    </tr>\n",
       "  </tbody>\n",
       "</table>\n",
       "<p>2436 rows × 1 columns</p>\n",
       "</div>"
      ],
      "text/plain": [
       "                Close\n",
       "Date                 \n",
       "2012-01-03   5.120000\n",
       "2012-01-04   5.030000\n",
       "2012-01-05   5.470000\n",
       "2012-01-06   5.600000\n",
       "2012-01-09   5.720000\n",
       "...               ...\n",
       "2021-08-31  19.940001\n",
       "2021-09-01  19.639999\n",
       "2021-09-02  19.760000\n",
       "2021-09-03  19.370001\n",
       "2021-09-07  19.366199\n",
       "\n",
       "[2436 rows x 1 columns]"
      ]
     },
     "execution_count": 61,
     "metadata": {},
     "output_type": "execute_result"
    }
   ],
   "source": [
    "# Create a new dataframe with only the 'Close column\n",
    "#data= AAPL['Close'].values.reshape(-1, 1)\n",
    "data = df.filter(['Close'])\n",
    "data"
   ]
  },
  {
   "cell_type": "code",
   "execution_count": 62,
   "id": "37cc9a8e-0cdd-4791-a4b1-48efea616ae0",
   "metadata": {
    "tags": []
   },
   "outputs": [],
   "source": [
    "# Convert the dataframe to a numpy array\n",
    "dataset = data.values"
   ]
  },
  {
   "cell_type": "code",
   "execution_count": 63,
   "id": "ad86b979-5779-4524-91d0-a0ed81df5182",
   "metadata": {},
   "outputs": [
    {
     "data": {
      "text/plain": [
       "(2436, 1)"
      ]
     },
     "execution_count": 63,
     "metadata": {},
     "output_type": "execute_result"
    }
   ],
   "source": [
    "dataset.shape"
   ]
  },
  {
   "cell_type": "code",
   "execution_count": 64,
   "id": "fefa9a5a-5398-4a4f-91d7-1c3804c12c22",
   "metadata": {},
   "outputs": [],
   "source": [
    "scaler = MinMaxScaler(feature_range=(0,1))\n",
    "scaled_data = scaler.fit_transform(dataset)\n"
   ]
  },
  {
   "cell_type": "code",
   "execution_count": 65,
   "id": "663f013a-668f-4d21-aa32-923fde0e9a93",
   "metadata": {},
   "outputs": [],
   "source": [
    "training_data_len = int(np.ceil( len(dataset) * .9 ))\n",
    "train_data = scaled_data[0:int(training_data_len), :]"
   ]
  },
  {
   "cell_type": "code",
   "execution_count": 66,
   "id": "8002030e-39a0-4f1a-8ee0-d7ee9b87e21f",
   "metadata": {},
   "outputs": [
    {
     "data": {
      "text/plain": [
       "(2193, 1)"
      ]
     },
     "execution_count": 66,
     "metadata": {},
     "output_type": "execute_result"
    }
   ],
   "source": [
    "train_data.shape"
   ]
  },
  {
   "cell_type": "code",
   "execution_count": 67,
   "id": "4dfbf7a6-432b-4374-966e-aa6d5ee80ed0",
   "metadata": {},
   "outputs": [],
   "source": [
    "def train_val(data):\n",
    "    train_size = int(len(data) * 0.8)\n",
    "    train = data[0:train_size]\n",
    "    val= data[train_size:len(data)]\n",
    "    return train, val"
   ]
  },
  {
   "cell_type": "code",
   "execution_count": 68,
   "id": "ae67d86a-26c4-4dc3-9264-c7e636f499e3",
   "metadata": {},
   "outputs": [],
   "source": [
    "train_1, val_1 = train_val(train_data)"
   ]
  },
  {
   "cell_type": "code",
   "execution_count": 69,
   "id": "5553c942-0627-42c2-8607-ee591b59b8d1",
   "metadata": {},
   "outputs": [
    {
     "data": {
      "image/png": "[encoded data removed]",
      "text/plain": [
       "<Figure size 864x576 with 1 Axes>"
      ]
     },
     "metadata": {
      "needs_background": "light"
     },
     "output_type": "display_data"
    }
   ],
   "source": [
    "fig, ax = plt.subplots(figsize=(12, 8))\n",
    "ax.plot(train_1, label='train')\n",
    "ax.plot(val_1, label='test')\n",
    "ax.set_title('Train-Test Split');\n",
    "plt.legend();"
   ]
  },
  {
   "cell_type": "code",
   "execution_count": 70,
   "id": "4c717ee7-f581-4cc0-b843-9220ccbaf5f7",
   "metadata": {},
   "outputs": [],
   "source": [
    "#The LSTM needs data with the format of [samples, time steps and features]\n",
    "#[10 20 30] 40\n",
    "#[20 30 40] 50\n",
    "#[30 40 50] 60\n",
    "#using the size of time step as a batch to predict the next value \n",
    "\n",
    "def split_sequence(sequence, n_steps):\n",
    "#convert input data into 3-D array as required for LSTM network\n",
    "    \n",
    "    X, y = [], []\n",
    "    for i in range(len(sequence)):\n",
    "        # find the end of this pattern\n",
    "        end_ix = i + n_steps\n",
    "        # check if we are beyond the sequence\n",
    "        if end_ix > len(sequence)-1:\n",
    "            break\n",
    "        # gather input and output parts of the pattern\n",
    "        seq_x, seq_y = sequence[i:end_ix], sequence[end_ix]\n",
    "        X.append(seq_x)\n",
    "        y.append(seq_y)\n",
    "    return np.array(X), np.array(y)"
   ]
  },
  {
   "cell_type": "code",
   "execution_count": 71,
   "id": "d41938c5-1bff-4335-8412-6203e73602c8",
   "metadata": {},
   "outputs": [],
   "source": [
    "def prepare_training(data, n_steps):\n",
    "    #data = to_dataset(data)\n",
    "    train, val = train_val(data)\n",
    "    x_train, y_train = split_sequence(train, n_steps)\n",
    "    x_val, y_val = split_sequence(val, n_steps)\n",
    "    features = 1\n",
    "    return x_train, y_train, x_val, y_val, features\n"
   ]
  },
  {
   "cell_type": "code",
   "execution_count": 72,
   "id": "8b2004fd-97d0-4453-9b28-5117173bc402",
   "metadata": {},
   "outputs": [],
   "source": [
    "# Model\n",
    "def creat_model1(n_steps, features):\n",
    "    model = Sequential()\n",
    "    model.add(LSTM(128, activation='relu', return_sequences=False, input_shape=(n_steps, features)))\n",
    "    model.add(RepeatVector(n_steps))\n",
    "    model.add(LSTM(128, activation='relu', return_sequences=False))\n",
    "    model.add(Dense(features))\n",
    "    \n",
    "    model.compile(optimizer='adam', loss='mean_squared_error', metrics=['mean_squared_error'])\n",
    "    return model"
   ]
  },
  {
   "cell_type": "code",
   "execution_count": 73,
   "id": "9664a229-118e-458f-a434-33378f193bb1",
   "metadata": {},
   "outputs": [],
   "source": [
    "def creat_model2(n_steps, features):\n",
    "    model = Sequential()\n",
    "    model.add(LSTM(128, return_sequences=True, input_shape= (x_train.shape[1], 1)))\n",
    "    model.add(LSTM(64, return_sequences=False))\n",
    "    model.add(Dense(25))\n",
    "    model.add(Dropout(0.3))\n",
    "    model.add(Dense(1))\n",
    "    model.compile(optimizer='adam', loss='mean_squared_error', metrics=['mean_squared_error'])\n",
    "    return model\n"
   ]
  },
  {
   "cell_type": "code",
   "execution_count": 74,
   "id": "fb382a1c-29b8-4ba7-97c3-3f1e82255619",
   "metadata": {},
   "outputs": [],
   "source": [
    "#Bidirectional allows the model learn the input sequence both forward and backwards\n",
    "\n",
    "def creat_model3(n_steps, features):\n",
    "    model = Sequential()\n",
    "    model.add(LSTM(200, input_shape=(n_steps, features)))\n",
    "    model.add(RepeatVector(n_steps))\n",
    "    model.add(Bidirectional(LSTM(200, activation='relu', return_sequences=False)))\n",
    "    model.add(Dense(features))\n",
    "\n",
    "    model.compile(optimizer='adam', loss='mean_squared_error', metrics=['mean_squared_error'])\n",
    "    return model"
   ]
  },
  {
   "cell_type": "code",
   "execution_count": 75,
   "id": "805e7e71-358b-4983-832e-76f30eb39b51",
   "metadata": {},
   "outputs": [],
   "source": [
    "def creat_model4(n_steps, features):\n",
    "    model = Sequential()\n",
    "    model.add(LSTM(128, activation='relu', input_shape=(n_steps, features), return_sequences=True))\n",
    "    model.add(LSTM(64, activation='relu', return_sequences=False))\n",
    "    model.add(RepeatVector(n_steps))\n",
    "    model.add(LSTM(64, activation='relu', return_sequences=True))\n",
    "    model.add(LSTM(128, activation='relu', return_sequences=False))\n",
    "    model.add(Dense(features))\n",
    "\n",
    "    model.compile(optimizer='adam', loss='mean_squared_error', metrics=['mean_squared_error'])\n",
    "    return model"
   ]
  },
  {
   "cell_type": "code",
   "execution_count": 76,
   "id": "b8730d34-992d-4b04-a527-49fb5f4ed258",
   "metadata": {},
   "outputs": [],
   "source": [
    "n_steps = 10\n",
    "\n",
    "x_train, y_train, x_val, y_val, feature = prepare_training(train_data,n_steps)"
   ]
  },
  {
   "cell_type": "code",
   "execution_count": 77,
   "id": "50241761-e83f-4f43-a52b-416f7c0a21d3",
   "metadata": {},
   "outputs": [
    {
     "data": {
      "text/plain": [
       "(1744, 10, 1)"
      ]
     },
     "execution_count": 77,
     "metadata": {},
     "output_type": "execute_result"
    }
   ],
   "source": [
    "x_train.shape"
   ]
  },
  {
   "cell_type": "code",
   "execution_count": 78,
   "id": "8ce7a8b3-9b81-4a61-b942-66ecdf97c10e",
   "metadata": {},
   "outputs": [
    {
     "data": {
      "text/plain": [
       "(1744, 1)"
      ]
     },
     "execution_count": 78,
     "metadata": {},
     "output_type": "execute_result"
    }
   ],
   "source": [
    "y_train.shape"
   ]
  },
  {
   "cell_type": "code",
   "execution_count": 79,
   "id": "e30481b0-b466-4ae9-a043-129469c68709",
   "metadata": {},
   "outputs": [],
   "source": [
    "#Stop training when a monitored metric has stopped improving.\n",
    "early = EarlyStopping(monitor='val_loss',patience=5)\n",
    "\n",
    "#Reduce learning rate when a metric has stopped improving.\n",
    "reduce = ReduceLROnPlateau(monitor='val_loss', patience=3, factor=0.2, mil_lr=0.001)"
   ]
  },
  {
   "cell_type": "markdown",
   "id": "7b9b03af-c4d7-4ada-b5f1-380fed087e61",
   "metadata": {},
   "source": [
    "## Test data set"
   ]
  },
  {
   "cell_type": "code",
   "execution_count": 80,
   "id": "ff86eb59-9a26-49d3-8c88-a068da6237fe",
   "metadata": {},
   "outputs": [],
   "source": [
    "test_data = scaled_data[training_data_len: , :]\n",
    "x_test, y_test = split_sequence(test_data, n_steps)"
   ]
  },
  {
   "cell_type": "code",
   "execution_count": 81,
   "id": "5618cc71-7381-41f7-88f3-c35f40258ece",
   "metadata": {},
   "outputs": [],
   "source": [
    "y_test_re = scaler.inverse_transform(y_test)"
   ]
  },
  {
   "cell_type": "code",
   "execution_count": 82,
   "id": "5e1cc884-82b3-4dab-94ff-136d8c0fe324",
   "metadata": {},
   "outputs": [
    {
     "data": {
      "text/plain": [
       "(233, 1)"
      ]
     },
     "execution_count": 82,
     "metadata": {},
     "output_type": "execute_result"
    }
   ],
   "source": [
    "y_test_re.shape"
   ]
  },
  {
   "cell_type": "markdown",
   "id": "ba0ad62b-e7c7-4505-a05e-28783e87c246",
   "metadata": {},
   "source": [
    "## Model 1"
   ]
  },
  {
   "cell_type": "code",
   "execution_count": 83,
   "id": "7d8e776b-ea7a-4bd2-942a-a93a003bc84d",
   "metadata": {},
   "outputs": [],
   "source": [
    "model1 = creat_model1(n_steps, feature)"
   ]
  },
  {
   "cell_type": "code",
   "execution_count": 84,
   "id": "c60ea2e7-2db0-4ae1-85d9-b36513565984",
   "metadata": {
    "tags": []
   },
   "outputs": [
    {
     "name": "stdout",
     "output_type": "stream",
     "text": [
      "Epoch 1/50\n",
      "35/35 [==============================] - 2s 26ms/step - loss: 0.1624 - mean_squared_error: 0.1624 - val_loss: 0.0046 - val_mean_squared_error: 0.0046\n",
      "Epoch 2/50\n",
      "35/35 [==============================] - 1s 19ms/step - loss: 0.0016 - mean_squared_error: 0.0016 - val_loss: 7.6013e-04 - val_mean_squared_error: 7.6013e-04\n",
      "Epoch 3/50\n",
      "35/35 [==============================] - 1s 19ms/step - loss: 6.7546e-04 - mean_squared_error: 6.7546e-04 - val_loss: 8.2177e-04 - val_mean_squared_error: 8.2177e-04\n",
      "Epoch 4/50\n",
      "35/35 [==============================] - 1s 20ms/step - loss: 6.4116e-04 - mean_squared_error: 6.4116e-04 - val_loss: 7.2741e-04 - val_mean_squared_error: 7.2741e-04\n",
      "Epoch 5/50\n",
      "35/35 [==============================] - 1s 20ms/step - loss: 5.9958e-04 - mean_squared_error: 5.9958e-04 - val_loss: 7.1328e-04 - val_mean_squared_error: 7.1328e-04\n",
      "Epoch 6/50\n",
      "35/35 [==============================] - 1s 20ms/step - loss: 6.0118e-04 - mean_squared_error: 6.0118e-04 - val_loss: 7.2498e-04 - val_mean_squared_error: 7.2498e-04\n",
      "Epoch 7/50\n",
      "35/35 [==============================] - 1s 19ms/step - loss: 5.2429e-04 - mean_squared_error: 5.2429e-04 - val_loss: 7.1750e-04 - val_mean_squared_error: 7.1750e-04\n",
      "Epoch 8/50\n",
      "35/35 [==============================] - 1s 19ms/step - loss: 5.5983e-04 - mean_squared_error: 5.5983e-04 - val_loss: 7.2953e-04 - val_mean_squared_error: 7.2953e-04\n",
      "Epoch 9/50\n",
      "35/35 [==============================] - 1s 19ms/step - loss: 5.6065e-04 - mean_squared_error: 5.6065e-04 - val_loss: 7.0293e-04 - val_mean_squared_error: 7.0293e-04\n",
      "Epoch 10/50\n",
      "35/35 [==============================] - 1s 19ms/step - loss: 5.5411e-04 - mean_squared_error: 5.5411e-04 - val_loss: 7.0557e-04 - val_mean_squared_error: 7.0557e-04\n",
      "Epoch 11/50\n",
      "35/35 [==============================] - 1s 19ms/step - loss: 6.0104e-04 - mean_squared_error: 6.0104e-04 - val_loss: 6.9358e-04 - val_mean_squared_error: 6.9358e-04\n",
      "Epoch 12/50\n",
      "35/35 [==============================] - 1s 19ms/step - loss: 5.4748e-04 - mean_squared_error: 5.4748e-04 - val_loss: 6.9097e-04 - val_mean_squared_error: 6.9097e-04\n",
      "Epoch 13/50\n",
      "35/35 [==============================] - 1s 19ms/step - loss: 5.7915e-04 - mean_squared_error: 5.7915e-04 - val_loss: 6.9358e-04 - val_mean_squared_error: 6.9358e-04\n",
      "Epoch 14/50\n",
      "35/35 [==============================] - 1s 19ms/step - loss: 5.4722e-04 - mean_squared_error: 5.4722e-04 - val_loss: 6.9309e-04 - val_mean_squared_error: 6.9309e-04\n",
      "Epoch 15/50\n",
      "35/35 [==============================] - 1s 19ms/step - loss: 5.5942e-04 - mean_squared_error: 5.5942e-04 - val_loss: 6.9238e-04 - val_mean_squared_error: 6.9238e-04\n",
      "Epoch 16/50\n",
      "35/35 [==============================] - 1s 19ms/step - loss: 5.4517e-04 - mean_squared_error: 5.4517e-04 - val_loss: 6.9328e-04 - val_mean_squared_error: 6.9328e-04\n",
      "Epoch 17/50\n",
      "35/35 [==============================] - 1s 20ms/step - loss: 5.5028e-04 - mean_squared_error: 5.5028e-04 - val_loss: 6.9241e-04 - val_mean_squared_error: 6.9241e-04\n"
     ]
    }
   ],
   "source": [
    "history1 = model1.fit(x_train, y_train, epochs=50, batch_size=50, verbose=1,\n",
    "         validation_data=(x_val, y_val), callbacks=[early,reduce])"
   ]
  },
  {
   "cell_type": "code",
   "execution_count": 85,
   "id": "f4e664b3-4240-4e05-9c8a-54974d10aa5a",
   "metadata": {
    "tags": []
   },
   "outputs": [
    {
     "name": "stdout",
     "output_type": "stream",
     "text": [
      "Model: \"sequential_4\"\n",
      "_________________________________________________________________\n",
      "Layer (type)                 Output Shape              Param #   \n",
      "=================================================================\n",
      "lstm_10 (LSTM)               (None, 128)               66560     \n",
      "_________________________________________________________________\n",
      "repeat_vector_3 (RepeatVecto (None, 10, 128)           0         \n",
      "_________________________________________________________________\n",
      "lstm_11 (LSTM)               (None, 128)               131584    \n",
      "_________________________________________________________________\n",
      "dense_5 (Dense)              (None, 1)                 129       \n",
      "=================================================================\n",
      "Total params: 198,273\n",
      "Trainable params: 198,273\n",
      "Non-trainable params: 0\n",
      "_________________________________________________________________\n"
     ]
    }
   ],
   "source": [
    "model1.summary()"
   ]
  },
  {
   "cell_type": "code",
   "execution_count": 86,
   "id": "843c037a-e60a-42c3-9c7d-7fa4df8d989a",
   "metadata": {},
   "outputs": [],
   "source": [
    "# Get the models predicted price values \n",
    "predictions1 = model1.predict(x_test)"
   ]
  },
  {
   "cell_type": "code",
   "execution_count": 87,
   "id": "8f9770bb-8274-45ab-b1d7-9fcccaf33479",
   "metadata": {},
   "outputs": [
    {
     "data": {
      "text/plain": [
       "(233, 1)"
      ]
     },
     "execution_count": 87,
     "metadata": {},
     "output_type": "execute_result"
    }
   ],
   "source": [
    "predictions1.shape"
   ]
  },
  {
   "cell_type": "code",
   "execution_count": 88,
   "id": "3b4e3f34-688c-45bd-812d-7bdea918b1be",
   "metadata": {},
   "outputs": [],
   "source": [
    "predictions1 = scaler.inverse_transform(predictions1)"
   ]
  },
  {
   "cell_type": "code",
   "execution_count": 89,
   "id": "56e8c035-86c1-48ae-8a4a-97b6e1291973",
   "metadata": {},
   "outputs": [
    {
     "name": "stdout",
     "output_type": "stream",
     "text": [
      "RMSE：0.9149\n"
     ]
    }
   ],
   "source": [
    "# Get the root mean squared error (RMSE)\n",
    "##import math\n",
    "#math.sqrt(mean_squared_error(y_test_re,predictions))\n",
    "rmse1 = np.sqrt(np.mean(((predictions1 -y_test_re) ** 2)))\n",
    "print(f'RMSE：{np.round(rmse1, 4)}')"
   ]
  },
  {
   "cell_type": "markdown",
   "id": "f2c242c4-ce81-455f-92d0-8e1580b6c3d7",
   "metadata": {},
   "source": [
    "## Model 2"
   ]
  },
  {
   "cell_type": "code",
   "execution_count": 90,
   "id": "44f279c1-22ca-4d3a-8616-de30df8ff506",
   "metadata": {},
   "outputs": [],
   "source": [
    "model2 = creat_model2(n_steps, feature)"
   ]
  },
  {
   "cell_type": "code",
   "execution_count": 91,
   "id": "3b9fda3a-d798-496b-9cc3-b8d1684405a7",
   "metadata": {
    "tags": []
   },
   "outputs": [
    {
     "name": "stdout",
     "output_type": "stream",
     "text": [
      "Epoch 1/50\n",
      "35/35 [==============================] - 3s 26ms/step - loss: 0.0860 - mean_squared_error: 0.0860 - val_loss: 0.0024 - val_mean_squared_error: 0.0024\n",
      "Epoch 2/50\n",
      "35/35 [==============================] - 1s 15ms/step - loss: 0.0119 - mean_squared_error: 0.0119 - val_loss: 0.0018 - val_mean_squared_error: 0.0018\n",
      "Epoch 3/50\n",
      "35/35 [==============================] - 0s 14ms/step - loss: 0.0087 - mean_squared_error: 0.0087 - val_loss: 0.0012 - val_mean_squared_error: 0.0012\n",
      "Epoch 4/50\n",
      "35/35 [==============================] - 0s 14ms/step - loss: 0.0083 - mean_squared_error: 0.0083 - val_loss: 0.0014 - val_mean_squared_error: 0.0014\n",
      "Epoch 5/50\n",
      "35/35 [==============================] - 1s 15ms/step - loss: 0.0083 - mean_squared_error: 0.0083 - val_loss: 0.0011 - val_mean_squared_error: 0.0011\n",
      "Epoch 6/50\n",
      "35/35 [==============================] - 0s 14ms/step - loss: 0.0078 - mean_squared_error: 0.0078 - val_loss: 0.0011 - val_mean_squared_error: 0.0011\n",
      "Epoch 7/50\n",
      "35/35 [==============================] - 0s 14ms/step - loss: 0.0072 - mean_squared_error: 0.0072 - val_loss: 0.0011 - val_mean_squared_error: 0.0011\n",
      "Epoch 8/50\n",
      "35/35 [==============================] - 0s 14ms/step - loss: 0.0066 - mean_squared_error: 0.0066 - val_loss: 0.0011 - val_mean_squared_error: 0.0011\n",
      "Epoch 9/50\n",
      "35/35 [==============================] - 0s 14ms/step - loss: 0.0066 - mean_squared_error: 0.0066 - val_loss: 0.0011 - val_mean_squared_error: 0.0011\n",
      "Epoch 10/50\n",
      "35/35 [==============================] - 0s 14ms/step - loss: 0.0066 - mean_squared_error: 0.0066 - val_loss: 0.0010 - val_mean_squared_error: 0.0010\n",
      "Epoch 11/50\n",
      "35/35 [==============================] - 0s 14ms/step - loss: 0.0064 - mean_squared_error: 0.0064 - val_loss: 0.0010 - val_mean_squared_error: 0.0010\n",
      "Epoch 12/50\n",
      "35/35 [==============================] - 0s 14ms/step - loss: 0.0063 - mean_squared_error: 0.0063 - val_loss: 0.0010 - val_mean_squared_error: 0.0010\n",
      "Epoch 13/50\n",
      "35/35 [==============================] - 0s 14ms/step - loss: 0.0065 - mean_squared_error: 0.0065 - val_loss: 0.0010 - val_mean_squared_error: 0.0010\n",
      "Epoch 14/50\n",
      "35/35 [==============================] - 0s 14ms/step - loss: 0.0070 - mean_squared_error: 0.0070 - val_loss: 0.0010 - val_mean_squared_error: 0.0010\n",
      "Epoch 15/50\n",
      "35/35 [==============================] - 0s 14ms/step - loss: 0.0068 - mean_squared_error: 0.0068 - val_loss: 0.0010 - val_mean_squared_error: 0.0010\n"
     ]
    }
   ],
   "source": [
    "history2 = model2.fit(x_train, y_train, epochs=50, batch_size=50, verbose=1,\n",
    "         validation_data=(x_val, y_val), callbacks=[early,reduce])"
   ]
  },
  {
   "cell_type": "code",
   "execution_count": 92,
   "id": "889b8185-7725-486f-a3ba-b894fc6462e8",
   "metadata": {},
   "outputs": [],
   "source": [
    "predictions2 = model2.predict(x_test)"
   ]
  },
  {
   "cell_type": "code",
   "execution_count": 93,
   "id": "3061de7e-5618-49c1-a1d2-b0011bfe0922",
   "metadata": {},
   "outputs": [],
   "source": [
    "predictions2 = scaler.inverse_transform(predictions2)"
   ]
  },
  {
   "cell_type": "code",
   "execution_count": 94,
   "id": "c3e66464-caff-45ff-ae00-d75f3eecbec5",
   "metadata": {},
   "outputs": [
    {
     "name": "stdout",
     "output_type": "stream",
     "text": [
      "RMSE：1.0519\n"
     ]
    }
   ],
   "source": [
    "rmse2 = np.sqrt(np.mean(((predictions2 -y_test_re) ** 2)))\n",
    "print(f'RMSE：{np.round(rmse2, 4)}')"
   ]
  },
  {
   "cell_type": "markdown",
   "id": "e89706e7-5be7-4137-a03b-b05d3a1a32ca",
   "metadata": {},
   "source": [
    "## Model 3"
   ]
  },
  {
   "cell_type": "code",
   "execution_count": 95,
   "id": "834162cf-e466-4321-ac56-e2509851def0",
   "metadata": {},
   "outputs": [],
   "source": [
    "model3 = creat_model3(n_steps, feature)"
   ]
  },
  {
   "cell_type": "code",
   "execution_count": null,
   "id": "259ed59b-63d4-4fad-ad23-c69e6bb58700",
   "metadata": {
    "tags": []
   },
   "outputs": [
    {
     "name": "stdout",
     "output_type": "stream",
     "text": [
      "Epoch 1/50\n",
      "35/35 [==============================] - 4s 54ms/step - loss: 0.1045 - mean_squared_error: 0.1045 - val_loss: 0.0040 - val_mean_squared_error: 0.0040\n",
      "Epoch 2/50\n",
      "35/35 [==============================] - 2s 45ms/step - loss: 0.0015 - mean_squared_error: 0.0015 - val_loss: 6.8924e-04 - val_mean_squared_error: 6.8924e-04\n",
      "Epoch 3/50\n",
      "35/35 [==============================] - 2s 43ms/step - loss: 6.9443e-04 - mean_squared_error: 6.9443e-04 - val_loss: 6.8220e-04 - val_mean_squared_error: 6.8220e-04\n",
      "Epoch 4/50\n",
      "35/35 [==============================] - 2s 44ms/step - loss: 6.0796e-04 - mean_squared_error: 6.0796e-04 - val_loss: 8.7999e-04 - val_mean_squared_error: 8.7999e-04\n",
      "Epoch 5/50\n",
      "35/35 [==============================] - 2s 44ms/step - loss: 6.5046e-04 - mean_squared_error: 6.5046e-04 - val_loss: 7.0169e-04 - val_mean_squared_error: 7.0169e-04\n",
      "Epoch 6/50\n",
      "35/35 [==============================] - 2s 46ms/step - loss: 5.3483e-04 - mean_squared_error: 5.3483e-04 - val_loss: 6.7363e-04 - val_mean_squared_error: 6.7363e-04\n",
      "Epoch 7/50\n",
      "35/35 [==============================] - 2s 44ms/step - loss: 5.7000e-04 - mean_squared_error: 5.7000e-04 - val_loss: 6.1460e-04 - val_mean_squared_error: 6.1460e-04\n",
      "Epoch 8/50\n",
      "35/35 [==============================] - 2s 44ms/step - loss: 5.8152e-04 - mean_squared_error: 5.8152e-04 - val_loss: 6.3746e-04 - val_mean_squared_error: 6.3746e-04\n",
      "Epoch 9/50\n",
      "35/35 [==============================] - 2s 44ms/step - loss: 5.3069e-04 - mean_squared_error: 5.3069e-04 - val_loss: 6.1882e-04 - val_mean_squared_error: 6.1882e-04\n",
      "Epoch 10/50\n",
      "35/35 [==============================] - 2s 49ms/step - loss: 5.5089e-04 - mean_squared_error: 5.5089e-04 - val_loss: 6.2106e-04 - val_mean_squared_error: 6.2106e-04\n",
      "Epoch 11/50\n",
      "35/35 [==============================] - 2s 46ms/step - loss: 5.3203e-04 - mean_squared_error: 5.3203e-04 - val_loss: 5.9771e-04 - val_mean_squared_error: 5.9771e-04\n",
      "Epoch 12/50\n",
      "35/35 [==============================] - 2s 43ms/step - loss: 5.5444e-04 - mean_squared_error: 5.5444e-04 - val_loss: 6.1382e-04 - val_mean_squared_error: 6.1382e-04\n",
      "Epoch 13/50\n",
      "35/35 [==============================] - 2s 44ms/step - loss: 5.3719e-04 - mean_squared_error: 5.3719e-04 - val_loss: 6.2006e-04 - val_mean_squared_error: 6.2006e-04\n",
      "Epoch 14/50\n",
      "35/35 [==============================] - 2s 44ms/step - loss: 5.5607e-04 - mean_squared_error: 5.5607e-04 - val_loss: 6.1742e-04 - val_mean_squared_error: 6.1742e-04\n",
      "Epoch 15/50\n",
      " 3/35 [=>............................] - ETA: 1s - loss: 5.7441e-04 - mean_squared_error: 5.7441e-04"
     ]
    }
   ],
   "source": [
    "history3 = model3.fit(x_train, y_train, epochs=50, batch_size=50, verbose=1,\n",
    "         validation_data=(x_val, y_val), callbacks=[early,reduce])"
   ]
  },
  {
   "cell_type": "code",
   "execution_count": null,
   "id": "a2e6a146-1cc2-4fd5-9802-0289d5606787",
   "metadata": {},
   "outputs": [],
   "source": [
    "predictions3 = model3.predict(x_test)"
   ]
  },
  {
   "cell_type": "code",
   "execution_count": null,
   "id": "75cea3f6-5b44-4da9-8ce0-635baac09ebc",
   "metadata": {},
   "outputs": [],
   "source": [
    "predictions3.shape"
   ]
  },
  {
   "cell_type": "code",
   "execution_count": null,
   "id": "b15623d7-c1c4-4bbd-b1a0-3e7a6eb5f667",
   "metadata": {},
   "outputs": [],
   "source": [
    "predictions3 = scaler.inverse_transform(predictions3)"
   ]
  },
  {
   "cell_type": "code",
   "execution_count": null,
   "id": "e39c9544-9a35-43a9-8103-b5844dfb0a36",
   "metadata": {},
   "outputs": [],
   "source": [
    "rmse3 = np.sqrt(np.mean(((predictions3 -y_test_re) ** 2)))\n",
    "print(f'RMSE：{np.round(rmse3, 4)}')"
   ]
  },
  {
   "cell_type": "markdown",
   "id": "3d52fe40-2f91-496f-b885-936b1881331e",
   "metadata": {},
   "source": [
    "## Model 4"
   ]
  },
  {
   "cell_type": "code",
   "execution_count": null,
   "id": "47fd86b5-ba76-45ea-8e7f-107b9cdcd1c5",
   "metadata": {},
   "outputs": [],
   "source": [
    "model4 = creat_model4(n_steps, feature)"
   ]
  },
  {
   "cell_type": "code",
   "execution_count": null,
   "id": "b1cea4d2-ddf0-4520-90d4-35db8e9e7847",
   "metadata": {
    "tags": []
   },
   "outputs": [],
   "source": [
    "history4 = model4.fit(x_train, y_train, epochs=50, batch_size=50, verbose=1,\n",
    "         validation_data=(x_val, y_val), callbacks=[early,reduce])"
   ]
  },
  {
   "cell_type": "code",
   "execution_count": null,
   "id": "46ad3f3a-0c05-472b-a821-4f4cf6dad947",
   "metadata": {},
   "outputs": [],
   "source": [
    "predictions4 = model4.predict(x_test)"
   ]
  },
  {
   "cell_type": "code",
   "execution_count": null,
   "id": "fddb193a-342a-4ee4-82fe-dc17cd881b63",
   "metadata": {},
   "outputs": [],
   "source": [
    "predictions4 = scaler.inverse_transform(predictions4)"
   ]
  },
  {
   "cell_type": "code",
   "execution_count": null,
   "id": "b55dc3f9-5dc4-47fe-8129-ccaad190a67e",
   "metadata": {},
   "outputs": [],
   "source": [
    "rmse4 = np.sqrt(np.mean(((predictions4 -y_test_re) ** 2)))\n",
    "print(f'RMSE：{np.round(rmse4, 4)}')"
   ]
  },
  {
   "cell_type": "markdown",
   "id": "9836689a-9099-4316-9799-1b1574cb0d0e",
   "metadata": {},
   "source": [
    "## Plots"
   ]
  },
  {
   "cell_type": "code",
   "execution_count": null,
   "id": "0ac3efc5-97e4-4e0f-bba6-bbdab64a4f4f",
   "metadata": {},
   "outputs": [],
   "source": [
    "plt.plot(history3.history['loss'])\n",
    "plt.plot(history3.history['val_loss'])\n",
    "plt.xlabel('Epochs')\n",
    "plt.ylabel('MSE')\n",
    "plt.legend(['Train','Val']);"
   ]
  },
  {
   "cell_type": "code",
   "execution_count": null,
   "id": "27d13608-fdc0-4855-b8f2-64538e00797d",
   "metadata": {},
   "outputs": [],
   "source": [
    "plt.plot(history3.history['mean_squared_error'])\n",
    "plt.plot(history3.history['val_mean_squared_error'])\n",
    "plt.xlabel('Epochs')\n",
    "plt.ylabel('MSE')\n",
    "plt.legend(['Train','Val']);"
   ]
  },
  {
   "cell_type": "code",
   "execution_count": null,
   "id": "9dfb843f-c892-4a20-a90f-a01a9283b39a",
   "metadata": {},
   "outputs": [],
   "source": [
    "plt.figure(figsize=(16,6))\n",
    "plt.plot(y_test_re)\n",
    "plt.plot(predictions3)\n",
    "plt.legend(['Real Value','Predicted Value']);"
   ]
  },
  {
   "cell_type": "code",
   "execution_count": null,
   "id": "5aaa5b2b-4b94-4b36-bc82-7cc1f4262774",
   "metadata": {},
   "outputs": [],
   "source": [
    "train = data[:training_data_len]\n",
    "test = data[training_data_len+10:]"
   ]
  },
  {
   "cell_type": "code",
   "execution_count": null,
   "id": "452c01c4-947e-446e-8922-ea62895fc269",
   "metadata": {},
   "outputs": [],
   "source": [
    "test.shape"
   ]
  },
  {
   "cell_type": "code",
   "execution_count": null,
   "id": "02f924cb-56db-4d6e-801b-ee6ecb7f7c5d",
   "metadata": {},
   "outputs": [],
   "source": [
    "predictions3.shape"
   ]
  },
  {
   "cell_type": "code",
   "execution_count": null,
   "id": "7814e3a1-a26f-43ab-9a95-c38b2d0f893e",
   "metadata": {},
   "outputs": [],
   "source": [
    "test['Predictions'] = predictions3"
   ]
  },
  {
   "cell_type": "code",
   "execution_count": 56,
   "id": "230976bb-8cbb-4232-a9bc-bc03329f575f",
   "metadata": {},
   "outputs": [
    {
     "data": {
      "image/png": "[encoded data removed]",
      "text/plain": [
       "<Figure size 1600x600 with 1 Axes>"
      ]
     },
     "metadata": {},
     "output_type": "display_data"
    }
   ],
   "source": [
    "# Visualize the data\n",
    "\n",
    "with plt.style.context('images/presentation.mplstyle'):\n",
    "    plt.figure(figsize=(16,6))\n",
    "    plt.title('LSTM Model for American Airlines')\n",
    "    plt.xlabel('Date', fontsize=18)\n",
    "    plt.ylabel('Close Price USD ($)', fontsize=18)\n",
    "    plt.plot(train['Close'], 'c')\n",
    "    plt.plot(test['Close'], 'r')\n",
    "    plt.plot(test['Predictions'], 'g')\n",
    "    plt.legend(['Train', 'Test', 'Predictions'], loc='lower right')\n",
    "    plt.savefig('images/LSTM.png')\n",
    "    plt.show()\n",
    "    \n",
    "    "
   ]
  },
  {
   "cell_type": "code",
   "execution_count": 60,
   "id": "72f2140b-bf77-48ab-8409-6f9c904bbf26",
   "metadata": {},
   "outputs": [
    {
     "data": {
      "text/html": [
       "<div>\n",
       "<style scoped>\n",
       "    .dataframe tbody tr th:only-of-type {\n",
       "        vertical-align: middle;\n",
       "    }\n",
       "\n",
       "    .dataframe tbody tr th {\n",
       "        vertical-align: top;\n",
       "    }\n",
       "\n",
       "    .dataframe thead th {\n",
       "        text-align: right;\n",
       "    }\n",
       "</style>\n",
       "<table border=\"1\" class=\"dataframe\">\n",
       "  <thead>\n",
       "    <tr style=\"text-align: right;\">\n",
       "      <th></th>\n",
       "      <th>Close</th>\n",
       "      <th>Predictions</th>\n",
       "    </tr>\n",
       "    <tr>\n",
       "      <th>Date</th>\n",
       "      <th></th>\n",
       "      <th></th>\n",
       "    </tr>\n",
       "  </thead>\n",
       "  <tbody>\n",
       "    <tr>\n",
       "      <th>2020-10-02</th>\n",
       "      <td>38.759998</td>\n",
       "      <td>37.784786</td>\n",
       "    </tr>\n",
       "    <tr>\n",
       "      <th>2020-10-05</th>\n",
       "      <td>38.490002</td>\n",
       "      <td>38.023224</td>\n",
       "    </tr>\n",
       "    <tr>\n",
       "      <th>2020-10-06</th>\n",
       "      <td>37.580002</td>\n",
       "      <td>38.176765</td>\n",
       "    </tr>\n",
       "    <tr>\n",
       "      <th>2020-10-07</th>\n",
       "      <td>38.590000</td>\n",
       "      <td>38.070576</td>\n",
       "    </tr>\n",
       "    <tr>\n",
       "      <th>2020-10-08</th>\n",
       "      <td>38.990002</td>\n",
       "      <td>38.228676</td>\n",
       "    </tr>\n",
       "    <tr>\n",
       "      <th>...</th>\n",
       "      <td>...</td>\n",
       "      <td>...</td>\n",
       "    </tr>\n",
       "    <tr>\n",
       "      <th>2021-08-30</th>\n",
       "      <td>49.169998</td>\n",
       "      <td>50.072674</td>\n",
       "    </tr>\n",
       "    <tr>\n",
       "      <th>2021-08-31</th>\n",
       "      <td>49.779999</td>\n",
       "      <td>49.896149</td>\n",
       "    </tr>\n",
       "    <tr>\n",
       "      <th>2021-09-01</th>\n",
       "      <td>49.549999</td>\n",
       "      <td>49.902809</td>\n",
       "    </tr>\n",
       "    <tr>\n",
       "      <th>2021-09-02</th>\n",
       "      <td>49.599998</td>\n",
       "      <td>49.846931</td>\n",
       "    </tr>\n",
       "    <tr>\n",
       "      <th>2021-09-03</th>\n",
       "      <td>48.860001</td>\n",
       "      <td>49.816528</td>\n",
       "    </tr>\n",
       "  </tbody>\n",
       "</table>\n",
       "<p>233 rows × 2 columns</p>\n",
       "</div>"
      ],
      "text/plain": [
       "                Close  Predictions\n",
       "Date                              \n",
       "2020-10-02  38.759998    37.784786\n",
       "2020-10-05  38.490002    38.023224\n",
       "2020-10-06  37.580002    38.176765\n",
       "2020-10-07  38.590000    38.070576\n",
       "2020-10-08  38.990002    38.228676\n",
       "...               ...          ...\n",
       "2021-08-30  49.169998    50.072674\n",
       "2021-08-31  49.779999    49.896149\n",
       "2021-09-01  49.549999    49.902809\n",
       "2021-09-02  49.599998    49.846931\n",
       "2021-09-03  48.860001    49.816528\n",
       "\n",
       "[233 rows x 2 columns]"
      ]
     },
     "execution_count": 60,
     "metadata": {},
     "output_type": "execute_result"
    }
   ],
   "source": [
    "test"
   ]
  }
 ],
 "metadata": {
  "kernelspec": {
   "display_name": "tf_env",
   "language": "python",
   "name": "tf_env"
  },
  "language_info": {
   "codemirror_mode": {
    "name": "ipython",
    "version": 3
   },
   "file_extension": ".py",
   "mimetype": "text/x-python",
   "name": "python",
   "nbconvert_exporter": "python",
   "pygments_lexer": "ipython3",
   "version": "3.8.11"
  }
 },
 "nbformat": 4,
 "nbformat_minor": 5
}
