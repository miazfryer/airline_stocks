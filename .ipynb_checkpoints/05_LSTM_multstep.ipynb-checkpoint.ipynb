{
 "cells": [
  {
   "cell_type": "code",
   "execution_count": 1,
   "id": "35f8ae36-3f0e-485d-aea1-66133092d958",
   "metadata": {},
   "outputs": [],
   "source": [
    "#basic\n",
    "import pandas as pd\n",
    "import numpy as np\n",
    "\n",
    "#plot\n",
    "import matplotlib.pyplot as plt\n",
    "import seaborn as sns\n",
    "sns.set_style('whitegrid')\n",
    "plt.style.use(\"fivethirtyeight\")\n",
    "%matplotlib inline\n",
    "\n",
    "# For reading stock data \n",
    "from pandas_datareader.data import DataReader\n",
    "\n",
    "# For time stamps\n",
    "from datetime import datetime\n",
    "\n",
    "#for evaluation\n",
    "from statsmodels.graphics.tsaplots import plot_acf, plot_pacf\n",
    "from sklearn.metrics import mean_squared_error, mean_absolute_error\n",
    "\n",
    "#for modeling\n",
    "import tensorflow as tf\n",
    "from sklearn.preprocessing import MinMaxScaler\n",
    "from tensorflow.keras.models import Sequential\n",
    "from keras import optimizers\n",
    "from tensorflow.keras.layers import Dense, Dropout, LSTM, RepeatVector, TimeDistributed, Bidirectional, Activation\n",
    "from tensorflow.keras.callbacks import EarlyStopping, ReduceLROnPlateau\n",
    "from keras.preprocessing.sequence import TimeseriesGenerator\n",
    "\n",
    "import warnings\n",
    "warnings.filterwarnings('ignore')\n",
    "\n",
    "from statsmodels.tsa.arima_model import ARIMA\n",
    "from pmdarima.arima import auto_arima\n",
    "\n",
    "np.random.seed(123)"
   ]
  },
  {
   "cell_type": "code",
   "execution_count": 2,
   "id": "e08d9e86-7a35-40ac-adf9-94f32950369d",
   "metadata": {},
   "outputs": [],
   "source": [
    "df = DataReader('LUV', data_source='yahoo', start='2012-01-01', end=datetime.now())"
   ]
  },
  {
   "cell_type": "code",
   "execution_count": 3,
   "id": "d548fd10-c446-4de2-98df-b40eb191f606",
   "metadata": {},
   "outputs": [],
   "source": [
    "data = df.filter(['Close'])"
   ]
  },
  {
   "cell_type": "code",
   "execution_count": 4,
   "id": "00103c63-b152-4b56-8bee-0f2c5d0ebbf2",
   "metadata": {},
   "outputs": [],
   "source": [
    "dataset = data.values"
   ]
  },
  {
   "cell_type": "code",
   "execution_count": 5,
   "id": "5b7b1668-6cf2-4893-a794-76eff962ee38",
   "metadata": {},
   "outputs": [],
   "source": [
    "scaler = MinMaxScaler(feature_range=(0,1))\n",
    "scaled_data = scaler.fit_transform(dataset)"
   ]
  },
  {
   "cell_type": "code",
   "execution_count": 6,
   "id": "f38c644b-4a35-43e4-8743-312fc8194b68",
   "metadata": {},
   "outputs": [],
   "source": [
    "training_data_len = int(np.ceil( len(dataset) * .9 ))\n",
    "train_data = scaled_data[0:int(training_data_len), :]"
   ]
  },
  {
   "cell_type": "code",
   "execution_count": 7,
   "id": "0ac901bd-2fd8-4057-bd1c-1a126804e029",
   "metadata": {},
   "outputs": [
    {
     "data": {
      "text/plain": [
       "(2192, 1)"
      ]
     },
     "execution_count": 7,
     "metadata": {},
     "output_type": "execute_result"
    }
   ],
   "source": [
    "train_data.shape"
   ]
  },
  {
   "cell_type": "code",
   "execution_count": 8,
   "id": "742339b3-1e7c-449d-ad7f-899addbcaef8",
   "metadata": {},
   "outputs": [],
   "source": [
    "def train_val(data):\n",
    "    train_size = int(len(data) * 0.8)\n",
    "    train = data[0:train_size]\n",
    "    val= data[train_size:len(data)]\n",
    "    return train, val"
   ]
  },
  {
   "cell_type": "code",
   "execution_count": 61,
   "id": "7b5469d1-db37-425d-b4f9-a2015d61428f",
   "metadata": {},
   "outputs": [],
   "source": [
    "def split_sequences(sequences, n_steps_in, n_steps_out):\n",
    "    X, y = list(), list()\n",
    "    for i in range(len(sequences)):\n",
    "        # find the end of this pattern\n",
    "        end_ix = i + n_steps_in\n",
    "        out_end_ix = end_ix + n_steps_out\n",
    "        # check if we are beyond the dataset\n",
    "        if out_end_ix > len(sequences):\n",
    "            break\n",
    "        # gather input and output parts of the pattern\n",
    "        seq_x, seq_y = sequences[i:end_ix, :], sequences[end_ix:out_end_ix, -1]\n",
    "        X.append(seq_x)\n",
    "        y.append(seq_y)\n",
    "    return np.array(X), np.array(y)"
   ]
  },
  {
   "cell_type": "code",
   "execution_count": 62,
   "id": "cd45e49f-6faf-42cd-9f31-c32edf0ef177",
   "metadata": {},
   "outputs": [],
   "source": [
    "def prepare_training(data, n_steps_in, n_steps_out):\n",
    "    #data = to_dataset(data)\n",
    "    train, val = train_val(data)\n",
    "    x_train, y_train = split_sequences(train, n_steps_in, n_steps_out)\n",
    "    x_val, y_val = split_sequences(val, n_steps_in, n_steps_out)\n",
    "    features = 1\n",
    "    return x_train, y_train, x_val, y_val, features"
   ]
  },
  {
   "cell_type": "code",
   "execution_count": 63,
   "id": "1d6cd8e0-005c-4055-b303-a83e37d8dc30",
   "metadata": {},
   "outputs": [],
   "source": [
    "n_steps_in, n_steps_out = 60 , 30\n",
    "x_train, y_train, x_val, y_val, feature = prepare_training(train_data,n_steps_in, n_steps_out)"
   ]
  },
  {
   "cell_type": "code",
   "execution_count": 64,
   "id": "f2d97716-2454-4351-8f3b-58203248f530",
   "metadata": {},
   "outputs": [
    {
     "data": {
      "text/plain": [
       "(1664, 60, 1)"
      ]
     },
     "execution_count": 64,
     "metadata": {},
     "output_type": "execute_result"
    }
   ],
   "source": [
    "x_train.shape"
   ]
  },
  {
   "cell_type": "code",
   "execution_count": 65,
   "id": "b3d3e079-7bd1-4746-a3d5-7775dfc72adc",
   "metadata": {},
   "outputs": [
    {
     "data": {
      "text/plain": [
       "(1664, 30)"
      ]
     },
     "execution_count": 65,
     "metadata": {},
     "output_type": "execute_result"
    }
   ],
   "source": [
    "y_train.shape"
   ]
  },
  {
   "cell_type": "code",
   "execution_count": 66,
   "id": "fce1f5d9-2573-4110-8a22-9e69510d8ca5",
   "metadata": {},
   "outputs": [],
   "source": [
    "def creat_model1(n_steps_in, n_steps_out, features):\n",
    "    model = Sequential()\n",
    "    model.add(LSTM(128, activation='relu', return_sequences=False, input_shape=(n_steps_in, features)))\n",
    "    model.add(RepeatVector(n_steps_out))\n",
    "    model.add(LSTM(128, activation='relu', return_sequences=False))\n",
    "    model.add(Dense(features))\n",
    "    \n",
    "    model.compile(optimizer='adam', loss='mean_squared_error', metrics=['mean_squared_error'])\n",
    "    return model"
   ]
  },
  {
   "cell_type": "code",
   "execution_count": 67,
   "id": "59ff9219-01b5-4b63-89ab-8f190b5b9877",
   "metadata": {},
   "outputs": [],
   "source": [
    "# define model\n",
    "def creat_model2(n_steps_in, n_steps_out, features):\n",
    "    model2 = Sequential()\n",
    "    model2.add(LSTM(50, activation='relu', return_sequences=True, input_shape=(n_steps_in, features)))\n",
    "    model2.add(LSTM(50, activation='relu'))\n",
    "    model2.add(Dense(n_steps_out))\n",
    "    model2.add(Activation('linear'))\n",
    "    \n",
    "    model2.compile(loss='mean_squared_error', optimizer=opt, metrics=['mean_squared_error'])\n",
    "    \n",
    "    return model2"
   ]
  },
  {
   "cell_type": "code",
   "execution_count": 68,
   "id": "b0e2f929-b59e-4abe-8d97-c7b6783ef1e6",
   "metadata": {},
   "outputs": [],
   "source": [
    "#Stop training when a monitored metric has stopped improving.\n",
    "early = EarlyStopping(monitor='val_loss',patience=5)\n",
    "\n",
    "#Reduce learning rate when a metric has stopped improving.\n",
    "reduce = ReduceLROnPlateau(monitor='val_loss', patience=3, factor=0.2, mil_lr=0.001)\n",
    "\n",
    "opt = optimizers.Adam(learning_rate=0.0001)"
   ]
  },
  {
   "cell_type": "code",
   "execution_count": 69,
   "id": "6c8bd5bf-01cc-4987-a1d0-9d6d6c32ca56",
   "metadata": {},
   "outputs": [],
   "source": [
    "model1 = creat_model1(n_steps_in, n_steps_out, feature)"
   ]
  },
  {
   "cell_type": "code",
   "execution_count": 70,
   "id": "57019369-96a2-4f93-96b4-4445c6cc9a9d",
   "metadata": {},
   "outputs": [],
   "source": [
    "model2 = creat_model2(n_steps_in, n_steps_out, feature)"
   ]
  },
  {
   "cell_type": "code",
   "execution_count": 71,
   "id": "52f3d680-a0e0-4839-adca-9031852a1c6e",
   "metadata": {
    "collapsed": true,
    "jupyter": {
     "outputs_hidden": true
    },
    "tags": []
   },
   "outputs": [
    {
     "name": "stdout",
     "output_type": "stream",
     "text": [
      "Epoch 1/60\n",
      "25/25 [==============================] - 2s 58ms/step - loss: 0.3338 - mean_squared_error: 0.3338 - val_loss: 0.4513 - val_mean_squared_error: 0.4513\n",
      "Epoch 2/60\n",
      "25/25 [==============================] - 1s 48ms/step - loss: 0.3148 - mean_squared_error: 0.3148 - val_loss: 0.4347 - val_mean_squared_error: 0.4347\n",
      "Epoch 3/60\n",
      "25/25 [==============================] - 1s 48ms/step - loss: 0.3053 - mean_squared_error: 0.3053 - val_loss: 0.4074 - val_mean_squared_error: 0.4074\n",
      "Epoch 4/60\n",
      "25/25 [==============================] - 1s 49ms/step - loss: 0.2789 - mean_squared_error: 0.2789 - val_loss: 0.3474 - val_mean_squared_error: 0.3474\n",
      "Epoch 5/60\n",
      "25/25 [==============================] - 1s 49ms/step - loss: 0.2198 - mean_squared_error: 0.2198 - val_loss: 0.2343 - val_mean_squared_error: 0.2343\n",
      "Epoch 6/60\n",
      "25/25 [==============================] - 1s 50ms/step - loss: 0.1503 - mean_squared_error: 0.1503 - val_loss: 0.1635 - val_mean_squared_error: 0.1635\n",
      "Epoch 7/60\n",
      "25/25 [==============================] - 1s 55ms/step - loss: 0.1144 - mean_squared_error: 0.1144 - val_loss: 0.1186 - val_mean_squared_error: 0.1186\n",
      "Epoch 8/60\n",
      "25/25 [==============================] - 1s 49ms/step - loss: 0.0812 - mean_squared_error: 0.0812 - val_loss: 0.0764 - val_mean_squared_error: 0.0764\n",
      "Epoch 9/60\n",
      "25/25 [==============================] - 1s 49ms/step - loss: 0.0492 - mean_squared_error: 0.0492 - val_loss: 0.0423 - val_mean_squared_error: 0.0423\n",
      "Epoch 10/60\n",
      "25/25 [==============================] - 1s 49ms/step - loss: 0.0250 - mean_squared_error: 0.0250 - val_loss: 0.0238 - val_mean_squared_error: 0.0238\n",
      "Epoch 11/60\n",
      "25/25 [==============================] - 1s 49ms/step - loss: 0.0120 - mean_squared_error: 0.0120 - val_loss: 0.0167 - val_mean_squared_error: 0.0167\n",
      "Epoch 12/60\n",
      "25/25 [==============================] - 1s 49ms/step - loss: 0.0074 - mean_squared_error: 0.0074 - val_loss: 0.0148 - val_mean_squared_error: 0.0148\n",
      "Epoch 13/60\n",
      "25/25 [==============================] - 1s 48ms/step - loss: 0.0057 - mean_squared_error: 0.0057 - val_loss: 0.0133 - val_mean_squared_error: 0.0133\n",
      "Epoch 14/60\n",
      "25/25 [==============================] - 1s 49ms/step - loss: 0.0049 - mean_squared_error: 0.0049 - val_loss: 0.0132 - val_mean_squared_error: 0.0132\n",
      "Epoch 15/60\n",
      "25/25 [==============================] - 1s 49ms/step - loss: 0.0049 - mean_squared_error: 0.0049 - val_loss: 0.0130 - val_mean_squared_error: 0.0130\n",
      "Epoch 16/60\n",
      "25/25 [==============================] - 1s 52ms/step - loss: 0.0048 - mean_squared_error: 0.0048 - val_loss: 0.0128 - val_mean_squared_error: 0.0128\n",
      "Epoch 17/60\n",
      "25/25 [==============================] - 1s 48ms/step - loss: 0.0044 - mean_squared_error: 0.0044 - val_loss: 0.0125 - val_mean_squared_error: 0.0125\n",
      "Epoch 18/60\n",
      "25/25 [==============================] - 1s 47ms/step - loss: 0.0044 - mean_squared_error: 0.0044 - val_loss: 0.0120 - val_mean_squared_error: 0.0120\n",
      "Epoch 19/60\n",
      "25/25 [==============================] - 1s 52ms/step - loss: 0.0041 - mean_squared_error: 0.0041 - val_loss: 0.0120 - val_mean_squared_error: 0.0120\n",
      "Epoch 20/60\n",
      "25/25 [==============================] - 1s 52ms/step - loss: 0.0041 - mean_squared_error: 0.0041 - val_loss: 0.0130 - val_mean_squared_error: 0.0130\n",
      "Epoch 21/60\n",
      "25/25 [==============================] - 1s 50ms/step - loss: 0.0039 - mean_squared_error: 0.0039 - val_loss: 0.0128 - val_mean_squared_error: 0.0128\n",
      "Epoch 22/60\n",
      "25/25 [==============================] - 1s 52ms/step - loss: 0.0042 - mean_squared_error: 0.0042 - val_loss: 0.0124 - val_mean_squared_error: 0.0124\n",
      "Epoch 23/60\n",
      "25/25 [==============================] - 1s 48ms/step - loss: 0.0040 - mean_squared_error: 0.0040 - val_loss: 0.0123 - val_mean_squared_error: 0.0123\n",
      "Epoch 24/60\n",
      "25/25 [==============================] - 1s 48ms/step - loss: 0.0038 - mean_squared_error: 0.0038 - val_loss: 0.0128 - val_mean_squared_error: 0.0128\n",
      "Epoch 25/60\n",
      "25/25 [==============================] - 1s 48ms/step - loss: 0.0041 - mean_squared_error: 0.0041 - val_loss: 0.0122 - val_mean_squared_error: 0.0122\n",
      "Epoch 26/60\n",
      "25/25 [==============================] - 1s 48ms/step - loss: 0.0041 - mean_squared_error: 0.0041 - val_loss: 0.0122 - val_mean_squared_error: 0.0122\n",
      "Epoch 27/60\n",
      "25/25 [==============================] - 1s 48ms/step - loss: 0.0036 - mean_squared_error: 0.0036 - val_loss: 0.0126 - val_mean_squared_error: 0.0126\n",
      "Epoch 28/60\n",
      "25/25 [==============================] - 1s 48ms/step - loss: 0.0039 - mean_squared_error: 0.0039 - val_loss: 0.0121 - val_mean_squared_error: 0.0121\n",
      "Epoch 29/60\n",
      "25/25 [==============================] - 1s 48ms/step - loss: 0.0039 - mean_squared_error: 0.0039 - val_loss: 0.0120 - val_mean_squared_error: 0.0120\n",
      "Epoch 30/60\n",
      "25/25 [==============================] - 1s 48ms/step - loss: 0.0037 - mean_squared_error: 0.0037 - val_loss: 0.0115 - val_mean_squared_error: 0.0115\n",
      "Epoch 31/60\n",
      "25/25 [==============================] - 1s 51ms/step - loss: 0.0037 - mean_squared_error: 0.0037 - val_loss: 0.0126 - val_mean_squared_error: 0.0126\n",
      "Epoch 32/60\n",
      "25/25 [==============================] - 1s 48ms/step - loss: 0.0037 - mean_squared_error: 0.0037 - val_loss: 0.0120 - val_mean_squared_error: 0.0120\n",
      "Epoch 33/60\n",
      "25/25 [==============================] - 1s 48ms/step - loss: 0.0037 - mean_squared_error: 0.0037 - val_loss: 0.0115 - val_mean_squared_error: 0.0115\n",
      "Epoch 34/60\n",
      "25/25 [==============================] - 1s 49ms/step - loss: 0.0037 - mean_squared_error: 0.0037 - val_loss: 0.0124 - val_mean_squared_error: 0.0124\n",
      "Epoch 35/60\n",
      "25/25 [==============================] - 1s 48ms/step - loss: 0.0038 - mean_squared_error: 0.0038 - val_loss: 0.0113 - val_mean_squared_error: 0.0113\n",
      "Epoch 36/60\n",
      "25/25 [==============================] - 1s 48ms/step - loss: 0.0037 - mean_squared_error: 0.0037 - val_loss: 0.0114 - val_mean_squared_error: 0.0114\n",
      "Epoch 37/60\n",
      "25/25 [==============================] - 1s 48ms/step - loss: 0.0039 - mean_squared_error: 0.0039 - val_loss: 0.0120 - val_mean_squared_error: 0.0120\n",
      "Epoch 38/60\n",
      "25/25 [==============================] - 1s 48ms/step - loss: 0.0037 - mean_squared_error: 0.0037 - val_loss: 0.0117 - val_mean_squared_error: 0.0117\n",
      "Epoch 39/60\n",
      "25/25 [==============================] - 1s 47ms/step - loss: 0.0037 - mean_squared_error: 0.0037 - val_loss: 0.0110 - val_mean_squared_error: 0.0110\n",
      "Epoch 40/60\n",
      "25/25 [==============================] - 1s 48ms/step - loss: 0.0037 - mean_squared_error: 0.0037 - val_loss: 0.0110 - val_mean_squared_error: 0.0110\n",
      "Epoch 41/60\n",
      "25/25 [==============================] - 1s 49ms/step - loss: 0.0036 - mean_squared_error: 0.0036 - val_loss: 0.0113 - val_mean_squared_error: 0.0113\n",
      "Epoch 42/60\n",
      "25/25 [==============================] - 1s 48ms/step - loss: 0.0037 - mean_squared_error: 0.0037 - val_loss: 0.0111 - val_mean_squared_error: 0.0111\n",
      "Epoch 43/60\n",
      "25/25 [==============================] - 1s 48ms/step - loss: 0.0036 - mean_squared_error: 0.0036 - val_loss: 0.0113 - val_mean_squared_error: 0.0113\n",
      "Epoch 44/60\n",
      "25/25 [==============================] - 1s 48ms/step - loss: 0.0035 - mean_squared_error: 0.0035 - val_loss: 0.0125 - val_mean_squared_error: 0.0125\n",
      "Epoch 45/60\n",
      "25/25 [==============================] - 1s 48ms/step - loss: 0.0035 - mean_squared_error: 0.0035 - val_loss: 0.0115 - val_mean_squared_error: 0.0115\n",
      "Epoch 46/60\n",
      "25/25 [==============================] - 1s 49ms/step - loss: 0.0035 - mean_squared_error: 0.0035 - val_loss: 0.0109 - val_mean_squared_error: 0.0109\n",
      "Epoch 47/60\n",
      "25/25 [==============================] - 1s 48ms/step - loss: 0.0035 - mean_squared_error: 0.0035 - val_loss: 0.0109 - val_mean_squared_error: 0.0109\n",
      "Epoch 48/60\n",
      "25/25 [==============================] - 1s 48ms/step - loss: 0.0034 - mean_squared_error: 0.0034 - val_loss: 0.0116 - val_mean_squared_error: 0.0116\n",
      "Epoch 49/60\n",
      "25/25 [==============================] - 1s 54ms/step - loss: 0.0035 - mean_squared_error: 0.0035 - val_loss: 0.0105 - val_mean_squared_error: 0.0105\n",
      "Epoch 50/60\n",
      "25/25 [==============================] - 1s 50ms/step - loss: 0.0034 - mean_squared_error: 0.0034 - val_loss: 0.0110 - val_mean_squared_error: 0.0110\n",
      "Epoch 51/60\n",
      "25/25 [==============================] - 1s 50ms/step - loss: 0.0033 - mean_squared_error: 0.0033 - val_loss: 0.0113 - val_mean_squared_error: 0.0113\n",
      "Epoch 52/60\n",
      "25/25 [==============================] - 1s 50ms/step - loss: 0.0033 - mean_squared_error: 0.0033 - val_loss: 0.0106 - val_mean_squared_error: 0.0106\n",
      "Epoch 53/60\n",
      "25/25 [==============================] - 1s 50ms/step - loss: 0.0035 - mean_squared_error: 0.0035 - val_loss: 0.0105 - val_mean_squared_error: 0.0105\n",
      "Epoch 54/60\n",
      "25/25 [==============================] - 1s 50ms/step - loss: 0.0034 - mean_squared_error: 0.0034 - val_loss: 0.0107 - val_mean_squared_error: 0.0107\n",
      "Epoch 55/60\n",
      "25/25 [==============================] - 1s 48ms/step - loss: 0.0035 - mean_squared_error: 0.0035 - val_loss: 0.0108 - val_mean_squared_error: 0.0108\n",
      "Epoch 56/60\n",
      "25/25 [==============================] - 1s 50ms/step - loss: 0.0034 - mean_squared_error: 0.0034 - val_loss: 0.0104 - val_mean_squared_error: 0.0104\n",
      "Epoch 57/60\n",
      "25/25 [==============================] - 1s 49ms/step - loss: 0.0033 - mean_squared_error: 0.0033 - val_loss: 0.0104 - val_mean_squared_error: 0.0104\n",
      "Epoch 58/60\n",
      "25/25 [==============================] - 1s 49ms/step - loss: 0.0035 - mean_squared_error: 0.0035 - val_loss: 0.0111 - val_mean_squared_error: 0.0111\n",
      "Epoch 59/60\n",
      "25/25 [==============================] - 1s 49ms/step - loss: 0.0032 - mean_squared_error: 0.0032 - val_loss: 0.0108 - val_mean_squared_error: 0.0108\n",
      "Epoch 60/60\n",
      "25/25 [==============================] - 1s 49ms/step - loss: 0.0034 - mean_squared_error: 0.0034 - val_loss: 0.0103 - val_mean_squared_error: 0.0103\n"
     ]
    }
   ],
   "source": [
    "history2 = model2.fit(x_train, y_train, epochs=60 , steps_per_epoch=25, verbose=1,\n",
    "         validation_data=(x_val, y_val))"
   ]
  },
  {
   "cell_type": "code",
   "execution_count": 20,
   "id": "25da253e-c1f8-45d6-aba9-13a338720274",
   "metadata": {
    "collapsed": true,
    "jupyter": {
     "outputs_hidden": true
    },
    "tags": []
   },
   "outputs": [
    {
     "name": "stdout",
     "output_type": "stream",
     "text": [
      "Epoch 1/50\n",
      "34/34 [==============================] - 6s 138ms/step - loss: 0.1299 - mean_squared_error: 0.1299 - val_loss: 0.0085 - val_mean_squared_error: 0.0085\n",
      "Epoch 2/50\n",
      "34/34 [==============================] - 5s 135ms/step - loss: 0.0034 - mean_squared_error: 0.0034 - val_loss: 0.0085 - val_mean_squared_error: 0.0085\n",
      "Epoch 3/50\n",
      "34/34 [==============================] - 5s 137ms/step - loss: 0.0030 - mean_squared_error: 0.0030 - val_loss: 0.0086 - val_mean_squared_error: 0.0086\n",
      "Epoch 4/50\n",
      "34/34 [==============================] - 5s 138ms/step - loss: 0.0028 - mean_squared_error: 0.0028 - val_loss: 0.0084 - val_mean_squared_error: 0.0084\n",
      "Epoch 5/50\n",
      "34/34 [==============================] - 5s 138ms/step - loss: 0.0028 - mean_squared_error: 0.0028 - val_loss: 0.0087 - val_mean_squared_error: 0.0087\n",
      "Epoch 6/50\n",
      "34/34 [==============================] - 3s 98ms/step - loss: 0.0026 - mean_squared_error: 0.0026 - val_loss: 0.0085 - val_mean_squared_error: 0.0085\n",
      "Epoch 7/50\n",
      "34/34 [==============================] - 3s 94ms/step - loss: 0.0028 - mean_squared_error: 0.0028 - val_loss: 0.0083 - val_mean_squared_error: 0.0083\n",
      "Epoch 8/50\n",
      "34/34 [==============================] - 4s 104ms/step - loss: 0.0027 - mean_squared_error: 0.0027 - val_loss: 0.0087 - val_mean_squared_error: 0.0087\n",
      "Epoch 9/50\n",
      "34/34 [==============================] - 4s 105ms/step - loss: 0.0028 - mean_squared_error: 0.0028 - val_loss: 0.0082 - val_mean_squared_error: 0.0082\n",
      "Epoch 10/50\n",
      "34/34 [==============================] - 4s 104ms/step - loss: 0.0027 - mean_squared_error: 0.0027 - val_loss: 0.0083 - val_mean_squared_error: 0.0083\n",
      "Epoch 11/50\n",
      "34/34 [==============================] - 4s 105ms/step - loss: 0.0027 - mean_squared_error: 0.0027 - val_loss: 0.0083 - val_mean_squared_error: 0.0083\n",
      "Epoch 12/50\n",
      "34/34 [==============================] - 4s 104ms/step - loss: 0.0026 - mean_squared_error: 0.0026 - val_loss: 0.0086 - val_mean_squared_error: 0.0086\n",
      "Epoch 13/50\n",
      "34/34 [==============================] - 3s 103ms/step - loss: 0.0027 - mean_squared_error: 0.0027 - val_loss: 0.0082 - val_mean_squared_error: 0.0082\n",
      "Epoch 14/50\n",
      "34/34 [==============================] - 4s 105ms/step - loss: 0.0027 - mean_squared_error: 0.0027 - val_loss: 0.0083 - val_mean_squared_error: 0.0083\n"
     ]
    }
   ],
   "source": [
    "history1 = model1.fit(x_train, y_train, epochs=50, batch_size=50, verbose=1,\n",
    "         validation_data=(x_val, y_val), callbacks=[early,reduce])"
   ]
  },
  {
   "cell_type": "code",
   "execution_count": 21,
   "id": "58250276-035c-4114-b874-67268933bc7e",
   "metadata": {},
   "outputs": [
    {
     "name": "stdout",
     "output_type": "stream",
     "text": [
      "Model: \"sequential\"\n",
      "_________________________________________________________________\n",
      "Layer (type)                 Output Shape              Param #   \n",
      "=================================================================\n",
      "lstm (LSTM)                  (None, 128)               66560     \n",
      "_________________________________________________________________\n",
      "repeat_vector (RepeatVector) (None, 30, 128)           0         \n",
      "_________________________________________________________________\n",
      "lstm_1 (LSTM)                (None, 128)               131584    \n",
      "_________________________________________________________________\n",
      "dense (Dense)                (None, 1)                 129       \n",
      "=================================================================\n",
      "Total params: 198,273\n",
      "Trainable params: 198,273\n",
      "Non-trainable params: 0\n",
      "_________________________________________________________________\n"
     ]
    }
   ],
   "source": [
    "model1.summary()"
   ]
  },
  {
   "cell_type": "code",
   "execution_count": 22,
   "id": "b5a97986-c1b2-48d0-a90e-9d3e1ae35b9b",
   "metadata": {},
   "outputs": [
    {
     "name": "stdout",
     "output_type": "stream",
     "text": [
      "Model: \"sequential_1\"\n",
      "_________________________________________________________________\n",
      "Layer (type)                 Output Shape              Param #   \n",
      "=================================================================\n",
      "lstm_2 (LSTM)                (None, 60, 50)            10400     \n",
      "_________________________________________________________________\n",
      "lstm_3 (LSTM)                (None, 50)                20200     \n",
      "_________________________________________________________________\n",
      "dense_1 (Dense)              (None, 30)                1530      \n",
      "_________________________________________________________________\n",
      "activation (Activation)      (None, 30)                0         \n",
      "=================================================================\n",
      "Total params: 32,130\n",
      "Trainable params: 32,130\n",
      "Non-trainable params: 0\n",
      "_________________________________________________________________\n"
     ]
    }
   ],
   "source": [
    "model2.summary()"
   ]
  },
  {
   "cell_type": "markdown",
   "id": "998b223b-3e0b-4660-a8fb-0b50133e57be",
   "metadata": {},
   "source": [
    "## Test data set"
   ]
  },
  {
   "cell_type": "code",
   "execution_count": 23,
   "id": "db7779de-6b86-4729-b914-f9b17cb56bcc",
   "metadata": {},
   "outputs": [],
   "source": [
    "test_data = scaled_data[training_data_len: , :]\n",
    "x_test, y_test = split_sequences(test_data, n_steps_in, n_steps_out)"
   ]
  },
  {
   "cell_type": "code",
   "execution_count": 24,
   "id": "8eb63551-339f-44b8-9d6a-0a4a63471dee",
   "metadata": {},
   "outputs": [
    {
     "data": {
      "text/plain": [
       "(243, 1)"
      ]
     },
     "execution_count": 24,
     "metadata": {},
     "output_type": "execute_result"
    }
   ],
   "source": [
    "test_data.shape"
   ]
  },
  {
   "cell_type": "code",
   "execution_count": 42,
   "id": "717ae53c-39a6-4fd5-a31d-336fbe561e4a",
   "metadata": {
    "collapsed": true,
    "jupyter": {
     "outputs_hidden": true
    },
    "tags": []
   },
   "outputs": [
    {
     "data": {
      "text/plain": [
       "array([[0.5469954 ],\n",
       "       [0.50744735],\n",
       "       [0.51771954],\n",
       "       [0.50796094],\n",
       "       [0.49614792],\n",
       "       [0.50025677],\n",
       "       [0.51977403],\n",
       "       [0.50898819],\n",
       "       [0.50710494],\n",
       "       [0.5144667 ],\n",
       "       [0.52867656],\n",
       "       [0.52405412],\n",
       "       [0.5084746 ],\n",
       "       [0.52576613],\n",
       "       [0.5326143 ],\n",
       "       [0.54528332],\n",
       "       [0.53603832],\n",
       "       [0.53501114],\n",
       "       [0.53706556],\n",
       "       [0.52936139],\n",
       "       [0.54442732],\n",
       "       [0.54733775],\n",
       "       [0.55264508],\n",
       "       [0.54716657],\n",
       "       [0.58294812],\n",
       "       [0.59767164],\n",
       "       [0.56873819],\n",
       "       [0.54870741],\n",
       "       [0.51806196],\n",
       "       [0.54254407],\n",
       "       [0.54185924],\n",
       "       [0.52251329],\n",
       "       [0.53021739],\n",
       "       [0.53158705],\n",
       "       [0.56788219],\n",
       "       [0.550077  ],\n",
       "       [0.616504  ],\n",
       "       [0.63225476],\n",
       "       [0.6050334 ],\n",
       "       [0.58277688],\n",
       "       [0.61633283],\n",
       "       [0.64543745],\n",
       "       [0.64680704],\n",
       "       [0.6457798 ],\n",
       "       [0.65399762],\n",
       "       [0.64475262],\n",
       "       [0.66649548],\n",
       "       [0.69114876],\n",
       "       [0.69149118],\n",
       "       [0.68224617],\n",
       "       [0.65844889],\n",
       "       [0.67437082],\n",
       "       [0.67728125],\n",
       "       [0.68378701],\n",
       "       [0.67984933],\n",
       "       [0.68498543],\n",
       "       [0.674542  ],\n",
       "       [0.64851905],\n",
       "       [0.66632424],\n",
       "       [0.65057354],\n",
       "       [0.63995887],\n",
       "       [0.65981848],\n",
       "       [0.64800546],\n",
       "       [0.65930489],\n",
       "       [0.65314155],\n",
       "       [0.64920388],\n",
       "       [0.64098612],\n",
       "       [0.66546823],\n",
       "       [0.65742164],\n",
       "       [0.65468239],\n",
       "       [0.65519604],\n",
       "       [0.65964731],\n",
       "       [0.66307139],\n",
       "       [0.63619244],\n",
       "       [0.64646463],\n",
       "       [0.66546823],\n",
       "       [0.67539807],\n",
       "       [0.6694059 ],\n",
       "       [0.67728125],\n",
       "       [0.68909434],\n",
       "       [0.6866975 ],\n",
       "       [0.70090736],\n",
       "       [0.6639274 ],\n",
       "       [0.66820748],\n",
       "       [0.69046393],\n",
       "       [0.682931  ],\n",
       "       [0.67642525],\n",
       "       [0.64612221],\n",
       "       [0.64937512],\n",
       "       [0.62095533],\n",
       "       [0.62865944],\n",
       "       [0.61736001],\n",
       "       [0.63191235],\n",
       "       [0.64612221],\n",
       "       [0.66204415],\n",
       "       [0.7062147 ],\n",
       "       [0.72196539],\n",
       "       [0.75945901],\n",
       "       [0.74131141],\n",
       "       [0.74302342],\n",
       "       [0.74542026],\n",
       "       [0.74405067],\n",
       "       [0.75466527],\n",
       "       [0.76288303],\n",
       "       [0.75449409],\n",
       "       [0.76921761],\n",
       "       [0.80311591],\n",
       "       [0.8361582 ],\n",
       "       [0.88015751],\n",
       "       [0.86337957],\n",
       "       [0.8602979 ],\n",
       "       [0.85909948],\n",
       "       [0.85481939],\n",
       "       [0.85499056],\n",
       "       [0.82520118],\n",
       "       [0.83958222],\n",
       "       [0.90172913],\n",
       "       [0.87399417],\n",
       "       [0.86680359],\n",
       "       [0.86611882],\n",
       "       [0.90994689],\n",
       "       [0.92826567],\n",
       "       [0.90155795],\n",
       "       [0.92261598],\n",
       "       [0.90840606],\n",
       "       [0.91028931],\n",
       "       [0.88306794],\n",
       "       [0.85156648],\n",
       "       [0.85293614],\n",
       "       [0.89077211],\n",
       "       [0.91439822],\n",
       "       [0.90874847],\n",
       "       [0.92501282],\n",
       "       [0.91046055],\n",
       "       [0.9145694 ],\n",
       "       [0.94316042],\n",
       "       [0.96250638],\n",
       "       [0.95257661],\n",
       "       [0.95154936],\n",
       "       [0.95086453],\n",
       "       [0.93785309],\n",
       "       [0.94761169],\n",
       "       [0.9441876 ],\n",
       "       [0.94264677],\n",
       "       [0.93323059],\n",
       "       [0.92706725],\n",
       "       [0.88974487],\n",
       "       [0.92723849],\n",
       "       [0.91063172],\n",
       "       [0.91850707],\n",
       "       [0.92604007],\n",
       "       [0.93340183],\n",
       "       [0.92261598],\n",
       "       [0.93117616],\n",
       "       [0.93990751],\n",
       "       [0.92912174],\n",
       "       [0.90635163],\n",
       "       [0.90652287],\n",
       "       [0.90412597],\n",
       "       [0.92073273],\n",
       "       [0.9154254 ],\n",
       "       [0.88854645],\n",
       "       [0.86166749],\n",
       "       [0.89111453],\n",
       "       [0.93168975],\n",
       "       [0.92826567],\n",
       "       [0.92775208],\n",
       "       [0.89898987],\n",
       "       [0.89094329],\n",
       "       [0.89385378],\n",
       "       [0.90395479],\n",
       "       [0.90172913],\n",
       "       [0.91302856],\n",
       "       [0.92193115],\n",
       "       [0.91730865],\n",
       "       [0.9154254 ],\n",
       "       [0.90720764],\n",
       "       [0.8625235 ],\n",
       "       [0.86748842],\n",
       "       [0.86286591],\n",
       "       [0.87348058],\n",
       "       [0.86526275],\n",
       "       [0.84951206],\n",
       "       [0.85071048],\n",
       "       [0.84574556],\n",
       "       [0.8430063 ],\n",
       "       [0.83530213],\n",
       "       [0.81646976],\n",
       "       [0.80996401],\n",
       "       [0.82896762],\n",
       "       [0.81955143],\n",
       "       [0.80996401],\n",
       "       [0.80089024],\n",
       "       [0.79900699],\n",
       "       [0.77640813],\n",
       "       [0.7711008 ],\n",
       "       [0.77401129],\n",
       "       [0.78719397],\n",
       "       [0.78376989],\n",
       "       [0.76151344],\n",
       "       [0.7447355 ],\n",
       "       [0.74148259],\n",
       "       [0.7697312 ],\n",
       "       [0.77212804],\n",
       "       [0.74798834],\n",
       "       [0.75500768],\n",
       "       [0.7515836 ],\n",
       "       [0.71956855],\n",
       "       [0.69542885],\n",
       "       [0.7455915 ],\n",
       "       [0.77469612],\n",
       "       [0.74319466],\n",
       "       [0.73309365],\n",
       "       [0.7515836 ],\n",
       "       [0.74079782],\n",
       "       [0.75124118],\n",
       "       [0.74764593],\n",
       "       [0.73001198],\n",
       "       [0.71665812],\n",
       "       [0.73223764],\n",
       "       [0.70227702],\n",
       "       [0.72881356],\n",
       "       [0.73343606],\n",
       "       [0.71614447],\n",
       "       [0.74011299],\n",
       "       [0.75261084],\n",
       "       [0.73805857],\n",
       "       [0.72812873],\n",
       "       [0.72299264],\n",
       "       [0.69936653],\n",
       "       [0.69440161],\n",
       "       [0.67762367],\n",
       "       [0.67591166],\n",
       "       [0.69902411],\n",
       "       [0.7349769 ],\n",
       "       [0.74250983],\n",
       "       [0.72573189],\n",
       "       [0.73617532],\n",
       "       [0.70689946],\n",
       "       [0.71734289],\n",
       "       [0.71340521],\n",
       "       [0.71426122],\n",
       "       [0.70159219]])"
      ]
     },
     "execution_count": 42,
     "metadata": {},
     "output_type": "execute_result"
    }
   ],
   "source": [
    "test_data"
   ]
  },
  {
   "cell_type": "code",
   "execution_count": 25,
   "id": "85279944-79e1-4dda-ba7f-bbb8617ca775",
   "metadata": {},
   "outputs": [
    {
     "data": {
      "text/plain": [
       "(153, 60, 1)"
      ]
     },
     "execution_count": 25,
     "metadata": {},
     "output_type": "execute_result"
    }
   ],
   "source": [
    "x_test.shape"
   ]
  },
  {
   "cell_type": "code",
   "execution_count": 43,
   "id": "87b05af0-51a9-4e06-802b-4e4fdb1a4016",
   "metadata": {
    "collapsed": true,
    "jupyter": {
     "outputs_hidden": true
    },
    "tags": []
   },
   "outputs": [
    {
     "data": {
      "text/plain": [
       "array([[[0.5469954 ],\n",
       "        [0.50744735],\n",
       "        [0.51771954],\n",
       "        ...,\n",
       "        [0.64851905],\n",
       "        [0.66632424],\n",
       "        [0.65057354]],\n",
       "\n",
       "       [[0.50744735],\n",
       "        [0.51771954],\n",
       "        [0.50796094],\n",
       "        ...,\n",
       "        [0.66632424],\n",
       "        [0.65057354],\n",
       "        [0.63995887]],\n",
       "\n",
       "       [[0.51771954],\n",
       "        [0.50796094],\n",
       "        [0.49614792],\n",
       "        ...,\n",
       "        [0.65057354],\n",
       "        [0.63995887],\n",
       "        [0.65981848]],\n",
       "\n",
       "       ...,\n",
       "\n",
       "       [[0.92604007],\n",
       "        [0.93340183],\n",
       "        [0.92261598],\n",
       "        ...,\n",
       "        [0.71956855],\n",
       "        [0.69542885],\n",
       "        [0.7455915 ]],\n",
       "\n",
       "       [[0.93340183],\n",
       "        [0.92261598],\n",
       "        [0.93117616],\n",
       "        ...,\n",
       "        [0.69542885],\n",
       "        [0.7455915 ],\n",
       "        [0.77469612]],\n",
       "\n",
       "       [[0.92261598],\n",
       "        [0.93117616],\n",
       "        [0.93990751],\n",
       "        ...,\n",
       "        [0.7455915 ],\n",
       "        [0.77469612],\n",
       "        [0.74319466]]])"
      ]
     },
     "execution_count": 43,
     "metadata": {},
     "output_type": "execute_result"
    }
   ],
   "source": [
    "x_test"
   ]
  },
  {
   "cell_type": "code",
   "execution_count": 26,
   "id": "4e0d62ee-e34a-4b23-8fa5-cae33702e499",
   "metadata": {},
   "outputs": [
    {
     "data": {
      "text/plain": [
       "(153, 30)"
      ]
     },
     "execution_count": 26,
     "metadata": {},
     "output_type": "execute_result"
    }
   ],
   "source": [
    "y_test.shape"
   ]
  },
  {
   "cell_type": "code",
   "execution_count": 27,
   "id": "289171a8-5a8b-4e33-87b3-127595e3fe07",
   "metadata": {},
   "outputs": [],
   "source": [
    "y_test_inv = scaler.inverse_transform(y_test)"
   ]
  },
  {
   "cell_type": "markdown",
   "id": "12a8e527-e529-467d-b3b6-f03c37d8464f",
   "metadata": {},
   "source": [
    "## Model1"
   ]
  },
  {
   "cell_type": "code",
   "execution_count": 28,
   "id": "d4584ccb-a66c-40b6-9c57-f431a6737761",
   "metadata": {},
   "outputs": [],
   "source": [
    "y_pred1 = model1.predict(x_test)"
   ]
  },
  {
   "cell_type": "code",
   "execution_count": 29,
   "id": "f4cbec38-cc5a-49db-8ec2-1bbae089c278",
   "metadata": {},
   "outputs": [],
   "source": [
    "#pred1_e1d1[:,:,index]=scaler.inverse_transform(pred1_e1d1[:,:,index])\n",
    "#y_train[:,:,index]=scaler.inverse_transform(y_train[:,:,index])\n",
    "\n",
    "y_pred_inv1 = scaler.inverse_transform(y_pred1)"
   ]
  },
  {
   "cell_type": "code",
   "execution_count": 30,
   "id": "a1c19e35-f6e9-492c-b226-0127d19a5234",
   "metadata": {},
   "outputs": [
    {
     "name": "stdout",
     "output_type": "stream",
     "text": [
      "RMSE：4.6968\n"
     ]
    }
   ],
   "source": [
    "rmse1 = np.sqrt(np.mean(((y_pred_inv1 -y_test_inv) ** 2)))\n",
    "print(f'RMSE：{np.round(rmse1, 4)}')"
   ]
  },
  {
   "cell_type": "code",
   "execution_count": 31,
   "id": "4153f100-1e93-415b-8738-ca73a983c736",
   "metadata": {},
   "outputs": [
    {
     "data": {
      "image/png": "[encoded data removed]",
      "text/plain": [
       "<Figure size 432x288 with 1 Axes>"
      ]
     },
     "metadata": {
      "needs_background": "light"
     },
     "output_type": "display_data"
    }
   ],
   "source": [
    "plt.plot(history1.history['loss'])\n",
    "plt.plot(history1.history['val_loss'])\n",
    "plt.xlabel('Epochs')\n",
    "plt.ylabel('MSE')\n",
    "plt.legend(['Train','Val']);"
   ]
  },
  {
   "cell_type": "code",
   "execution_count": 32,
   "id": "d239cf77-aa62-45e1-ad16-68c4740fb3ec",
   "metadata": {},
   "outputs": [
    {
     "data": {
      "image/png": "[encoded data removed]",
      "text/plain": [
       "<Figure size 432x288 with 1 Axes>"
      ]
     },
     "metadata": {
      "needs_background": "light"
     },
     "output_type": "display_data"
    }
   ],
   "source": [
    "plt.plot(history1.history['mean_squared_error'])\n",
    "plt.plot(history1.history['val_mean_squared_error'])\n",
    "plt.xlabel('Epochs')\n",
    "plt.ylabel('MSE')\n",
    "plt.legend(['Train','Val']);"
   ]
  },
  {
   "cell_type": "markdown",
   "id": "2cd75f85-e597-4c42-bdb0-69ec893defd5",
   "metadata": {},
   "source": [
    "## Model 2"
   ]
  },
  {
   "cell_type": "code",
   "execution_count": 33,
   "id": "f64175e0-6fe5-4f6a-9a15-27a38ca2cde9",
   "metadata": {},
   "outputs": [],
   "source": [
    "y_pred2 = model2.predict(x_test)\n",
    "y_pred_inv2 = scaler.inverse_transform(y_pred2)"
   ]
  },
  {
   "cell_type": "code",
   "execution_count": 34,
   "id": "56bcbd3a-1071-4e99-8165-54f00929acc6",
   "metadata": {},
   "outputs": [
    {
     "data": {
      "text/plain": [
       "(153, 30)"
      ]
     },
     "execution_count": 34,
     "metadata": {},
     "output_type": "execute_result"
    }
   ],
   "source": [
    "y_pred_inv2.shape"
   ]
  },
  {
   "cell_type": "code",
   "execution_count": 35,
   "id": "8676ec5d-c896-412e-bf08-8ee88a470c00",
   "metadata": {},
   "outputs": [
    {
     "name": "stdout",
     "output_type": "stream",
     "text": [
      "RMSE：5.5477\n"
     ]
    }
   ],
   "source": [
    "rmse1 = np.sqrt(np.mean(((y_pred_inv2 -y_test_inv) ** 2)))\n",
    "print(f'RMSE：{np.round(rmse1, 4)}')"
   ]
  },
  {
   "cell_type": "code",
   "execution_count": 36,
   "id": "6faf7c37-12e1-4878-8ed5-07efaae40c45",
   "metadata": {},
   "outputs": [
    {
     "data": {
      "image/png": "[encoded data removed]",
      "text/plain": [
       "<Figure size 432x288 with 1 Axes>"
      ]
     },
     "metadata": {
      "needs_background": "light"
     },
     "output_type": "display_data"
    }
   ],
   "source": [
    "plt.plot(history2.history['loss'])\n",
    "plt.plot(history2.history['val_loss'])\n",
    "plt.xlabel('Epochs')\n",
    "plt.ylabel('MSE')\n",
    "plt.legend(['Train','Val']);"
   ]
  },
  {
   "cell_type": "code",
   "execution_count": 37,
   "id": "1a293f89-059e-4cbb-9ebe-3ce9792da2e8",
   "metadata": {},
   "outputs": [
    {
     "data": {
      "image/png": "[encoded data removed]",
      "text/plain": [
       "<Figure size 432x288 with 1 Axes>"
      ]
     },
     "metadata": {
      "needs_background": "light"
     },
     "output_type": "display_data"
    }
   ],
   "source": [
    "plt.plot(history2.history['mean_squared_error'])\n",
    "plt.plot(history2.history['val_mean_squared_error'])\n",
    "plt.xlabel('Epochs')\n",
    "plt.ylabel('MSE')\n",
    "plt.legend(['Train','Val']);"
   ]
  },
  {
   "cell_type": "code",
   "execution_count": 38,
   "id": "3d0223d7-a0cc-494d-a9ec-f451275e1699",
   "metadata": {},
   "outputs": [],
   "source": [
    "train = data[:training_data_len]\n",
    "test = data[training_data_len+60:]"
   ]
  },
  {
   "cell_type": "code",
   "execution_count": 39,
   "id": "f49aab52-fca0-48a9-a998-a763b7025d8b",
   "metadata": {},
   "outputs": [
    {
     "data": {
      "text/plain": [
       "(183, 1)"
      ]
     },
     "execution_count": 39,
     "metadata": {},
     "output_type": "execute_result"
    }
   ],
   "source": [
    "test.shape"
   ]
  },
  {
   "cell_type": "code",
   "execution_count": 40,
   "id": "89c95172-5d1a-4dbe-8278-38d90c869317",
   "metadata": {},
   "outputs": [
    {
     "data": {
      "text/plain": [
       "(153, 30)"
      ]
     },
     "execution_count": 40,
     "metadata": {},
     "output_type": "execute_result"
    }
   ],
   "source": [
    "y_pred_inv2.shape"
   ]
  },
  {
   "cell_type": "code",
   "execution_count": 52,
   "id": "2558f2fd-86fa-4175-9910-21d004db60b2",
   "metadata": {},
   "outputs": [],
   "source": [
    "last_30=y_pred_inv2[-1]"
   ]
  },
  {
   "cell_type": "code",
   "execution_count": 55,
   "id": "c8855505-af0f-454a-946f-e74a0eb2e76c",
   "metadata": {},
   "outputs": [
    {
     "data": {
      "text/plain": [
       "array([52.024544, 52.10908 , 52.221207, 52.453335, 52.39404 , 52.08955 ,\n",
       "       51.294926, 51.98916 , 51.85924 , 51.58613 , 51.68083 , 52.328407,\n",
       "       53.19584 , 51.51161 , 52.47665 , 51.621613, 51.374992, 51.503147,\n",
       "       51.5648  , 51.660873, 52.81642 , 51.143135, 51.527927, 52.396248,\n",
       "       53.007095, 50.982376, 52.487267, 52.602116, 51.90414 , 52.09467 ],\n",
       "      dtype=float32)"
      ]
     },
     "execution_count": 55,
     "metadata": {},
     "output_type": "execute_result"
    }
   ],
   "source": [
    "last_30"
   ]
  },
  {
   "cell_type": "code",
   "execution_count": 49,
   "id": "81428548-922a-4204-9662-ce751c9ede72",
   "metadata": {},
   "outputs": [],
   "source": [
    "y_pred_inv2_t= [ t[0]  for t in y_pred_inv2[:-1]]"
   ]
  },
  {
   "cell_type": "code",
   "execution_count": 50,
   "id": "ba3863d9-5ad5-4c26-b743-72f1bd7c52da",
   "metadata": {},
   "outputs": [
    {
     "data": {
      "text/plain": [
       "152"
      ]
     },
     "execution_count": 50,
     "metadata": {},
     "output_type": "execute_result"
    }
   ],
   "source": [
    "len(y_pred_inv2_t)"
   ]
  },
  {
   "cell_type": "code",
   "execution_count": 57,
   "id": "04bbfd70-2a59-427a-a97d-8cf7fa00dba0",
   "metadata": {},
   "outputs": [],
   "source": [
    "y_pred_inv2_fin = y_pred_inv2_t.append(last_30)"
   ]
  },
  {
   "cell_type": "code",
   "execution_count": 60,
   "id": "0f0113fe-2967-483d-a17c-73abd6bc9c4b",
   "metadata": {},
   "outputs": [
    {
     "name": "stdout",
     "output_type": "stream",
     "text": [
      "None\n"
     ]
    }
   ],
   "source": [
    "print(y_pred_inv2_fin)"
   ]
  },
  {
   "cell_type": "code",
   "execution_count": null,
   "id": "3b962ebc-961d-4918-9395-17b3a99a94b3",
   "metadata": {},
   "outputs": [],
   "source": [
    "train.tail()"
   ]
  },
  {
   "cell_type": "code",
   "execution_count": null,
   "id": "7b1f9d9f-5d78-4eb2-a79f-55c242cb90d2",
   "metadata": {},
   "outputs": [],
   "source": [
    "test.shape"
   ]
  },
  {
   "cell_type": "code",
   "execution_count": null,
   "id": "a91fdabe-12af-477d-8e05-6a0448d0aa53",
   "metadata": {},
   "outputs": [],
   "source": [
    "test['Predictions'] = y_pred_inv2_t[:-30]"
   ]
  },
  {
   "cell_type": "code",
   "execution_count": null,
   "id": "31156872-e483-4e45-a1a1-5fa927c1d65d",
   "metadata": {},
   "outputs": [],
   "source": [
    "# Visualize the data\n",
    "plt.figure(figsize=(16,6))\n",
    "plt.title('Model')\n",
    "plt.xlabel('Date', fontsize=18)\n",
    "plt.ylabel('Close Price USD ($)', fontsize=18)\n",
    "plt.plot(train['Close'])\n",
    "plt.plot(test[['Close','Predictions']])\n",
    "plt.legend(['Train', 'Test', 'Predictions'], loc='lower right')\n",
    "plt.show()"
   ]
  },
  {
   "cell_type": "code",
   "execution_count": null,
   "id": "8eca3893-7e1f-4246-8fd7-0137e5f0cdb3",
   "metadata": {},
   "outputs": [],
   "source": []
  }
 ],
 "metadata": {
  "kernelspec": {
   "display_name": "tf_env",
   "language": "python",
   "name": "tf_env"
  },
  "language_info": {
   "codemirror_mode": {
    "name": "ipython",
    "version": 3
   },
   "file_extension": ".py",
   "mimetype": "text/x-python",
   "name": "python",
   "nbconvert_exporter": "python",
   "pygments_lexer": "ipython3",
   "version": "3.8.11"
  }
 },
 "nbformat": 4,
 "nbformat_minor": 5
}
