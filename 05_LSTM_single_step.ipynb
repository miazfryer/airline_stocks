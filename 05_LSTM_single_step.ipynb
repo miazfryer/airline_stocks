{
 "cells": [
  {
   "cell_type": "code",
   "execution_count": 1,
   "id": "565951fd-8a05-4a12-8916-536255ae7b69",
   "metadata": {},
   "outputs": [],
   "source": [
    "#basic\n",
    "import pandas as pd\n",
    "import numpy as np\n",
    "\n",
    "#plot\n",
    "import matplotlib.pyplot as plt\n",
    "import seaborn as sns\n",
    "sns.set_style('whitegrid')\n",
    "sns.set(rc={'figure.figsize':(16,8)})\n",
    "sns.set(font_scale=1.3)\n",
    "plt.style.use(\"fivethirtyeight\")\n",
    "%matplotlib inline\n",
    "\n",
    "\n",
    "# For reading stock data \n",
    "from pandas_datareader.data import DataReader\n",
    "\n",
    "# For time stamps\n",
    "from datetime import datetime\n",
    "\n",
    "#for evaluation\n",
    "from statsmodels.graphics.tsaplots import plot_acf, plot_pacf\n",
    "from sklearn.metrics import mean_squared_error, mean_absolute_error\n",
    "\n",
    "#for modeling\n",
    "from sklearn.preprocessing import MinMaxScaler\n",
    "from tensorflow.keras.models import Sequential\n",
    "from tensorflow.keras.layers import Dense, Dropout, LSTM, RepeatVector, TimeDistributed, Bidirectional\n",
    "from tensorflow.keras.callbacks import EarlyStopping, ReduceLROnPlateau\n",
    "\n",
    "import warnings\n",
    "warnings.filterwarnings('ignore')\n",
    "\n",
    "from statsmodels.tsa.arima_model import ARIMA\n",
    "from pmdarima.arima import auto_arima\n",
    "\n",
    "np.random.seed(123)"
   ]
  },
  {
   "cell_type": "markdown",
   "id": "f54c05aa-8d97-4cd3-890a-6b3fcd81c1c8",
   "metadata": {},
   "source": [
    "## Load Data"
   ]
  },
  {
   "cell_type": "code",
   "execution_count": 2,
   "id": "25ea72e6-4387-46ba-b61c-5e598c2603dd",
   "metadata": {},
   "outputs": [
    {
     "data": {
      "text/html": [
       "<div>\n",
       "<style scoped>\n",
       "    .dataframe tbody tr th:only-of-type {\n",
       "        vertical-align: middle;\n",
       "    }\n",
       "\n",
       "    .dataframe tbody tr th {\n",
       "        vertical-align: top;\n",
       "    }\n",
       "\n",
       "    .dataframe thead th {\n",
       "        text-align: right;\n",
       "    }\n",
       "</style>\n",
       "<table border=\"1\" class=\"dataframe\">\n",
       "  <thead>\n",
       "    <tr style=\"text-align: right;\">\n",
       "      <th></th>\n",
       "      <th>High</th>\n",
       "      <th>Low</th>\n",
       "      <th>Open</th>\n",
       "      <th>Close</th>\n",
       "      <th>Volume</th>\n",
       "      <th>Adj Close</th>\n",
       "    </tr>\n",
       "    <tr>\n",
       "      <th>Date</th>\n",
       "      <th></th>\n",
       "      <th></th>\n",
       "      <th></th>\n",
       "      <th></th>\n",
       "      <th></th>\n",
       "      <th></th>\n",
       "    </tr>\n",
       "  </thead>\n",
       "  <tbody>\n",
       "    <tr>\n",
       "      <th>2012-01-03</th>\n",
       "      <td>5.220000</td>\n",
       "      <td>5.070000</td>\n",
       "      <td>5.200000</td>\n",
       "      <td>5.120000</td>\n",
       "      <td>6105900.0</td>\n",
       "      <td>4.826837</td>\n",
       "    </tr>\n",
       "    <tr>\n",
       "      <th>2012-01-04</th>\n",
       "      <td>5.180000</td>\n",
       "      <td>4.970000</td>\n",
       "      <td>5.090000</td>\n",
       "      <td>5.030000</td>\n",
       "      <td>5268700.0</td>\n",
       "      <td>4.741990</td>\n",
       "    </tr>\n",
       "    <tr>\n",
       "      <th>2012-01-05</th>\n",
       "      <td>5.480000</td>\n",
       "      <td>5.070000</td>\n",
       "      <td>5.150000</td>\n",
       "      <td>5.470000</td>\n",
       "      <td>8216100.0</td>\n",
       "      <td>5.156795</td>\n",
       "    </tr>\n",
       "    <tr>\n",
       "      <th>2012-01-06</th>\n",
       "      <td>5.670000</td>\n",
       "      <td>5.400000</td>\n",
       "      <td>5.440000</td>\n",
       "      <td>5.600000</td>\n",
       "      <td>8323000.0</td>\n",
       "      <td>5.279352</td>\n",
       "    </tr>\n",
       "    <tr>\n",
       "      <th>2012-01-09</th>\n",
       "      <td>5.800000</td>\n",
       "      <td>5.550000</td>\n",
       "      <td>5.560000</td>\n",
       "      <td>5.720000</td>\n",
       "      <td>8029900.0</td>\n",
       "      <td>5.392481</td>\n",
       "    </tr>\n",
       "    <tr>\n",
       "      <th>...</th>\n",
       "      <td>...</td>\n",
       "      <td>...</td>\n",
       "      <td>...</td>\n",
       "      <td>...</td>\n",
       "      <td>...</td>\n",
       "      <td>...</td>\n",
       "    </tr>\n",
       "    <tr>\n",
       "      <th>2021-09-02</th>\n",
       "      <td>19.980000</td>\n",
       "      <td>19.480000</td>\n",
       "      <td>19.730000</td>\n",
       "      <td>19.760000</td>\n",
       "      <td>20179400.0</td>\n",
       "      <td>19.760000</td>\n",
       "    </tr>\n",
       "    <tr>\n",
       "      <th>2021-09-03</th>\n",
       "      <td>19.930000</td>\n",
       "      <td>19.320000</td>\n",
       "      <td>19.680000</td>\n",
       "      <td>19.370001</td>\n",
       "      <td>20311900.0</td>\n",
       "      <td>19.370001</td>\n",
       "    </tr>\n",
       "    <tr>\n",
       "      <th>2021-09-07</th>\n",
       "      <td>19.650000</td>\n",
       "      <td>19.209999</td>\n",
       "      <td>19.360001</td>\n",
       "      <td>19.530001</td>\n",
       "      <td>18291000.0</td>\n",
       "      <td>19.530001</td>\n",
       "    </tr>\n",
       "    <tr>\n",
       "      <th>2021-09-08</th>\n",
       "      <td>19.799999</td>\n",
       "      <td>19.049999</td>\n",
       "      <td>19.530001</td>\n",
       "      <td>19.129999</td>\n",
       "      <td>21836100.0</td>\n",
       "      <td>19.129999</td>\n",
       "    </tr>\n",
       "    <tr>\n",
       "      <th>2021-09-09</th>\n",
       "      <td>20.504999</td>\n",
       "      <td>19.010000</td>\n",
       "      <td>19.100000</td>\n",
       "      <td>20.200001</td>\n",
       "      <td>60077156.0</td>\n",
       "      <td>20.200001</td>\n",
       "    </tr>\n",
       "  </tbody>\n",
       "</table>\n",
       "<p>2438 rows × 6 columns</p>\n",
       "</div>"
      ],
      "text/plain": [
       "                 High        Low       Open      Close      Volume  Adj Close\n",
       "Date                                                                         \n",
       "2012-01-03   5.220000   5.070000   5.200000   5.120000   6105900.0   4.826837\n",
       "2012-01-04   5.180000   4.970000   5.090000   5.030000   5268700.0   4.741990\n",
       "2012-01-05   5.480000   5.070000   5.150000   5.470000   8216100.0   5.156795\n",
       "2012-01-06   5.670000   5.400000   5.440000   5.600000   8323000.0   5.279352\n",
       "2012-01-09   5.800000   5.550000   5.560000   5.720000   8029900.0   5.392481\n",
       "...               ...        ...        ...        ...         ...        ...\n",
       "2021-09-02  19.980000  19.480000  19.730000  19.760000  20179400.0  19.760000\n",
       "2021-09-03  19.930000  19.320000  19.680000  19.370001  20311900.0  19.370001\n",
       "2021-09-07  19.650000  19.209999  19.360001  19.530001  18291000.0  19.530001\n",
       "2021-09-08  19.799999  19.049999  19.530001  19.129999  21836100.0  19.129999\n",
       "2021-09-09  20.504999  19.010000  19.100000  20.200001  60077156.0  20.200001\n",
       "\n",
       "[2438 rows x 6 columns]"
      ]
     },
     "execution_count": 2,
     "metadata": {},
     "output_type": "execute_result"
    }
   ],
   "source": [
    "df = DataReader('AAL', data_source='yahoo', start='2012-01-01', end=datetime.now())\n",
    "df"
   ]
  },
  {
   "cell_type": "markdown",
   "id": "33522a7a-ca22-4488-855f-31d8ecf7aeb3",
   "metadata": {},
   "source": [
    "## Data evaluation"
   ]
  },
  {
   "cell_type": "code",
   "execution_count": 3,
   "id": "39729648-c261-4f43-9d84-bb5e7247d8cf",
   "metadata": {},
   "outputs": [
    {
     "data": {
      "image/png": "[encoded data removed]",
      "text/plain": [
       "<Figure size 1152x432 with 1 Axes>"
      ]
     },
     "metadata": {
      "needs_background": "light"
     },
     "output_type": "display_data"
    }
   ],
   "source": [
    "plt.figure(figsize=(16,6))\n",
    "plt.title('Close Price History')\n",
    "plt.plot(df['Close'])\n",
    "plt.xlabel('Date', fontsize=18)\n",
    "plt.ylabel('Close Price USD ($)', fontsize=18)\n",
    "plt.show()"
   ]
  },
  {
   "cell_type": "markdown",
   "id": "aa1abf51-70fc-43e5-b00e-4c2a25345a23",
   "metadata": {},
   "source": [
    "## Data preparation"
   ]
  },
  {
   "cell_type": "code",
   "execution_count": 4,
   "id": "05f3aa74-0e5e-47cd-b2d0-cea8cb0142e2",
   "metadata": {},
   "outputs": [
    {
     "data": {
      "text/html": [
       "<div>\n",
       "<style scoped>\n",
       "    .dataframe tbody tr th:only-of-type {\n",
       "        vertical-align: middle;\n",
       "    }\n",
       "\n",
       "    .dataframe tbody tr th {\n",
       "        vertical-align: top;\n",
       "    }\n",
       "\n",
       "    .dataframe thead th {\n",
       "        text-align: right;\n",
       "    }\n",
       "</style>\n",
       "<table border=\"1\" class=\"dataframe\">\n",
       "  <thead>\n",
       "    <tr style=\"text-align: right;\">\n",
       "      <th></th>\n",
       "      <th>Close</th>\n",
       "    </tr>\n",
       "    <tr>\n",
       "      <th>Date</th>\n",
       "      <th></th>\n",
       "    </tr>\n",
       "  </thead>\n",
       "  <tbody>\n",
       "    <tr>\n",
       "      <th>2012-01-03</th>\n",
       "      <td>5.120000</td>\n",
       "    </tr>\n",
       "    <tr>\n",
       "      <th>2012-01-04</th>\n",
       "      <td>5.030000</td>\n",
       "    </tr>\n",
       "    <tr>\n",
       "      <th>2012-01-05</th>\n",
       "      <td>5.470000</td>\n",
       "    </tr>\n",
       "    <tr>\n",
       "      <th>2012-01-06</th>\n",
       "      <td>5.600000</td>\n",
       "    </tr>\n",
       "    <tr>\n",
       "      <th>2012-01-09</th>\n",
       "      <td>5.720000</td>\n",
       "    </tr>\n",
       "    <tr>\n",
       "      <th>...</th>\n",
       "      <td>...</td>\n",
       "    </tr>\n",
       "    <tr>\n",
       "      <th>2021-09-02</th>\n",
       "      <td>19.760000</td>\n",
       "    </tr>\n",
       "    <tr>\n",
       "      <th>2021-09-03</th>\n",
       "      <td>19.370001</td>\n",
       "    </tr>\n",
       "    <tr>\n",
       "      <th>2021-09-07</th>\n",
       "      <td>19.530001</td>\n",
       "    </tr>\n",
       "    <tr>\n",
       "      <th>2021-09-08</th>\n",
       "      <td>19.129999</td>\n",
       "    </tr>\n",
       "    <tr>\n",
       "      <th>2021-09-09</th>\n",
       "      <td>20.200001</td>\n",
       "    </tr>\n",
       "  </tbody>\n",
       "</table>\n",
       "<p>2438 rows × 1 columns</p>\n",
       "</div>"
      ],
      "text/plain": [
       "                Close\n",
       "Date                 \n",
       "2012-01-03   5.120000\n",
       "2012-01-04   5.030000\n",
       "2012-01-05   5.470000\n",
       "2012-01-06   5.600000\n",
       "2012-01-09   5.720000\n",
       "...               ...\n",
       "2021-09-02  19.760000\n",
       "2021-09-03  19.370001\n",
       "2021-09-07  19.530001\n",
       "2021-09-08  19.129999\n",
       "2021-09-09  20.200001\n",
       "\n",
       "[2438 rows x 1 columns]"
      ]
     },
     "execution_count": 4,
     "metadata": {},
     "output_type": "execute_result"
    }
   ],
   "source": [
    "# Create a new dataframe with only the 'Close column\n",
    "#data= AAPL['Close'].values.reshape(-1, 1)\n",
    "data = df.filter(['Close'])\n",
    "data"
   ]
  },
  {
   "cell_type": "code",
   "execution_count": 5,
   "id": "37cc9a8e-0cdd-4791-a4b1-48efea616ae0",
   "metadata": {
    "tags": []
   },
   "outputs": [],
   "source": [
    "# Convert the dataframe to a numpy array\n",
    "dataset = data.values"
   ]
  },
  {
   "cell_type": "code",
   "execution_count": 6,
   "id": "ad86b979-5779-4524-91d0-a0ed81df5182",
   "metadata": {},
   "outputs": [
    {
     "data": {
      "text/plain": [
       "(2438, 1)"
      ]
     },
     "execution_count": 6,
     "metadata": {},
     "output_type": "execute_result"
    }
   ],
   "source": [
    "dataset.shape"
   ]
  },
  {
   "cell_type": "code",
   "execution_count": 7,
   "id": "fefa9a5a-5398-4a4f-91d7-1c3804c12c22",
   "metadata": {},
   "outputs": [],
   "source": [
    "scaler = MinMaxScaler(feature_range=(0,1))\n",
    "scaled_data = scaler.fit_transform(dataset)\n"
   ]
  },
  {
   "cell_type": "code",
   "execution_count": 8,
   "id": "663f013a-668f-4d21-aa32-923fde0e9a93",
   "metadata": {},
   "outputs": [],
   "source": [
    "training_data_len = int(np.ceil( len(dataset) * .9 ))\n",
    "train_data = scaled_data[0:int(training_data_len), :]"
   ]
  },
  {
   "cell_type": "code",
   "execution_count": 9,
   "id": "8002030e-39a0-4f1a-8ee0-d7ee9b87e21f",
   "metadata": {},
   "outputs": [
    {
     "data": {
      "text/plain": [
       "(2195, 1)"
      ]
     },
     "execution_count": 9,
     "metadata": {},
     "output_type": "execute_result"
    }
   ],
   "source": [
    "train_data.shape"
   ]
  },
  {
   "cell_type": "code",
   "execution_count": 10,
   "id": "4dfbf7a6-432b-4374-966e-aa6d5ee80ed0",
   "metadata": {},
   "outputs": [],
   "source": [
    "def train_val(data):\n",
    "    train_size = int(len(data) * 0.8)\n",
    "    train = data[0:train_size]\n",
    "    val= data[train_size:len(data)]\n",
    "    return train, val"
   ]
  },
  {
   "cell_type": "code",
   "execution_count": 11,
   "id": "ae67d86a-26c4-4dc3-9264-c7e636f499e3",
   "metadata": {},
   "outputs": [],
   "source": [
    "train_1, val_1 = train_val(train_data)"
   ]
  },
  {
   "cell_type": "code",
   "execution_count": 12,
   "id": "5553c942-0627-42c2-8607-ee591b59b8d1",
   "metadata": {},
   "outputs": [
    {
     "data": {
      "image/png": "[encoded data removed]",
      "text/plain": [
       "<Figure size 864x576 with 1 Axes>"
      ]
     },
     "metadata": {
      "needs_background": "light"
     },
     "output_type": "display_data"
    }
   ],
   "source": [
    "fig, ax = plt.subplots(figsize=(12, 8))\n",
    "ax.plot(train_1, label='train')\n",
    "ax.plot(val_1, label='test')\n",
    "ax.set_title('Train-Test Split');\n",
    "plt.legend();"
   ]
  },
  {
   "cell_type": "code",
   "execution_count": 13,
   "id": "4c717ee7-f581-4cc0-b843-9220ccbaf5f7",
   "metadata": {},
   "outputs": [],
   "source": [
    "#The LSTM needs data with the format of [samples, time steps and features]\n",
    "#[10 20 30] 40\n",
    "#[20 30 40] 50\n",
    "#[30 40 50] 60\n",
    "#using the size of time step as a batch to predict the next value \n",
    "\n",
    "def split_sequence(sequence, n_steps):\n",
    "#convert input data into 3-D array as required for LSTM network\n",
    "    \n",
    "    X, y = [], []\n",
    "    for i in range(len(sequence)):\n",
    "        # find the end of this pattern\n",
    "        end_ix = i + n_steps\n",
    "        # check if we are beyond the sequence\n",
    "        if end_ix > len(sequence)-1:\n",
    "            break\n",
    "        # gather input and output parts of the pattern\n",
    "        seq_x, seq_y = sequence[i:end_ix], sequence[end_ix]\n",
    "        X.append(seq_x)\n",
    "        y.append(seq_y)\n",
    "    return np.array(X), np.array(y)"
   ]
  },
  {
   "cell_type": "code",
   "execution_count": 14,
   "id": "d41938c5-1bff-4335-8412-6203e73602c8",
   "metadata": {},
   "outputs": [],
   "source": [
    "def prepare_training(data, n_steps):\n",
    "    #data = to_dataset(data)\n",
    "    train, val = train_val(data)\n",
    "    x_train, y_train = split_sequence(train, n_steps)\n",
    "    x_val, y_val = split_sequence(val, n_steps)\n",
    "    features = 1\n",
    "    return x_train, y_train, x_val, y_val, features\n"
   ]
  },
  {
   "cell_type": "markdown",
   "id": "49b907f7-c6a4-4047-b849-1e5635d22dbd",
   "metadata": {},
   "source": [
    "## Modeling"
   ]
  },
  {
   "cell_type": "code",
   "execution_count": 15,
   "id": "8b2004fd-97d0-4453-9b28-5117173bc402",
   "metadata": {},
   "outputs": [],
   "source": [
    "\n",
    "def creat_model1(n_steps, features):\n",
    "    model = Sequential()\n",
    "    model.add(LSTM(128, activation='relu', return_sequences=False, input_shape=(n_steps, features)))\n",
    "    model.add(RepeatVector(n_steps))\n",
    "    model.add(LSTM(128, activation='relu', return_sequences=False))\n",
    "    model.add(Dense(features))\n",
    "    \n",
    "    model.compile(optimizer='adam', loss='mean_squared_error', metrics=['mean_squared_error'])\n",
    "    return model"
   ]
  },
  {
   "cell_type": "code",
   "execution_count": 16,
   "id": "9664a229-118e-458f-a434-33378f193bb1",
   "metadata": {},
   "outputs": [],
   "source": [
    "#including dropout layers\n",
    "\n",
    "def creat_model2(n_steps, features):\n",
    "    model = Sequential()\n",
    "    model.add(LSTM(128, return_sequences=True, input_shape= (x_train.shape[1], 1)))\n",
    "    model.add(LSTM(64, return_sequences=False))\n",
    "    model.add(Dense(25))\n",
    "    model.add(Dropout(0.3))\n",
    "    model.add(Dense(1))\n",
    "    model.compile(optimizer='adam', loss='mean_squared_error', metrics=['mean_squared_error'])\n",
    "    return model\n"
   ]
  },
  {
   "cell_type": "code",
   "execution_count": 17,
   "id": "fb382a1c-29b8-4ba7-97c3-3f1e82255619",
   "metadata": {},
   "outputs": [],
   "source": [
    "#Bidirectional allows the model learn the input sequence both forward and backwards\n",
    "\n",
    "def creat_model3(n_steps, features):\n",
    "    model = Sequential()\n",
    "    model.add(LSTM(200, input_shape=(n_steps, features)))\n",
    "    model.add(RepeatVector(n_steps))\n",
    "    model.add(Bidirectional(LSTM(200, activation='relu', return_sequences=False)))\n",
    "    model.add(Dense(features))\n",
    "\n",
    "    model.compile(optimizer='adam', loss='mean_squared_error', metrics=['mean_squared_error'])\n",
    "    return model"
   ]
  },
  {
   "cell_type": "code",
   "execution_count": 18,
   "id": "805e7e71-358b-4983-832e-76f30eb39b51",
   "metadata": {},
   "outputs": [],
   "source": [
    "#Encoder-Decoder model\n",
    "\n",
    "def creat_model4(n_steps, features):\n",
    "    model = Sequential()\n",
    "    model.add(LSTM(128, activation='relu', input_shape=(n_steps, features), return_sequences=True))\n",
    "    model.add(LSTM(64, activation='relu', return_sequences=False))\n",
    "    model.add(RepeatVector(n_steps))\n",
    "    model.add(LSTM(64, activation='relu', return_sequences=True))\n",
    "    model.add(LSTM(128, activation='relu', return_sequences=False))\n",
    "    model.add(Dense(features))\n",
    "\n",
    "    model.compile(optimizer='adam', loss='mean_squared_error', metrics=['mean_squared_error'])\n",
    "    return model"
   ]
  },
  {
   "cell_type": "code",
   "execution_count": 19,
   "id": "b8730d34-992d-4b04-a527-49fb5f4ed258",
   "metadata": {},
   "outputs": [],
   "source": [
    "n_steps = 10\n",
    "\n",
    "x_train, y_train, x_val, y_val, feature = prepare_training(train_data,n_steps)"
   ]
  },
  {
   "cell_type": "code",
   "execution_count": 20,
   "id": "50241761-e83f-4f43-a52b-416f7c0a21d3",
   "metadata": {},
   "outputs": [
    {
     "data": {
      "text/plain": [
       "(1746, 10, 1)"
      ]
     },
     "execution_count": 20,
     "metadata": {},
     "output_type": "execute_result"
    }
   ],
   "source": [
    "x_train.shape"
   ]
  },
  {
   "cell_type": "code",
   "execution_count": 21,
   "id": "8ce7a8b3-9b81-4a61-b942-66ecdf97c10e",
   "metadata": {},
   "outputs": [
    {
     "data": {
      "text/plain": [
       "(1746, 1)"
      ]
     },
     "execution_count": 21,
     "metadata": {},
     "output_type": "execute_result"
    }
   ],
   "source": [
    "y_train.shape"
   ]
  },
  {
   "cell_type": "code",
   "execution_count": 22,
   "id": "e30481b0-b466-4ae9-a043-129469c68709",
   "metadata": {},
   "outputs": [],
   "source": [
    "#Stop training when a monitored metric has stopped improving.\n",
    "early = EarlyStopping(monitor='val_loss',patience=5)\n",
    "\n",
    "#Reduce learning rate when a metric has stopped improving.\n",
    "reduce = ReduceLROnPlateau(monitor='val_loss', patience=3, factor=0.2, mil_lr=0.001)"
   ]
  },
  {
   "cell_type": "markdown",
   "id": "7b9b03af-c4d7-4ada-b5f1-380fed087e61",
   "metadata": {},
   "source": [
    "## Test data set"
   ]
  },
  {
   "cell_type": "code",
   "execution_count": 23,
   "id": "ff86eb59-9a26-49d3-8c88-a068da6237fe",
   "metadata": {},
   "outputs": [],
   "source": [
    "test_data = scaled_data[training_data_len: , :]\n",
    "x_test, y_test = split_sequence(test_data, n_steps)"
   ]
  },
  {
   "cell_type": "code",
   "execution_count": 24,
   "id": "5618cc71-7381-41f7-88f3-c35f40258ece",
   "metadata": {},
   "outputs": [],
   "source": [
    "y_test_re = scaler.inverse_transform(y_test)"
   ]
  },
  {
   "cell_type": "code",
   "execution_count": 25,
   "id": "5e1cc884-82b3-4dab-94ff-136d8c0fe324",
   "metadata": {},
   "outputs": [
    {
     "data": {
      "text/plain": [
       "(233, 1)"
      ]
     },
     "execution_count": 25,
     "metadata": {},
     "output_type": "execute_result"
    }
   ],
   "source": [
    "y_test_re.shape"
   ]
  },
  {
   "cell_type": "markdown",
   "id": "ba0ad62b-e7c7-4505-a05e-28783e87c246",
   "metadata": {},
   "source": [
    "## Model 1"
   ]
  },
  {
   "cell_type": "code",
   "execution_count": 26,
   "id": "7d8e776b-ea7a-4bd2-942a-a93a003bc84d",
   "metadata": {},
   "outputs": [],
   "source": [
    "model1 = creat_model1(n_steps, feature)"
   ]
  },
  {
   "cell_type": "code",
   "execution_count": 27,
   "id": "c60ea2e7-2db0-4ae1-85d9-b36513565984",
   "metadata": {
    "tags": []
   },
   "outputs": [
    {
     "name": "stdout",
     "output_type": "stream",
     "text": [
      "Epoch 1/50\n",
      "35/35 [==============================] - 3s 42ms/step - loss: 0.1371 - mean_squared_error: 0.1371 - val_loss: 0.0028 - val_mean_squared_error: 0.0028\n",
      "Epoch 2/50\n",
      "35/35 [==============================] - 1s 25ms/step - loss: 0.0021 - mean_squared_error: 0.0021 - val_loss: 7.4203e-04 - val_mean_squared_error: 7.4203e-04\n",
      "Epoch 3/50\n",
      "35/35 [==============================] - 1s 31ms/step - loss: 6.3168e-04 - mean_squared_error: 6.3168e-04 - val_loss: 7.2343e-04 - val_mean_squared_error: 7.2343e-04\n",
      "Epoch 4/50\n",
      "35/35 [==============================] - 1s 31ms/step - loss: 6.4575e-04 - mean_squared_error: 6.4575e-04 - val_loss: 6.8755e-04 - val_mean_squared_error: 6.8755e-04\n",
      "Epoch 5/50\n",
      "35/35 [==============================] - 1s 23ms/step - loss: 6.2299e-04 - mean_squared_error: 6.2299e-04 - val_loss: 6.5777e-04 - val_mean_squared_error: 6.5777e-04\n",
      "Epoch 6/50\n",
      "35/35 [==============================] - 1s 24ms/step - loss: 6.0705e-04 - mean_squared_error: 6.0705e-04 - val_loss: 7.3196e-04 - val_mean_squared_error: 7.3196e-04\n",
      "Epoch 7/50\n",
      "35/35 [==============================] - 1s 25ms/step - loss: 6.2505e-04 - mean_squared_error: 6.2505e-04 - val_loss: 7.1546e-04 - val_mean_squared_error: 7.1546e-04\n",
      "Epoch 8/50\n",
      "35/35 [==============================] - 1s 24ms/step - loss: 5.9720e-04 - mean_squared_error: 5.9720e-04 - val_loss: 6.8029e-04 - val_mean_squared_error: 6.8029e-04\n",
      "Epoch 9/50\n",
      "35/35 [==============================] - 1s 24ms/step - loss: 5.6498e-04 - mean_squared_error: 5.6498e-04 - val_loss: 7.1439e-04 - val_mean_squared_error: 7.1439e-04\n",
      "Epoch 10/50\n",
      "35/35 [==============================] - 1s 24ms/step - loss: 5.8649e-04 - mean_squared_error: 5.8649e-04 - val_loss: 6.9688e-04 - val_mean_squared_error: 6.9688e-04\n"
     ]
    }
   ],
   "source": [
    "history1 = model1.fit(x_train, y_train, epochs=50, batch_size=50, verbose=1,\n",
    "         validation_data=(x_val, y_val), callbacks=[early,reduce])"
   ]
  },
  {
   "cell_type": "code",
   "execution_count": 28,
   "id": "f4e664b3-4240-4e05-9c8a-54974d10aa5a",
   "metadata": {
    "tags": []
   },
   "outputs": [
    {
     "name": "stdout",
     "output_type": "stream",
     "text": [
      "Model: \"sequential\"\n",
      "_________________________________________________________________\n",
      "Layer (type)                 Output Shape              Param #   \n",
      "=================================================================\n",
      "lstm (LSTM)                  (None, 128)               66560     \n",
      "_________________________________________________________________\n",
      "repeat_vector (RepeatVector) (None, 10, 128)           0         \n",
      "_________________________________________________________________\n",
      "lstm_1 (LSTM)                (None, 128)               131584    \n",
      "_________________________________________________________________\n",
      "dense (Dense)                (None, 1)                 129       \n",
      "=================================================================\n",
      "Total params: 198,273\n",
      "Trainable params: 198,273\n",
      "Non-trainable params: 0\n",
      "_________________________________________________________________\n"
     ]
    }
   ],
   "source": [
    "model1.summary()"
   ]
  },
  {
   "cell_type": "code",
   "execution_count": 29,
   "id": "843c037a-e60a-42c3-9c7d-7fa4df8d989a",
   "metadata": {},
   "outputs": [],
   "source": [
    "# Get the models predicted price values \n",
    "predictions1 = model1.predict(x_test)"
   ]
  },
  {
   "cell_type": "code",
   "execution_count": 30,
   "id": "8f9770bb-8274-45ab-b1d7-9fcccaf33479",
   "metadata": {},
   "outputs": [
    {
     "data": {
      "text/plain": [
       "(233, 1)"
      ]
     },
     "execution_count": 30,
     "metadata": {},
     "output_type": "execute_result"
    }
   ],
   "source": [
    "predictions1.shape"
   ]
  },
  {
   "cell_type": "code",
   "execution_count": 31,
   "id": "3b4e3f34-688c-45bd-812d-7bdea918b1be",
   "metadata": {},
   "outputs": [],
   "source": [
    "predictions1 = scaler.inverse_transform(predictions1)"
   ]
  },
  {
   "cell_type": "code",
   "execution_count": 32,
   "id": "56e8c035-86c1-48ae-8a4a-97b6e1291973",
   "metadata": {},
   "outputs": [
    {
     "name": "stdout",
     "output_type": "stream",
     "text": [
      "RMSE：0.9083\n"
     ]
    }
   ],
   "source": [
    "# Get the root mean squared error (RMSE)\n",
    "##import math\n",
    "#math.sqrt(mean_squared_error(y_test_re,predictions))\n",
    "rmse1 = np.sqrt(np.mean(((predictions1 -y_test_re) ** 2)))\n",
    "print(f'RMSE：{np.round(rmse1, 4)}')"
   ]
  },
  {
   "cell_type": "markdown",
   "id": "f2c242c4-ce81-455f-92d0-8e1580b6c3d7",
   "metadata": {},
   "source": [
    "## Model 2"
   ]
  },
  {
   "cell_type": "code",
   "execution_count": 33,
   "id": "44f279c1-22ca-4d3a-8616-de30df8ff506",
   "metadata": {},
   "outputs": [],
   "source": [
    "model2 = creat_model2(n_steps, feature)"
   ]
  },
  {
   "cell_type": "code",
   "execution_count": 34,
   "id": "3b9fda3a-d798-496b-9cc3-b8d1684405a7",
   "metadata": {
    "tags": []
   },
   "outputs": [
    {
     "name": "stdout",
     "output_type": "stream",
     "text": [
      "Epoch 1/50\n",
      "35/35 [==============================] - 3s 36ms/step - loss: 0.0829 - mean_squared_error: 0.0829 - val_loss: 0.0024 - val_mean_squared_error: 0.0024\n",
      "Epoch 2/50\n",
      "35/35 [==============================] - 1s 19ms/step - loss: 0.0114 - mean_squared_error: 0.0114 - val_loss: 0.0012 - val_mean_squared_error: 0.0012\n",
      "Epoch 3/50\n",
      "35/35 [==============================] - 1s 19ms/step - loss: 0.0091 - mean_squared_error: 0.0091 - val_loss: 0.0014 - val_mean_squared_error: 0.0014\n",
      "Epoch 4/50\n",
      "35/35 [==============================] - 1s 19ms/step - loss: 0.0082 - mean_squared_error: 0.0082 - val_loss: 0.0013 - val_mean_squared_error: 0.0013\n",
      "Epoch 5/50\n",
      "35/35 [==============================] - 1s 20ms/step - loss: 0.0074 - mean_squared_error: 0.0074 - val_loss: 0.0011 - val_mean_squared_error: 0.0011\n",
      "Epoch 6/50\n",
      "35/35 [==============================] - 1s 21ms/step - loss: 0.0077 - mean_squared_error: 0.0077 - val_loss: 0.0011 - val_mean_squared_error: 0.0011\n",
      "Epoch 7/50\n",
      "35/35 [==============================] - 1s 26ms/step - loss: 0.0069 - mean_squared_error: 0.0069 - val_loss: 0.0012 - val_mean_squared_error: 0.0012\n",
      "Epoch 8/50\n",
      "35/35 [==============================] - 1s 28ms/step - loss: 0.0075 - mean_squared_error: 0.0075 - val_loss: 0.0011 - val_mean_squared_error: 0.0011\n",
      "Epoch 9/50\n",
      "35/35 [==============================] - 1s 24ms/step - loss: 0.0070 - mean_squared_error: 0.0070 - val_loss: 0.0011 - val_mean_squared_error: 0.0011\n",
      "Epoch 10/50\n",
      "35/35 [==============================] - 1s 23ms/step - loss: 0.0074 - mean_squared_error: 0.0074 - val_loss: 0.0011 - val_mean_squared_error: 0.0011\n",
      "Epoch 11/50\n",
      "35/35 [==============================] - 1s 22ms/step - loss: 0.0073 - mean_squared_error: 0.0073 - val_loss: 0.0011 - val_mean_squared_error: 0.0011\n",
      "Epoch 12/50\n",
      "35/35 [==============================] - 1s 22ms/step - loss: 0.0066 - mean_squared_error: 0.0066 - val_loss: 0.0011 - val_mean_squared_error: 0.0011\n",
      "Epoch 13/50\n",
      "35/35 [==============================] - 1s 24ms/step - loss: 0.0068 - mean_squared_error: 0.0068 - val_loss: 0.0011 - val_mean_squared_error: 0.0011\n",
      "Epoch 14/50\n",
      "35/35 [==============================] - 1s 23ms/step - loss: 0.0073 - mean_squared_error: 0.0073 - val_loss: 0.0011 - val_mean_squared_error: 0.0011\n",
      "Epoch 15/50\n",
      "35/35 [==============================] - 1s 27ms/step - loss: 0.0067 - mean_squared_error: 0.0067 - val_loss: 0.0011 - val_mean_squared_error: 0.0011\n"
     ]
    }
   ],
   "source": [
    "history2 = model2.fit(x_train, y_train, epochs=50, batch_size=50, verbose=1,\n",
    "         validation_data=(x_val, y_val), callbacks=[early,reduce])"
   ]
  },
  {
   "cell_type": "code",
   "execution_count": 35,
   "id": "889b8185-7725-486f-a3ba-b894fc6462e8",
   "metadata": {},
   "outputs": [],
   "source": [
    "predictions2 = model2.predict(x_test)"
   ]
  },
  {
   "cell_type": "code",
   "execution_count": 36,
   "id": "3061de7e-5618-49c1-a1d2-b0011bfe0922",
   "metadata": {},
   "outputs": [],
   "source": [
    "predictions2 = scaler.inverse_transform(predictions2)"
   ]
  },
  {
   "cell_type": "code",
   "execution_count": 37,
   "id": "c3e66464-caff-45ff-ae00-d75f3eecbec5",
   "metadata": {},
   "outputs": [
    {
     "name": "stdout",
     "output_type": "stream",
     "text": [
      "RMSE：1.1024\n"
     ]
    }
   ],
   "source": [
    "rmse2 = np.sqrt(np.mean(((predictions2 -y_test_re) ** 2)))\n",
    "print(f'RMSE：{np.round(rmse2, 4)}')"
   ]
  },
  {
   "cell_type": "markdown",
   "id": "e89706e7-5be7-4137-a03b-b05d3a1a32ca",
   "metadata": {},
   "source": [
    "## Model 3"
   ]
  },
  {
   "cell_type": "code",
   "execution_count": 38,
   "id": "834162cf-e466-4321-ac56-e2509851def0",
   "metadata": {},
   "outputs": [],
   "source": [
    "model3 = creat_model3(n_steps, feature)"
   ]
  },
  {
   "cell_type": "code",
   "execution_count": 39,
   "id": "259ed59b-63d4-4fad-ad23-c69e6bb58700",
   "metadata": {
    "collapsed": true,
    "jupyter": {
     "outputs_hidden": true
    },
    "tags": []
   },
   "outputs": [
    {
     "name": "stdout",
     "output_type": "stream",
     "text": [
      "Epoch 1/50\n",
      "35/35 [==============================] - 5s 81ms/step - loss: 0.1061 - mean_squared_error: 0.1061 - val_loss: 0.0049 - val_mean_squared_error: 0.0049\n",
      "Epoch 2/50\n",
      "35/35 [==============================] - 2s 67ms/step - loss: 0.0016 - mean_squared_error: 0.0016 - val_loss: 6.8076e-04 - val_mean_squared_error: 6.8076e-04\n",
      "Epoch 3/50\n",
      "35/35 [==============================] - 2s 58ms/step - loss: 6.5902e-04 - mean_squared_error: 6.5902e-04 - val_loss: 6.7292e-04 - val_mean_squared_error: 6.7292e-04\n",
      "Epoch 4/50\n",
      "35/35 [==============================] - 2s 61ms/step - loss: 6.7832e-04 - mean_squared_error: 6.7832e-04 - val_loss: 6.7211e-04 - val_mean_squared_error: 6.7211e-04\n",
      "Epoch 5/50\n",
      "35/35 [==============================] - 2s 66ms/step - loss: 6.1034e-04 - mean_squared_error: 6.1034e-04 - val_loss: 6.7716e-04 - val_mean_squared_error: 6.7716e-04\n",
      "Epoch 6/50\n",
      "35/35 [==============================] - 2s 66ms/step - loss: 5.9783e-04 - mean_squared_error: 5.9783e-04 - val_loss: 6.1596e-04 - val_mean_squared_error: 6.1596e-04\n",
      "Epoch 7/50\n",
      "35/35 [==============================] - 2s 65ms/step - loss: 5.6916e-04 - mean_squared_error: 5.6916e-04 - val_loss: 6.0727e-04 - val_mean_squared_error: 6.0727e-04\n",
      "Epoch 8/50\n",
      "35/35 [==============================] - 2s 65ms/step - loss: 5.0640e-04 - mean_squared_error: 5.0640e-04 - val_loss: 6.1973e-04 - val_mean_squared_error: 6.1973e-04\n",
      "Epoch 9/50\n",
      "35/35 [==============================] - 2s 63ms/step - loss: 5.3988e-04 - mean_squared_error: 5.3988e-04 - val_loss: 6.1777e-04 - val_mean_squared_error: 6.1777e-04\n",
      "Epoch 10/50\n",
      "35/35 [==============================] - 2s 60ms/step - loss: 6.0005e-04 - mean_squared_error: 6.0005e-04 - val_loss: 6.3329e-04 - val_mean_squared_error: 6.3329e-04\n",
      "Epoch 11/50\n",
      "35/35 [==============================] - 2s 56ms/step - loss: 5.7379e-04 - mean_squared_error: 5.7379e-04 - val_loss: 6.0622e-04 - val_mean_squared_error: 6.0622e-04\n",
      "Epoch 12/50\n",
      "35/35 [==============================] - 2s 56ms/step - loss: 5.3104e-04 - mean_squared_error: 5.3104e-04 - val_loss: 6.0893e-04 - val_mean_squared_error: 6.0893e-04\n",
      "Epoch 13/50\n",
      "35/35 [==============================] - 2s 56ms/step - loss: 5.7335e-04 - mean_squared_error: 5.7335e-04 - val_loss: 6.1615e-04 - val_mean_squared_error: 6.1615e-04\n",
      "Epoch 14/50\n",
      "35/35 [==============================] - 2s 57ms/step - loss: 5.6619e-04 - mean_squared_error: 5.6619e-04 - val_loss: 6.0812e-04 - val_mean_squared_error: 6.0812e-04\n",
      "Epoch 15/50\n",
      "35/35 [==============================] - 2s 58ms/step - loss: 5.1346e-04 - mean_squared_error: 5.1346e-04 - val_loss: 6.0780e-04 - val_mean_squared_error: 6.0780e-04\n",
      "Epoch 16/50\n",
      "35/35 [==============================] - 2s 56ms/step - loss: 5.3300e-04 - mean_squared_error: 5.3300e-04 - val_loss: 6.0958e-04 - val_mean_squared_error: 6.0958e-04\n"
     ]
    }
   ],
   "source": [
    "history3 = model3.fit(x_train, y_train, epochs=50, batch_size=50, verbose=1,\n",
    "         validation_data=(x_val, y_val), callbacks=[early,reduce])"
   ]
  },
  {
   "cell_type": "code",
   "execution_count": 40,
   "id": "a2e6a146-1cc2-4fd5-9802-0289d5606787",
   "metadata": {},
   "outputs": [],
   "source": [
    "predictions3 = model3.predict(x_test)"
   ]
  },
  {
   "cell_type": "code",
   "execution_count": 41,
   "id": "75cea3f6-5b44-4da9-8ce0-635baac09ebc",
   "metadata": {},
   "outputs": [
    {
     "data": {
      "text/plain": [
       "(233, 1)"
      ]
     },
     "execution_count": 41,
     "metadata": {},
     "output_type": "execute_result"
    }
   ],
   "source": [
    "predictions3.shape"
   ]
  },
  {
   "cell_type": "code",
   "execution_count": 42,
   "id": "b15623d7-c1c4-4bbd-b1a0-3e7a6eb5f667",
   "metadata": {},
   "outputs": [],
   "source": [
    "predictions3 = scaler.inverse_transform(predictions3)"
   ]
  },
  {
   "cell_type": "code",
   "execution_count": 43,
   "id": "e39c9544-9a35-43a9-8103-b5844dfb0a36",
   "metadata": {},
   "outputs": [
    {
     "name": "stdout",
     "output_type": "stream",
     "text": [
      "RMSE：0.8329\n"
     ]
    }
   ],
   "source": [
    "rmse3 = np.sqrt(np.mean(((predictions3 -y_test_re) ** 2)))\n",
    "print(f'RMSE：{np.round(rmse3, 4)}')"
   ]
  },
  {
   "cell_type": "markdown",
   "id": "3d52fe40-2f91-496f-b885-936b1881331e",
   "metadata": {},
   "source": [
    "## Model 4"
   ]
  },
  {
   "cell_type": "code",
   "execution_count": 44,
   "id": "47fd86b5-ba76-45ea-8e7f-107b9cdcd1c5",
   "metadata": {},
   "outputs": [],
   "source": [
    "model4 = creat_model4(n_steps, feature)"
   ]
  },
  {
   "cell_type": "code",
   "execution_count": 45,
   "id": "b1cea4d2-ddf0-4520-90d4-35db8e9e7847",
   "metadata": {
    "tags": []
   },
   "outputs": [
    {
     "name": "stdout",
     "output_type": "stream",
     "text": [
      "Epoch 1/50\n",
      "35/35 [==============================] - 4s 45ms/step - loss: 0.2148 - mean_squared_error: 0.2148 - val_loss: 0.0258 - val_mean_squared_error: 0.0258\n",
      "Epoch 2/50\n",
      "35/35 [==============================] - 1s 36ms/step - loss: 0.0097 - mean_squared_error: 0.0097 - val_loss: 0.0012 - val_mean_squared_error: 0.0012\n",
      "Epoch 3/50\n",
      "35/35 [==============================] - 1s 34ms/step - loss: 0.0013 - mean_squared_error: 0.0013 - val_loss: 0.0015 - val_mean_squared_error: 0.0015\n",
      "Epoch 4/50\n",
      "35/35 [==============================] - 1s 34ms/step - loss: 0.0012 - mean_squared_error: 0.0012 - val_loss: 0.0013 - val_mean_squared_error: 0.0013\n",
      "Epoch 5/50\n",
      "35/35 [==============================] - 1s 35ms/step - loss: 0.0012 - mean_squared_error: 0.0012 - val_loss: 0.0013 - val_mean_squared_error: 0.0013\n",
      "Epoch 6/50\n",
      "35/35 [==============================] - 1s 35ms/step - loss: 0.0010 - mean_squared_error: 0.0010 - val_loss: 0.0012 - val_mean_squared_error: 0.0012\n",
      "Epoch 7/50\n",
      "35/35 [==============================] - 1s 34ms/step - loss: 0.0011 - mean_squared_error: 0.0011 - val_loss: 0.0014 - val_mean_squared_error: 0.0014\n"
     ]
    }
   ],
   "source": [
    "history4 = model4.fit(x_train, y_train, epochs=50, batch_size=50, verbose=1,\n",
    "         validation_data=(x_val, y_val), callbacks=[early,reduce])"
   ]
  },
  {
   "cell_type": "code",
   "execution_count": 46,
   "id": "46ad3f3a-0c05-472b-a821-4f4cf6dad947",
   "metadata": {},
   "outputs": [],
   "source": [
    "predictions4 = model4.predict(x_test)"
   ]
  },
  {
   "cell_type": "code",
   "execution_count": 47,
   "id": "fddb193a-342a-4ee4-82fe-dc17cd881b63",
   "metadata": {},
   "outputs": [],
   "source": [
    "predictions4 = scaler.inverse_transform(predictions4)"
   ]
  },
  {
   "cell_type": "code",
   "execution_count": 48,
   "id": "b55dc3f9-5dc4-47fe-8129-ccaad190a67e",
   "metadata": {},
   "outputs": [
    {
     "name": "stdout",
     "output_type": "stream",
     "text": [
      "RMSE：1.2138\n"
     ]
    }
   ],
   "source": [
    "rmse4 = np.sqrt(np.mean(((predictions4 -y_test_re) ** 2)))\n",
    "print(f'RMSE：{np.round(rmse4, 4)}')"
   ]
  },
  {
   "cell_type": "markdown",
   "id": "9836689a-9099-4316-9799-1b1574cb0d0e",
   "metadata": {},
   "source": [
    "## Plots"
   ]
  },
  {
   "cell_type": "code",
   "execution_count": 49,
   "id": "0ac3efc5-97e4-4e0f-bba6-bbdab64a4f4f",
   "metadata": {},
   "outputs": [
    {
     "data": {
      "image/png": "[encoded data removed]",
      "text/plain": [
       "<Figure size 432x288 with 1 Axes>"
      ]
     },
     "metadata": {
      "needs_background": "light"
     },
     "output_type": "display_data"
    }
   ],
   "source": [
    "plt.plot(history3.history['loss'])\n",
    "plt.plot(history3.history['val_loss'])\n",
    "plt.xlabel('Epochs')\n",
    "plt.ylabel('MSE')\n",
    "plt.legend(['Train','Val']);"
   ]
  },
  {
   "cell_type": "code",
   "execution_count": 50,
   "id": "27d13608-fdc0-4855-b8f2-64538e00797d",
   "metadata": {},
   "outputs": [
    {
     "data": {
      "image/png": "[encoded data removed]",
      "text/plain": [
       "<Figure size 432x288 with 1 Axes>"
      ]
     },
     "metadata": {
      "needs_background": "light"
     },
     "output_type": "display_data"
    }
   ],
   "source": [
    "plt.plot(history3.history['mean_squared_error'])\n",
    "plt.plot(history3.history['val_mean_squared_error'])\n",
    "plt.xlabel('Epochs')\n",
    "plt.ylabel('MSE')\n",
    "plt.legend(['Train','Val']);"
   ]
  },
  {
   "cell_type": "code",
   "execution_count": 51,
   "id": "9dfb843f-c892-4a20-a90f-a01a9283b39a",
   "metadata": {},
   "outputs": [
    {
     "data": {
      "image/png": "[encoded data removed]",
      "text/plain": [
       "<Figure size 1152x432 with 1 Axes>"
      ]
     },
     "metadata": {
      "needs_background": "light"
     },
     "output_type": "display_data"
    }
   ],
   "source": [
    "plt.figure(figsize=(16,6))\n",
    "plt.plot(y_test_re)\n",
    "plt.plot(predictions3)\n",
    "plt.legend(['Real Value','Predicted Value']);"
   ]
  },
  {
   "cell_type": "code",
   "execution_count": 52,
   "id": "5aaa5b2b-4b94-4b36-bc82-7cc1f4262774",
   "metadata": {},
   "outputs": [],
   "source": [
    "train = data[:training_data_len]\n",
    "test = data[training_data_len+10:]"
   ]
  },
  {
   "cell_type": "code",
   "execution_count": 59,
   "id": "ea728d98-6b80-478d-9a8a-0e6a61b3ebca",
   "metadata": {},
   "outputs": [
    {
     "data": {
      "text/html": [
       "<div>\n",
       "<style scoped>\n",
       "    .dataframe tbody tr th:only-of-type {\n",
       "        vertical-align: middle;\n",
       "    }\n",
       "\n",
       "    .dataframe tbody tr th {\n",
       "        vertical-align: top;\n",
       "    }\n",
       "\n",
       "    .dataframe thead th {\n",
       "        text-align: right;\n",
       "    }\n",
       "</style>\n",
       "<table border=\"1\" class=\"dataframe\">\n",
       "  <thead>\n",
       "    <tr style=\"text-align: right;\">\n",
       "      <th></th>\n",
       "      <th>Close</th>\n",
       "    </tr>\n",
       "    <tr>\n",
       "      <th>Date</th>\n",
       "      <th></th>\n",
       "    </tr>\n",
       "  </thead>\n",
       "  <tbody>\n",
       "    <tr>\n",
       "      <th>2012-01-03</th>\n",
       "      <td>5.12</td>\n",
       "    </tr>\n",
       "    <tr>\n",
       "      <th>2012-01-04</th>\n",
       "      <td>5.03</td>\n",
       "    </tr>\n",
       "    <tr>\n",
       "      <th>2012-01-05</th>\n",
       "      <td>5.47</td>\n",
       "    </tr>\n",
       "    <tr>\n",
       "      <th>2012-01-06</th>\n",
       "      <td>5.60</td>\n",
       "    </tr>\n",
       "    <tr>\n",
       "      <th>2012-01-09</th>\n",
       "      <td>5.72</td>\n",
       "    </tr>\n",
       "    <tr>\n",
       "      <th>...</th>\n",
       "      <td>...</td>\n",
       "    </tr>\n",
       "    <tr>\n",
       "      <th>2020-09-16</th>\n",
       "      <td>13.80</td>\n",
       "    </tr>\n",
       "    <tr>\n",
       "      <th>2020-09-17</th>\n",
       "      <td>13.63</td>\n",
       "    </tr>\n",
       "    <tr>\n",
       "      <th>2020-09-18</th>\n",
       "      <td>13.19</td>\n",
       "    </tr>\n",
       "    <tr>\n",
       "      <th>2020-09-21</th>\n",
       "      <td>12.21</td>\n",
       "    </tr>\n",
       "    <tr>\n",
       "      <th>2020-09-22</th>\n",
       "      <td>12.34</td>\n",
       "    </tr>\n",
       "  </tbody>\n",
       "</table>\n",
       "<p>2195 rows × 1 columns</p>\n",
       "</div>"
      ],
      "text/plain": [
       "            Close\n",
       "Date             \n",
       "2012-01-03   5.12\n",
       "2012-01-04   5.03\n",
       "2012-01-05   5.47\n",
       "2012-01-06   5.60\n",
       "2012-01-09   5.72\n",
       "...           ...\n",
       "2020-09-16  13.80\n",
       "2020-09-17  13.63\n",
       "2020-09-18  13.19\n",
       "2020-09-21  12.21\n",
       "2020-09-22  12.34\n",
       "\n",
       "[2195 rows x 1 columns]"
      ]
     },
     "execution_count": 59,
     "metadata": {},
     "output_type": "execute_result"
    }
   ],
   "source": [
    "train"
   ]
  },
  {
   "cell_type": "code",
   "execution_count": 60,
   "id": "709438fc-9122-4b3c-aebb-da8aa03780ec",
   "metadata": {},
   "outputs": [
    {
     "data": {
      "text/html": [
       "<div>\n",
       "<style scoped>\n",
       "    .dataframe tbody tr th:only-of-type {\n",
       "        vertical-align: middle;\n",
       "    }\n",
       "\n",
       "    .dataframe tbody tr th {\n",
       "        vertical-align: top;\n",
       "    }\n",
       "\n",
       "    .dataframe thead th {\n",
       "        text-align: right;\n",
       "    }\n",
       "</style>\n",
       "<table border=\"1\" class=\"dataframe\">\n",
       "  <thead>\n",
       "    <tr style=\"text-align: right;\">\n",
       "      <th></th>\n",
       "      <th>Close</th>\n",
       "      <th>Predictions</th>\n",
       "    </tr>\n",
       "    <tr>\n",
       "      <th>Date</th>\n",
       "      <th></th>\n",
       "      <th></th>\n",
       "    </tr>\n",
       "  </thead>\n",
       "  <tbody>\n",
       "    <tr>\n",
       "      <th>2020-10-07</th>\n",
       "      <td>13.070000</td>\n",
       "      <td>12.770354</td>\n",
       "    </tr>\n",
       "    <tr>\n",
       "      <th>2020-10-08</th>\n",
       "      <td>13.160000</td>\n",
       "      <td>12.889413</td>\n",
       "    </tr>\n",
       "    <tr>\n",
       "      <th>2020-10-09</th>\n",
       "      <td>13.200000</td>\n",
       "      <td>13.003885</td>\n",
       "    </tr>\n",
       "    <tr>\n",
       "      <th>2020-10-12</th>\n",
       "      <td>12.920000</td>\n",
       "      <td>13.095182</td>\n",
       "    </tr>\n",
       "    <tr>\n",
       "      <th>2020-10-13</th>\n",
       "      <td>12.220000</td>\n",
       "      <td>13.083738</td>\n",
       "    </tr>\n",
       "    <tr>\n",
       "      <th>...</th>\n",
       "      <td>...</td>\n",
       "      <td>...</td>\n",
       "    </tr>\n",
       "    <tr>\n",
       "      <th>2021-09-02</th>\n",
       "      <td>19.760000</td>\n",
       "      <td>19.913290</td>\n",
       "    </tr>\n",
       "    <tr>\n",
       "      <th>2021-09-03</th>\n",
       "      <td>19.370001</td>\n",
       "      <td>19.925795</td>\n",
       "    </tr>\n",
       "    <tr>\n",
       "      <th>2021-09-07</th>\n",
       "      <td>19.530001</td>\n",
       "      <td>19.830278</td>\n",
       "    </tr>\n",
       "    <tr>\n",
       "      <th>2021-09-08</th>\n",
       "      <td>19.129999</td>\n",
       "      <td>19.792284</td>\n",
       "    </tr>\n",
       "    <tr>\n",
       "      <th>2021-09-09</th>\n",
       "      <td>20.200001</td>\n",
       "      <td>19.649391</td>\n",
       "    </tr>\n",
       "  </tbody>\n",
       "</table>\n",
       "<p>233 rows × 2 columns</p>\n",
       "</div>"
      ],
      "text/plain": [
       "                Close  Predictions\n",
       "Date                              \n",
       "2020-10-07  13.070000    12.770354\n",
       "2020-10-08  13.160000    12.889413\n",
       "2020-10-09  13.200000    13.003885\n",
       "2020-10-12  12.920000    13.095182\n",
       "2020-10-13  12.220000    13.083738\n",
       "...               ...          ...\n",
       "2021-09-02  19.760000    19.913290\n",
       "2021-09-03  19.370001    19.925795\n",
       "2021-09-07  19.530001    19.830278\n",
       "2021-09-08  19.129999    19.792284\n",
       "2021-09-09  20.200001    19.649391\n",
       "\n",
       "[233 rows x 2 columns]"
      ]
     },
     "execution_count": 60,
     "metadata": {},
     "output_type": "execute_result"
    }
   ],
   "source": [
    "test"
   ]
  },
  {
   "cell_type": "code",
   "execution_count": 53,
   "id": "452c01c4-947e-446e-8922-ea62895fc269",
   "metadata": {},
   "outputs": [
    {
     "data": {
      "text/plain": [
       "(233, 1)"
      ]
     },
     "execution_count": 53,
     "metadata": {},
     "output_type": "execute_result"
    }
   ],
   "source": [
    "test.shape"
   ]
  },
  {
   "cell_type": "code",
   "execution_count": 54,
   "id": "02f924cb-56db-4d6e-801b-ee6ecb7f7c5d",
   "metadata": {},
   "outputs": [
    {
     "data": {
      "text/plain": [
       "(233, 1)"
      ]
     },
     "execution_count": 54,
     "metadata": {},
     "output_type": "execute_result"
    }
   ],
   "source": [
    "predictions3.shape"
   ]
  },
  {
   "cell_type": "code",
   "execution_count": 55,
   "id": "7814e3a1-a26f-43ab-9a95-c38b2d0f893e",
   "metadata": {},
   "outputs": [],
   "source": [
    "test['Predictions'] = predictions3"
   ]
  },
  {
   "cell_type": "code",
   "execution_count": 56,
   "id": "230976bb-8cbb-4232-a9bc-bc03329f575f",
   "metadata": {},
   "outputs": [
    {
     "data": {
      "image/png": "[encoded data removed]",
      "text/plain": [
       "<Figure size 1000x500 with 1 Axes>"
      ]
     },
     "metadata": {},
     "output_type": "display_data"
    }
   ],
   "source": [
    "# Visualize the data\n",
    "\n",
    "with plt.style.context('images/presentation.mplstyle'):\n",
    "    plt.figure(figsize=(10,5), dpi=100)\n",
    "    plt.title('LSTM Model for American Airlines')\n",
    "    plt.xlabel('Date', fontsize=18)\n",
    "    plt.ylabel('Close Price USD ($)', fontsize=18)\n",
    "    plt.plot(train['Close'], 'c')\n",
    "    plt.plot(test['Close'], 'r')\n",
    "    plt.plot(test['Predictions'], 'g')\n",
    "    plt.legend(['Train', 'Test', 'Predictions'], loc='upper right')\n",
    "    #plt.savefig('images/LSTM.png')\n",
    "    plt.show()\n",
    "    \n",
    "    "
   ]
  },
  {
   "cell_type": "code",
   "execution_count": 57,
   "id": "72f2140b-bf77-48ab-8409-6f9c904bbf26",
   "metadata": {},
   "outputs": [
    {
     "data": {
      "text/html": [
       "<div>\n",
       "<style scoped>\n",
       "    .dataframe tbody tr th:only-of-type {\n",
       "        vertical-align: middle;\n",
       "    }\n",
       "\n",
       "    .dataframe tbody tr th {\n",
       "        vertical-align: top;\n",
       "    }\n",
       "\n",
       "    .dataframe thead th {\n",
       "        text-align: right;\n",
       "    }\n",
       "</style>\n",
       "<table border=\"1\" class=\"dataframe\">\n",
       "  <thead>\n",
       "    <tr style=\"text-align: right;\">\n",
       "      <th></th>\n",
       "      <th>Close</th>\n",
       "      <th>Predictions</th>\n",
       "    </tr>\n",
       "    <tr>\n",
       "      <th>Date</th>\n",
       "      <th></th>\n",
       "      <th></th>\n",
       "    </tr>\n",
       "  </thead>\n",
       "  <tbody>\n",
       "    <tr>\n",
       "      <th>2020-10-07</th>\n",
       "      <td>13.070000</td>\n",
       "      <td>12.770354</td>\n",
       "    </tr>\n",
       "    <tr>\n",
       "      <th>2020-10-08</th>\n",
       "      <td>13.160000</td>\n",
       "      <td>12.889413</td>\n",
       "    </tr>\n",
       "    <tr>\n",
       "      <th>2020-10-09</th>\n",
       "      <td>13.200000</td>\n",
       "      <td>13.003885</td>\n",
       "    </tr>\n",
       "    <tr>\n",
       "      <th>2020-10-12</th>\n",
       "      <td>12.920000</td>\n",
       "      <td>13.095182</td>\n",
       "    </tr>\n",
       "    <tr>\n",
       "      <th>2020-10-13</th>\n",
       "      <td>12.220000</td>\n",
       "      <td>13.083738</td>\n",
       "    </tr>\n",
       "    <tr>\n",
       "      <th>...</th>\n",
       "      <td>...</td>\n",
       "      <td>...</td>\n",
       "    </tr>\n",
       "    <tr>\n",
       "      <th>2021-09-02</th>\n",
       "      <td>19.760000</td>\n",
       "      <td>19.913290</td>\n",
       "    </tr>\n",
       "    <tr>\n",
       "      <th>2021-09-03</th>\n",
       "      <td>19.370001</td>\n",
       "      <td>19.925795</td>\n",
       "    </tr>\n",
       "    <tr>\n",
       "      <th>2021-09-07</th>\n",
       "      <td>19.530001</td>\n",
       "      <td>19.830278</td>\n",
       "    </tr>\n",
       "    <tr>\n",
       "      <th>2021-09-08</th>\n",
       "      <td>19.129999</td>\n",
       "      <td>19.792284</td>\n",
       "    </tr>\n",
       "    <tr>\n",
       "      <th>2021-09-09</th>\n",
       "      <td>20.200001</td>\n",
       "      <td>19.649391</td>\n",
       "    </tr>\n",
       "  </tbody>\n",
       "</table>\n",
       "<p>233 rows × 2 columns</p>\n",
       "</div>"
      ],
      "text/plain": [
       "                Close  Predictions\n",
       "Date                              \n",
       "2020-10-07  13.070000    12.770354\n",
       "2020-10-08  13.160000    12.889413\n",
       "2020-10-09  13.200000    13.003885\n",
       "2020-10-12  12.920000    13.095182\n",
       "2020-10-13  12.220000    13.083738\n",
       "...               ...          ...\n",
       "2021-09-02  19.760000    19.913290\n",
       "2021-09-03  19.370001    19.925795\n",
       "2021-09-07  19.530001    19.830278\n",
       "2021-09-08  19.129999    19.792284\n",
       "2021-09-09  20.200001    19.649391\n",
       "\n",
       "[233 rows x 2 columns]"
      ]
     },
     "execution_count": 57,
     "metadata": {},
     "output_type": "execute_result"
    }
   ],
   "source": [
    "test"
   ]
  }
 ],
 "metadata": {
  "kernelspec": {
   "display_name": "tf_env",
   "language": "python",
   "name": "tf_env"
  },
  "language_info": {
   "codemirror_mode": {
    "name": "ipython",
    "version": 3
   },
   "file_extension": ".py",
   "mimetype": "text/x-python",
   "name": "python",
   "nbconvert_exporter": "python",
   "pygments_lexer": "ipython3",
   "version": "3.8.11"
  }
 },
 "nbformat": 4,
 "nbformat_minor": 5
}
