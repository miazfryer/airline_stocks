{
 "cells": [
  {
   "cell_type": "code",
   "execution_count": 3,
   "id": "0e75f94e-53d4-4d04-9841-a39369dc1ec0",
   "metadata": {},
   "outputs": [],
   "source": [
    "#basic\n",
    "import pandas as pd\n",
    "import numpy as np\n",
    "\n",
    "#plot\n",
    "import matplotlib.pyplot as plt\n",
    "import seaborn as sns\n",
    "sns.set_style('whitegrid')\n",
    "sns.set(rc={'figure.figsize':(16,8)})\n",
    "sns.set(font_scale=1.3)\n",
    "plt.style.use(\"fivethirtyeight\")\n",
    "%matplotlib inline\n",
    "from pandas.plotting import autocorrelation_plot\n",
    "from statsmodels.graphics.tsaplots import plot_acf,plot_pacf\n",
    "\n",
    "# For reading stock data \n",
    "from pandas_datareader.data import DataReader\n",
    "\n",
    "# For time stamps\n",
    "from datetime import datetime\n",
    "\n",
    "import warnings\n",
    "warnings.filterwarnings('ignore')\n",
    "\n",
    "#modeling\n",
    "import itertools\n",
    "from statsmodels.tsa.stattools import adfuller\n",
    "from sklearn.preprocessing import MinMaxScaler\n",
    "from statsmodels.tsa.holtwinters import SimpleExpSmoothing, Holt, ExponentialSmoothing\n",
    "from math import sqrt\n",
    "from sklearn.metrics import mean_squared_error, mean_absolute_error\n",
    "from statsmodels.tsa.statespace.sarimax import SARIMAX\n",
    "from sklearn.model_selection import TimeSeriesSplit\n",
    "\n",
    "np.random.seed(123)"
   ]
  },
  {
   "cell_type": "code",
   "execution_count": 4,
   "id": "89649fb5-b882-48eb-8fe3-45d7b10bf0f4",
   "metadata": {},
   "outputs": [],
   "source": [
    "df = DataReader('AAL', data_source='yahoo', start='2012-01-01', end=datetime.now())"
   ]
  },
  {
   "cell_type": "code",
   "execution_count": null,
   "id": "9ee62da8-c875-49ed-ac09-25e84d55a2e2",
   "metadata": {},
   "outputs": [],
   "source": [
    "data = df.filter(['Close'])"
   ]
  },
  {
   "cell_type": "code",
   "execution_count": null,
   "id": "04fb3917-e174-4b59-8787-6799b8c70485",
   "metadata": {},
   "outputs": [],
   "source": [
    "dataset = data.values"
   ]
  },
  {
   "cell_type": "code",
   "execution_count": null,
   "id": "faa807bf-0826-487f-af12-8ab1c7206216",
   "metadata": {},
   "outputs": [],
   "source": [
    "scaler = MinMaxScaler(feature_range=(0,1))\n",
    "scaled_data = scaler.fit_transform(dataset)"
   ]
  },
  {
   "cell_type": "code",
   "execution_count": null,
   "id": "3cf5dba8-3c8c-4616-9410-7003d3708d22",
   "metadata": {},
   "outputs": [],
   "source": [
    "training_data_len = int(np.ceil( len(dataset) * .9 ))\n",
    "train_data = scaled_data[0:int(training_data_len), :]"
   ]
  },
  {
   "cell_type": "code",
   "execution_count": null,
   "id": "2987ac29-80c4-4f6a-95f2-75509a6cbefd",
   "metadata": {},
   "outputs": [],
   "source": [
    "train_data.shape"
   ]
  },
  {
   "cell_type": "code",
   "execution_count": null,
   "id": "7944893c-4603-48c5-8f95-51244748a8df",
   "metadata": {},
   "outputs": [],
   "source": [
    "p = d = q = range(0, 2)\n",
    "\n",
    "# Generate all different combinations of p, q and q triplets\n",
    "pdq = list(itertools.product(p, d, q))\n",
    "\n",
    "# Generate all different combinations of seasonal p, q and q triplets for s = 12 (constant)\n",
    "pdqs = [(x[0], x[1], x[2], 12) for x in list(itertools.product(p, d, q))]"
   ]
  },
  {
   "cell_type": "code",
   "execution_count": null,
   "id": "110e2b9c-360d-49ff-8d07-07fbc22e358f",
   "metadata": {
    "tags": []
   },
   "outputs": [],
   "source": [
    "for i in pdq:\n",
    "    for s in pdqs:\n",
    "        print('SARIMAX: {} x {}'.format(i, s))"
   ]
  },
  {
   "cell_type": "code",
   "execution_count": null,
   "id": "24039a8e-ce14-498b-b613-361945203660",
   "metadata": {},
   "outputs": [],
   "source": [
    "# Run a grid with pdq and seasonal pdq parameters calculated above and get the best AIC value\n",
    "\n",
    "ans = []\n",
    "for comb in pdq:\n",
    "    for combs in pdqs:\n",
    "        try:\n",
    "            mod = sm.tsa.statespace.SARIMAX(train_data,\n",
    "                                            order=comb,\n",
    "                                            seasonal_order=combs,\n",
    "                                            enforce_stationarity=False,\n",
    "                                            enforce_invertibility=False)\n",
    "\n",
    "            output = mod.fit()\n",
    "            ans.append([comb, combs, output.aic])\n",
    "            print('ARIMA {} x {}12 : AIC Calculated ={}'.format(comb, combs, output.aic))\n",
    "        except:\n",
    "            continue\n",
    "\n"
   ]
  },
  {
   "cell_type": "code",
   "execution_count": null,
   "id": "688a65ee-cb08-470d-83fd-f5883f356c8b",
   "metadata": {},
   "outputs": [],
   "source": [
    "ans_df = pd.DataFrame(ans, columns=['pdq', 'pdqs', 'aic'])\n",
    "# Find the parameters with minimal AIC value\n",
    "ans_df.loc[ans_df['aic'].idxmin()]\n",
    "#output: pdq=(1, 1, 1) and pdqs= (1, 1, 1, 12)\n"
   ]
  },
  {
   "cell_type": "code",
   "execution_count": null,
   "id": "d693f74d-1c01-47f4-be5f-96b2a011c1ce",
   "metadata": {},
   "outputs": [],
   "source": [
    "# Get predictions starting from 01-01-1998 and calculate confidence intervals\n",
    "pred = output.get_prediction(start=pd.to_datetime('1998-01-01'), dynamic=False)\n",
    "# Get confidence intervals of forecasts\n",
    "pred_conf = pred.conf_int()\n",
    "\n",
    "# Get the real and predicted values\n",
    "CO2_forecasted = pred.predicted_mean\n",
    "CO2_truth = CO2['1998-01-01':]\n",
    "\n",
    "# Compute the mean square error\n",
    "mse = ((CO2_forecasted - CO2_truth) ** 2).mean()\n",
    "print('The Mean Squared Error of our forecasts is {}'.format(round(mse, 2)))"
   ]
  },
  {
   "cell_type": "code",
   "execution_count": null,
   "id": "c5f1e574-9f0f-4779-a9ba-cead084236da",
   "metadata": {},
   "outputs": [],
   "source": [
    "#crossval\n",
    "train_with_ind = train.reset_index()\n",
    "\n",
    "for train_ind, val_ind in split.split(train_with_ind):\n",
    "    sarimax = SARIMAX(endog=train_with_ind.iloc[train_ind, -1],\n",
    "                      order=(1, 1, 1),\n",
    "                     seasonal_order=(0, 1, 1, 52),\n",
    "                     enforce_stationarity=False,\n",
    "                     enforce_invertibility=False).fit()\n",
    "    preds = sarimax.predict(typ='levels', start=val_ind[0], end=val_ind[-1])\n",
    "    true = train_with_ind.iloc[val_ind, -1]\n",
    "    print(np.sqrt(mean_squared_error(true, preds)))\n",
    "\n",
    "\n",
    "y_hat_train = sari_mod.predict(typ='levels')\n",
    "y_hat_test = sari_mod.predict(start=valid.index[0], end=valid.index[-1],typ='levels')\n",
    "\n",
    "fig, ax = plt.subplots()\n",
    "ax.plot(train, label='train')\n",
    "ax.plot(valid, label='test')\n",
    "ax.plot(y_hat_train, label='train_pred')\n",
    "ax.plot(y_hat_test, label='test_pred')\n",
    "plt.legend();\n",
    "\n",
    "fig, ax = plt.subplots()\n",
    "ax.plot(valid, label='true')\n",
    "ax.plot(y_hat_test, label='pred')\n",
    "plt.legend();\n",
    "\n",
    "np.sqrt(mean_squared_error(valid, y_hat_test))"
   ]
  },
  {
   "cell_type": "code",
   "execution_count": null,
   "id": "a1bb3f4a-ce7a-43f3-bf2f-d1b82c58a987",
   "metadata": {},
   "outputs": [],
   "source": [
    "# Plot real vs predicted values along with confidence interval\n",
    "\n",
    "rcParams['figure.figsize'] = 15, 6\n",
    "\n",
    "# Plot observed values\n",
    "ax = CO2['1990':].plot(label='observed')\n",
    "\n",
    "# Plot predicted values\n",
    "pred.predicted_mean.plot(ax=ax, label='One-step ahead Forecast', alpha=0.9)\n",
    "\n",
    "# Plot the range for confidence intervals\n",
    "ax.fill_between(pred_conf.index,\n",
    "                pred_conf.iloc[:, 0],\n",
    "                pred_conf.iloc[:, 1], color='g', alpha=0.5)\n",
    "\n",
    "# Set axes labels\n",
    "ax.set_xlabel('Date')\n",
    "ax.set_ylabel('CO2 Levels')\n",
    "plt.legend()\n",
    "\n",
    "plt.show()"
   ]
  },
  {
   "cell_type": "code",
   "execution_count": null,
   "id": "9db435b0-9cb1-4c0a-b5d5-c8f5b5f28c8d",
   "metadata": {},
   "outputs": [],
   "source": [
    "# Get dynamic predictions with confidence intervals as above \n",
    "#In this case, we only use information from the time series up to a certain point, and after that, \n",
    "#forecasts are generated using values from previous forecasted time points.\n",
    "\n",
    "pred_dynamic = output.get_prediction(start=pd.to_datetime('1998-01-01'), dynamic=True, full_results=True)\n",
    "pred_dynamic_conf = pred_dynamic.conf_int()\n",
    "\n",
    "# Extract the predicted and true values of our time series\n",
    "CO2_forecasted = pred_dynamic.predicted_mean\n",
    "CO2_truth = CO2['1998-01-01':]\n",
    "\n",
    "# Compute the mean square error\n",
    "mse = ((CO2_forecasted - CO2_truth) ** 2).mean()\n",
    "print('The Mean Squared Error of our forecasts is {}'.format(round(mse, 2)))"
   ]
  },
  {
   "cell_type": "code",
   "execution_count": null,
   "id": "21ba0e1f-2ef6-4625-bf95-43e94ac7f5d3",
   "metadata": {},
   "outputs": [],
   "source": [
    "# Plot the dynamic forecast with confidence intervals.\n",
    "\n",
    "ax = CO2['1990':].plot(label='observed', figsize=(20, 15))\n",
    "pred_dynamic.predicted_mean.plot(label='Dynamic Forecast', ax=ax)\n",
    "\n",
    "ax.fill_between(pred_dynamic_conf.index,\n",
    "                pred_dynamic_conf.iloc[:, 0],\n",
    "                pred_dynamic_conf.iloc[:, 1], color='g', alpha=.3)\n",
    "\n",
    "ax.fill_betweenx(ax.get_ylim(), pd.to_datetime('1998-01-01'), CO2_forecasted.index[-1], alpha=.1, zorder=-1)\n",
    "\n",
    "ax.set_xlabel('Date')\n",
    "ax.set_ylabel('CO2 Levels')\n",
    "\n",
    "plt.legend()\n",
    "plt.show()"
   ]
  },
  {
   "cell_type": "code",
   "execution_count": null,
   "id": "64721915-6a74-41e3-9385-258f13dc8ac4",
   "metadata": {
    "tags": []
   },
   "outputs": [],
   "source": [
    "# Get forecast 500 steps ahead in future\n",
    "prediction = output.get_forecast(steps=500)\n",
    "pred_conf = prediction.conf_int()\n",
    "\n",
    "ax = CO2.plot(label='observed', figsize=(20, 15))\n",
    "prediction.predicted_mean.plot(ax=ax, label='Forecast')\n",
    "ax.fill_between(pred_conf.index,\n",
    "                pred_conf.iloc[:, 0],\n",
    "                pred_conf.iloc[:, 1], color='k', alpha=0.25)\n",
    "ax.set_xlabel('Date')\n",
    "ax.set_ylabel('CO2 Levels')\n",
    "\n",
    "plt.legend()\n",
    "plt.show()"
   ]
  },
  {
   "cell_type": "code",
   "execution_count": null,
   "id": "1e641003-821c-4d26-9a88-80f601b2d2d5",
   "metadata": {},
   "outputs": [],
   "source": [
    "forecast = sari_mod.forecast(steps=52)\n",
    "\n",
    "fig, ax = plt.subplots()\n",
    "ax.plot(ts_weekly, label='so_far')\n",
    "ax.plot(forecast, label='forecast')\n",
    "ax.set_title('Chicago Gun Crime Predictions\\n One Year out')\n",
    "\n",
    "plt.legend();"
   ]
  },
  {
   "cell_type": "code",
   "execution_count": null,
   "id": "aebe7d1d-f546-4696-803b-a40dfef34aff",
   "metadata": {},
   "outputs": [],
   "source": []
  },
  {
   "cell_type": "code",
   "execution_count": null,
   "id": "e51f6a6b-5b9b-47cb-aed7-d0c698e92bed",
   "metadata": {},
   "outputs": [],
   "source": []
  },
  {
   "cell_type": "code",
   "execution_count": null,
   "id": "8936c99e-0180-4e31-af5f-df535f200eef",
   "metadata": {},
   "outputs": [],
   "source": []
  },
  {
   "cell_type": "code",
   "execution_count": null,
   "id": "76cff2ff-d5dc-492a-9f61-e83daf373306",
   "metadata": {},
   "outputs": [],
   "source": []
  },
  {
   "cell_type": "code",
   "execution_count": null,
   "id": "bdc840f0-fd47-4a2b-87c0-8c00a49559f8",
   "metadata": {},
   "outputs": [],
   "source": [
    "y = df.set_index(['Date'])\n",
    "y.head(5"
   ]
  },
  {
   "cell_type": "code",
   "execution_count": null,
   "id": "c511a83b-55c6-4990-a1a2-d61ee4587a98",
   "metadata": {},
   "outputs": [],
   "source": [
    "p = d = q = range(0, 2)\n",
    "pdq = list(itertools.product(p, d, q))\n",
    "seasonal_pdq = [(x[0], x[1], x[2], 12) for x in list(itertools.product(p, d, q))]\n",
    "print('Examples of parameter for SARIMA...')\n",
    "print('SARIMAX: {} x {}'.format(pdq[1], seasonal_pdq[1]))\n",
    "print('SARIMAX: {} x {}'.format(pdq[1], seasonal_pdq[2]))\n",
    "print('SARIMAX: {} x {}'.format(pdq[2], seasonal_pdq[3]))\n",
    "print('SARIMAX: {} x {}'.format(pdq[2], seasonal_pdq[4]))"
   ]
  },
  {
   "cell_type": "code",
   "execution_count": null,
   "id": "a5c0d63a-ee27-48b8-832e-b62e2b4fd04c",
   "metadata": {},
   "outputs": [],
   "source": [
    "for param in pdq:\n",
    "    for param_seasonal in seasonal_pdq:\n",
    "        try:\n",
    "            mod = sm.tsa.statespace.SARIMAX(train_data,order=param,seasonal_order=param_seasonal,enforce_stationarity=False,enforce_invertibility=False)\n",
    "            results = mod.fit()\n",
    "            print('ARIMA{}x{}12 - AIC:{}'.format(param,param_seasonal,results.aic))\n",
    "        except: \n",
    "            continue"
   ]
  },
  {
   "cell_type": "code",
   "execution_count": null,
   "id": "f89c11ef-24cf-41dc-9549-047c34be5a0f",
   "metadata": {},
   "outputs": [],
   "source": [
    "mod = sm.tsa.statespace.SARIMAX(y,\n",
    "                                order=(0, 0, 1),\n",
    "                                seasonal_order=(1, 1, 1, 12),\n",
    "                                enforce_stationarity=False,\n",
    "                                enforce_invertibility=False)\n",
    "results = mod.fit()\n",
    "print(results.summary().tables[1])"
   ]
  },
  {
   "cell_type": "code",
   "execution_count": null,
   "id": "7608fb8c-130b-4e27-95c6-fbf00e39789d",
   "metadata": {},
   "outputs": [],
   "source": [
    "results.plot_diagnostics(figsize=(18, 8))\n",
    "plt.show()"
   ]
  },
  {
   "cell_type": "code",
   "execution_count": null,
   "id": "17e9deae-ffea-4521-9297-3b29f32a34b2",
   "metadata": {},
   "outputs": [],
   "source": [
    "pred = results.get_prediction(start=pd.to_datetime('2018-06-01'), dynamic=False)\n",
    "pred_ci = pred.conf_int()\n",
    "ax = y['2015':].plot(label='observed')\n",
    "pred.predicted_mean.plot(ax=ax, label='One-step ahead Forecast', alpha=.7, figsize=(14, 4))\n",
    "ax.fill_between(pred_ci.index,\n",
    "                pred_ci.iloc[:, 0],\n",
    "                pred_ci.iloc[:, 1], color='k', alpha=.2)\n",
    "ax.set_xlabel('Date')\n",
    "ax.set_ylabel('Retail_sold')\n",
    "plt.legend()\n",
    "plt.show()"
   ]
  },
  {
   "cell_type": "code",
   "execution_count": null,
   "id": "be49757b-d94b-4795-b159-fd993006a8f6",
   "metadata": {},
   "outputs": [],
   "source": [
    "y_forecasted = pred.predicted_mean\n",
    "y_truth = y['2018-06-01':]\n",
    "mse = ((y_forecasted - y_truth) ** 2).mean()\n",
    "print('The Mean Squared Error is {}'.format(round(mse, 2)))\n",
    "print('The Root Mean Squared Error is {}'.format(round(np.sqrt(mse), 2)))"
   ]
  },
  {
   "cell_type": "code",
   "execution_count": null,
   "id": "66c60e2f-b679-473a-b329-0d0b7f62f44e",
   "metadata": {},
   "outputs": [],
   "source": [
    "pred_uc = results.get_forecast(steps=12)\n",
    "pred_ci = pred_uc.conf_int()\n",
    "ax = y.plot(label='observed', figsize=(14, 4))\n",
    "pred_uc.predicted_mean.plot(ax=ax, label='Forecast')\n",
    "ax.fill_between(pred_ci.index,\n",
    "                pred_ci.iloc[:, 0],\n",
    "                pred_ci.iloc[:, 1], color='k', alpha=.25)\n",
    "ax.set_xlabel('Date')\n",
    "ax.set_ylabel('Sales')\n",
    "plt.legend()\n",
    "plt.show()"
   ]
  },
  {
   "cell_type": "code",
   "execution_count": null,
   "id": "56bf7d13-36e8-4bd8-8d5a-639766599484",
   "metadata": {},
   "outputs": [],
   "source": [
    "y_forecasted = pred.predicted_mean\n",
    "y_forecasted.head(12)"
   ]
  },
  {
   "cell_type": "code",
   "execution_count": null,
   "id": "5eafd6e4-2e1b-44c4-baff-559bb776b850",
   "metadata": {},
   "outputs": [],
   "source": [
    "y_truth.head(12)"
   ]
  },
  {
   "cell_type": "code",
   "execution_count": null,
   "id": "19a9bce2-fa58-4c7a-968d-55182287c822",
   "metadata": {},
   "outputs": [],
   "source": [
    "pred_ci.head(24)"
   ]
  },
  {
   "cell_type": "code",
   "execution_count": null,
   "id": "f2dbb6fa-715e-44bb-90e6-dcf34ddfa85c",
   "metadata": {},
   "outputs": [],
   "source": [
    "forecast = pred_uc.predicted_mean\n",
    "forecast.head(12)"
   ]
  },
  {
   "cell_type": "code",
   "execution_count": null,
   "id": "7c3d5e54-419c-4e4a-b314-531a7a7eb1dc",
   "metadata": {},
   "outputs": [],
   "source": []
  },
  {
   "cell_type": "code",
   "execution_count": null,
   "id": "bd3999bc-83ef-4f56-9f78-16d298a29899",
   "metadata": {},
   "outputs": [],
   "source": []
  },
  {
   "cell_type": "code",
   "execution_count": null,
   "id": "b5118324-9c2b-4927-a789-dced3f2a3a03",
   "metadata": {},
   "outputs": [],
   "source": []
  },
  {
   "cell_type": "code",
   "execution_count": null,
   "id": "bb56530e-9159-453a-9b43-5c1188764a5f",
   "metadata": {},
   "outputs": [],
   "source": []
  },
  {
   "cell_type": "code",
   "execution_count": null,
   "id": "b84d1828-40c7-4ec5-b154-66df124192da",
   "metadata": {},
   "outputs": [],
   "source": []
  },
  {
   "cell_type": "code",
   "execution_count": null,
   "id": "44288aed-d37d-4631-9324-2c1c49fa1c37",
   "metadata": {},
   "outputs": [],
   "source": [
    "\n",
    "sarima_model = SARIMAX(train_data, order=(0, 1, 2), seasonal_order=(0, 1, 2, 12), enforce_invertibility=False, enforce_stationarity=False)\n",
    "sarima_fit = sarima_model.fit()\n",
    "\n",
    "sarima_pred = sarima_fit.get_prediction(\"1974-01\", \"1975-12\")\n",
    "predicted_means = p.predicted_mean + df.data.iloc[-36:-1].rolling(12).mean().dropna().values\n",
    "predicted_intervals = p.conf_int(alpha=0.05)\n",
    "lower_bounds = predicted_intervals['lower station'] + df.data.iloc[-36:-1].rolling(12).mean().dropna().values\n",
    "upper_bounds = predicted_intervals['upper station'] + df.data.iloc[-36:-1].rolling(12).mean().dropna().values\n",
    "\n",
    "sarima_rmse = np.sqrt(np.mean(np.square(test_st.values - p.predicted_mean.values)))\n",
    "\n",
    "fig, ax = plt.subplots(figsize=(12, 4))\n",
    "ax.plot(df.data.index[100:-24], df.data.values[100:-24]);\n",
    "ax.plot(test_st.index, test_st.values + df.data.iloc[-36:-1].rolling(12).mean().dropna().values, label='truth');\n",
    "ax.plot(test_st.index, predicted_means, color='#ff7823', linestyle='--', label=\"prediction (RMSE={:0.2f})\".format(sarima_rmse));\n",
    "ax.fill_between(test_st.index, lower_bounds, upper_bounds, color='#ff7823', alpha=0.3, label=\"confidence interval (95%)\");\n",
    "ax.legend();\n",
    "ax.set_title(\"SARIMA\");"
   ]
  },
  {
   "cell_type": "code",
   "execution_count": null,
   "id": "4a2fc2ea-2d8f-4704-b71e-7953739d8120",
   "metadata": {},
   "outputs": [],
   "source": [
    "import itertools\n",
    "\n",
    "def sarima_grid_search(y,seasonal_period):\n",
    "    p = d = q = range(0, 2)\n",
    "    pdq = list(itertools.product(p, d, q))\n",
    "    seasonal_pdq = [(x[0], x[1], x[2],seasonal_period) for x in list(itertools.product(p, d, q))]\n",
    "    \n",
    "    mini = float('+inf')\n",
    "    \n",
    "    \n",
    "    for param in pdq:\n",
    "        for param_seasonal in seasonal_pdq:\n",
    "            try:\n",
    "                mod = sm.tsa.statespace.SARIMAX(y,\n",
    "                                                order=param,\n",
    "                                                seasonal_order=param_seasonal,\n",
    "                                                enforce_stationarity=False,\n",
    "                                                enforce_invertibility=False)\n",
    "\n",
    "                results = mod.fit()\n",
    "                \n",
    "                if results.aic < mini:\n",
    "                    mini = results.aic\n",
    "                    param_mini = param\n",
    "                    param_seasonal_mini = param_seasonal\n",
    "\n",
    "#                 print('SARIMA{}x{} - AIC:{}'.format(param, param_seasonal, results.aic))\n",
    "            except:\n",
    "                continue\n",
    "    print('The set of parameters with the minimum AIC is: SARIMA{}x{} - AIC:{}'.format(param_mini, param_seasonal_mini, mini))"
   ]
  },
  {
   "cell_type": "code",
   "execution_count": null,
   "id": "9cc8a138-2070-4869-a80f-cdd45603b9da",
   "metadata": {},
   "outputs": [],
   "source": [
    "sarima_grid_search(y,52)"
   ]
  },
  {
   "cell_type": "code",
   "execution_count": null,
   "id": "0086b032-67d3-4775-afa6-56fb72c230f9",
   "metadata": {},
   "outputs": [],
   "source": [
    "# Call this function after pick the right(p,d,q) for SARIMA based on AIC               \n",
    "def sarima_eva(y,order,seasonal_order,seasonal_period,pred_date,y_to_test):\n",
    "    # fit the model \n",
    "    mod = sm.tsa.statespace.SARIMAX(y,\n",
    "                                order=order,\n",
    "                                seasonal_order=seasonal_order,\n",
    "                                enforce_stationarity=False,\n",
    "                                enforce_invertibility=False)\n",
    "\n",
    "    results = mod.fit()\n",
    "    print(results.summary().tables[1])\n",
    "    \n",
    "    results.plot_diagnostics(figsize=(16, 8))\n",
    "    plt.show()\n",
    "    \n",
    "    # The dynamic=False argument ensures that we produce one-step ahead forecasts, \n",
    "    # meaning that forecasts at each point are generated using the full history up to that point.\n",
    "    pred = results.get_prediction(start=pd.to_datetime(pred_date), dynamic=False)\n",
    "    pred_ci = pred.conf_int()\n",
    "    y_forecasted = pred.predicted_mean\n",
    "    mse = ((y_forecasted - y_to_test) ** 2).mean()\n",
    "    print('The Root Mean Squared Error of SARIMA with season_length={} and dynamic = False {}'.format(seasonal_period,round(np.sqrt(mse), 2)))\n",
    "\n",
    "    ax = y.plot(label='observed')\n",
    "    y_forecasted.plot(ax=ax, label='One-step ahead Forecast', alpha=.7, figsize=(14, 7))\n",
    "    ax.fill_between(pred_ci.index,\n",
    "                    pred_ci.iloc[:, 0],\n",
    "                    pred_ci.iloc[:, 1], color='k', alpha=.2)\n",
    "\n",
    "    ax.set_xlabel('Date')\n",
    "    ax.set_ylabel('Sessions')\n",
    "    plt.legend()\n",
    "    plt.show()\n",
    "\n",
    "    # A better representation of our true predictive power can be obtained using dynamic forecasts. \n",
    "    # In this case, we only use information from the time series up to a certain point, \n",
    "    # and after that, forecasts are generated using values from previous forecasted time points.\n",
    "    pred_dynamic = results.get_prediction(start=pd.to_datetime(pred_date), dynamic=True, full_results=True)\n",
    "    pred_dynamic_ci = pred_dynamic.conf_int()\n",
    "    y_forecasted_dynamic = pred_dynamic.predicted_mean\n",
    "    mse_dynamic = ((y_forecasted_dynamic - y_to_test) ** 2).mean()\n",
    "    print('The Root Mean Squared Error of SARIMA with season_length={} and dynamic = True {}'.format(seasonal_period,round(np.sqrt(mse_dynamic), 2)))\n",
    "\n",
    "    ax = y.plot(label='observed')\n",
    "    y_forecasted_dynamic.plot(label='Dynamic Forecast', ax=ax,figsize=(14, 7))\n",
    "    ax.fill_between(pred_dynamic_ci.index,\n",
    "                    pred_dynamic_ci.iloc[:, 0],\n",
    "                    pred_dynamic_ci.iloc[:, 1], color='k', alpha=.2)\n",
    "\n",
    "    ax.set_xlabel('Date')\n",
    "    ax.set_ylabel('Sessions')\n",
    "\n",
    "    plt.legend()\n",
    "    plt.show()\n",
    "    \n",
    "    return (results)"
   ]
  },
  {
   "cell_type": "code",
   "execution_count": null,
   "id": "68334675-89e5-4678-bccc-9fe22124c022",
   "metadata": {},
   "outputs": [],
   "source": [
    "model = sarima_eva(y,(1, 1, 1),(1, 1, 0, 52),52,'2019-06-02',y_to_val)"
   ]
  },
  {
   "cell_type": "code",
   "execution_count": null,
   "id": "1cfeebb0-6551-4fce-8416-3638aaa34ea6",
   "metadata": {},
   "outputs": [],
   "source": [
    "def forecast(model,predict_steps,y):\n",
    "    \n",
    "    pred_uc = model.get_forecast(steps=predict_steps)\n",
    "\n",
    "    #SARIMAXResults.conf_int, can change alpha,the default alpha = .05 returns a 95% confidence interval.\n",
    "    pred_ci = pred_uc.conf_int()\n",
    "\n",
    "    ax = y.plot(label='observed', figsize=(14, 7))\n",
    "#     print(pred_uc.predicted_mean)\n",
    "    pred_uc.predicted_mean.plot(ax=ax, label='Forecast')\n",
    "    ax.fill_between(pred_ci.index,\n",
    "                    pred_ci.iloc[:, 0],\n",
    "                    pred_ci.iloc[:, 1], color='k', alpha=.25)\n",
    "    ax.set_xlabel('Date')\n",
    "    ax.set_ylabel(y.name)\n",
    "\n",
    "    plt.legend()\n",
    "    plt.show()\n",
    "    \n",
    "    # Produce the forcasted tables \n",
    "    pm = pred_uc.predicted_mean.reset_index()\n",
    "    pm.columns = ['Date','Predicted_Mean']\n",
    "    pci = pred_ci.reset_index()\n",
    "    pci.columns = ['Date','Lower Bound','Upper Bound']\n",
    "    final_table = pm.join(pci.set_index('Date'), on='Date')\n",
    "    \n",
    "    return (final_table)"
   ]
  },
  {
   "cell_type": "code",
   "execution_count": null,
   "id": "f688eb84-bf2b-41c0-ac10-9e7e03575252",
   "metadata": {},
   "outputs": [],
   "source": [
    "final_table = forecast(model,52,y)\n",
    "final_table.head()"
   ]
  }
 ],
 "metadata": {
  "kernelspec": {
   "display_name": "tf_env",
   "language": "python",
   "name": "tf_env"
  },
  "language_info": {
   "codemirror_mode": {
    "name": "ipython",
    "version": 3
   },
   "file_extension": ".py",
   "mimetype": "text/x-python",
   "name": "python",
   "nbconvert_exporter": "python",
   "pygments_lexer": "ipython3",
   "version": "3.8.11"
  }
 },
 "nbformat": 4,
 "nbformat_minor": 5
}
