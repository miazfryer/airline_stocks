{
 "cells": [
  {
   "cell_type": "code",
   "execution_count": 48,
   "id": "0e75f94e-53d4-4d04-9841-a39369dc1ec0",
   "metadata": {},
   "outputs": [],
   "source": [
    "#basic\n",
    "import pandas as pd\n",
    "import numpy as np\n",
    "\n",
    "#plot\n",
    "import matplotlib.pyplot as plt\n",
    "import seaborn as sns\n",
    "sns.set_style('whitegrid')\n",
    "sns.set(rc={'figure.figsize':(16,8)})\n",
    "sns.set(font_scale=1.3)\n",
    "plt.style.use(\"fivethirtyeight\")\n",
    "%matplotlib inline\n",
    "from pandas.plotting import autocorrelation_plot\n",
    "from statsmodels.graphics.tsaplots import plot_acf,plot_pacf\n",
    "\n",
    "# For reading stock data \n",
    "from pandas_datareader.data import DataReader\n",
    "\n",
    "# For time stamps\n",
    "from datetime import datetime\n",
    "\n",
    "import warnings\n",
    "warnings.filterwarnings('ignore')\n",
    "\n",
    "#modeling\n",
    "import itertools\n",
    "from statsmodels.tsa.stattools import adfuller\n",
    "from sklearn.preprocessing import MinMaxScaler\n",
    "from statsmodels.tsa.holtwinters import SimpleExpSmoothing, Holt, ExponentialSmoothing\n",
    "from math import sqrt\n",
    "from sklearn.metrics import mean_squared_error, mean_absolute_error\n",
    "from statsmodels.tsa.statespace.sarimax import SARIMAX\n",
    "from sklearn.model_selection import TimeSeriesSplit\n",
    "\n",
    "np.random.seed(123)"
   ]
  },
  {
   "cell_type": "code",
   "execution_count": 49,
   "id": "89649fb5-b882-48eb-8fe3-45d7b10bf0f4",
   "metadata": {},
   "outputs": [],
   "source": [
    "df = DataReader('AAL', data_source='yahoo', start='2012-01-01', end=datetime.now())"
   ]
  },
  {
   "cell_type": "code",
   "execution_count": 50,
   "id": "9ee62da8-c875-49ed-ac09-25e84d55a2e2",
   "metadata": {},
   "outputs": [],
   "source": [
    "data = df.filter(['Close'])"
   ]
  },
  {
   "cell_type": "code",
   "execution_count": 51,
   "id": "c7512219-8934-42c8-be1d-1031e556d351",
   "metadata": {},
   "outputs": [
    {
     "data": {
      "text/html": [
       "<div>\n",
       "<style scoped>\n",
       "    .dataframe tbody tr th:only-of-type {\n",
       "        vertical-align: middle;\n",
       "    }\n",
       "\n",
       "    .dataframe tbody tr th {\n",
       "        vertical-align: top;\n",
       "    }\n",
       "\n",
       "    .dataframe thead th {\n",
       "        text-align: right;\n",
       "    }\n",
       "</style>\n",
       "<table border=\"1\" class=\"dataframe\">\n",
       "  <thead>\n",
       "    <tr style=\"text-align: right;\">\n",
       "      <th></th>\n",
       "      <th>Close</th>\n",
       "    </tr>\n",
       "    <tr>\n",
       "      <th>Date</th>\n",
       "      <th></th>\n",
       "    </tr>\n",
       "  </thead>\n",
       "  <tbody>\n",
       "    <tr>\n",
       "      <th>2012-01-03</th>\n",
       "      <td>5.120000</td>\n",
       "    </tr>\n",
       "    <tr>\n",
       "      <th>2012-01-04</th>\n",
       "      <td>5.030000</td>\n",
       "    </tr>\n",
       "    <tr>\n",
       "      <th>2012-01-05</th>\n",
       "      <td>5.470000</td>\n",
       "    </tr>\n",
       "    <tr>\n",
       "      <th>2012-01-06</th>\n",
       "      <td>5.600000</td>\n",
       "    </tr>\n",
       "    <tr>\n",
       "      <th>2012-01-09</th>\n",
       "      <td>5.720000</td>\n",
       "    </tr>\n",
       "    <tr>\n",
       "      <th>...</th>\n",
       "      <td>...</td>\n",
       "    </tr>\n",
       "    <tr>\n",
       "      <th>2021-09-02</th>\n",
       "      <td>19.760000</td>\n",
       "    </tr>\n",
       "    <tr>\n",
       "      <th>2021-09-03</th>\n",
       "      <td>19.370001</td>\n",
       "    </tr>\n",
       "    <tr>\n",
       "      <th>2021-09-07</th>\n",
       "      <td>19.530001</td>\n",
       "    </tr>\n",
       "    <tr>\n",
       "      <th>2021-09-08</th>\n",
       "      <td>19.129999</td>\n",
       "    </tr>\n",
       "    <tr>\n",
       "      <th>2021-09-10</th>\n",
       "      <td>19.634501</td>\n",
       "    </tr>\n",
       "  </tbody>\n",
       "</table>\n",
       "<p>2438 rows × 1 columns</p>\n",
       "</div>"
      ],
      "text/plain": [
       "                Close\n",
       "Date                 \n",
       "2012-01-03   5.120000\n",
       "2012-01-04   5.030000\n",
       "2012-01-05   5.470000\n",
       "2012-01-06   5.600000\n",
       "2012-01-09   5.720000\n",
       "...               ...\n",
       "2021-09-02  19.760000\n",
       "2021-09-03  19.370001\n",
       "2021-09-07  19.530001\n",
       "2021-09-08  19.129999\n",
       "2021-09-10  19.634501\n",
       "\n",
       "[2438 rows x 1 columns]"
      ]
     },
     "execution_count": 51,
     "metadata": {},
     "output_type": "execute_result"
    }
   ],
   "source": [
    "data"
   ]
  },
  {
   "cell_type": "code",
   "execution_count": 52,
   "id": "3cf5dba8-3c8c-4616-9410-7003d3708d22",
   "metadata": {},
   "outputs": [],
   "source": [
    "training_data_len = int(np.ceil(len(data) * .9 ))\n",
    "train_data = data[0:int(training_data_len)]\n",
    "test_data =data[int(training_data_len):]"
   ]
  },
  {
   "cell_type": "code",
   "execution_count": 53,
   "id": "2987ac29-80c4-4f6a-95f2-75509a6cbefd",
   "metadata": {},
   "outputs": [
    {
     "data": {
      "text/plain": [
       "(2195, 1)"
      ]
     },
     "execution_count": 53,
     "metadata": {},
     "output_type": "execute_result"
    }
   ],
   "source": [
    "train_data.shape"
   ]
  },
  {
   "cell_type": "code",
   "execution_count": 54,
   "id": "66243107-aca9-401c-ae5e-a951f1582646",
   "metadata": {},
   "outputs": [
    {
     "data": {
      "text/html": [
       "<div>\n",
       "<style scoped>\n",
       "    .dataframe tbody tr th:only-of-type {\n",
       "        vertical-align: middle;\n",
       "    }\n",
       "\n",
       "    .dataframe tbody tr th {\n",
       "        vertical-align: top;\n",
       "    }\n",
       "\n",
       "    .dataframe thead th {\n",
       "        text-align: right;\n",
       "    }\n",
       "</style>\n",
       "<table border=\"1\" class=\"dataframe\">\n",
       "  <thead>\n",
       "    <tr style=\"text-align: right;\">\n",
       "      <th></th>\n",
       "      <th>Close</th>\n",
       "    </tr>\n",
       "    <tr>\n",
       "      <th>Date</th>\n",
       "      <th></th>\n",
       "    </tr>\n",
       "  </thead>\n",
       "  <tbody>\n",
       "    <tr>\n",
       "      <th>2012-01-03</th>\n",
       "      <td>5.12</td>\n",
       "    </tr>\n",
       "    <tr>\n",
       "      <th>2012-01-04</th>\n",
       "      <td>5.03</td>\n",
       "    </tr>\n",
       "    <tr>\n",
       "      <th>2012-01-05</th>\n",
       "      <td>5.47</td>\n",
       "    </tr>\n",
       "    <tr>\n",
       "      <th>2012-01-06</th>\n",
       "      <td>5.60</td>\n",
       "    </tr>\n",
       "    <tr>\n",
       "      <th>2012-01-09</th>\n",
       "      <td>5.72</td>\n",
       "    </tr>\n",
       "    <tr>\n",
       "      <th>...</th>\n",
       "      <td>...</td>\n",
       "    </tr>\n",
       "    <tr>\n",
       "      <th>2020-09-16</th>\n",
       "      <td>13.80</td>\n",
       "    </tr>\n",
       "    <tr>\n",
       "      <th>2020-09-17</th>\n",
       "      <td>13.63</td>\n",
       "    </tr>\n",
       "    <tr>\n",
       "      <th>2020-09-18</th>\n",
       "      <td>13.19</td>\n",
       "    </tr>\n",
       "    <tr>\n",
       "      <th>2020-09-21</th>\n",
       "      <td>12.21</td>\n",
       "    </tr>\n",
       "    <tr>\n",
       "      <th>2020-09-22</th>\n",
       "      <td>12.34</td>\n",
       "    </tr>\n",
       "  </tbody>\n",
       "</table>\n",
       "<p>2195 rows × 1 columns</p>\n",
       "</div>"
      ],
      "text/plain": [
       "            Close\n",
       "Date             \n",
       "2012-01-03   5.12\n",
       "2012-01-04   5.03\n",
       "2012-01-05   5.47\n",
       "2012-01-06   5.60\n",
       "2012-01-09   5.72\n",
       "...           ...\n",
       "2020-09-16  13.80\n",
       "2020-09-17  13.63\n",
       "2020-09-18  13.19\n",
       "2020-09-21  12.21\n",
       "2020-09-22  12.34\n",
       "\n",
       "[2195 rows x 1 columns]"
      ]
     },
     "execution_count": 54,
     "metadata": {},
     "output_type": "execute_result"
    }
   ],
   "source": [
    "train_data"
   ]
  },
  {
   "cell_type": "code",
   "execution_count": 55,
   "id": "958e701e-d600-4f36-9c69-fd19e10f4a24",
   "metadata": {},
   "outputs": [
    {
     "data": {
      "text/plain": [
       "(243, 1)"
      ]
     },
     "execution_count": 55,
     "metadata": {},
     "output_type": "execute_result"
    }
   ],
   "source": [
    "test_data.shape"
   ]
  },
  {
   "cell_type": "code",
   "execution_count": 56,
   "id": "069bdb32-dc37-447b-8c0e-e45397d03f71",
   "metadata": {},
   "outputs": [
    {
     "data": {
      "text/html": [
       "<div>\n",
       "<style scoped>\n",
       "    .dataframe tbody tr th:only-of-type {\n",
       "        vertical-align: middle;\n",
       "    }\n",
       "\n",
       "    .dataframe tbody tr th {\n",
       "        vertical-align: top;\n",
       "    }\n",
       "\n",
       "    .dataframe thead th {\n",
       "        text-align: right;\n",
       "    }\n",
       "</style>\n",
       "<table border=\"1\" class=\"dataframe\">\n",
       "  <thead>\n",
       "    <tr style=\"text-align: right;\">\n",
       "      <th></th>\n",
       "      <th>Close</th>\n",
       "    </tr>\n",
       "    <tr>\n",
       "      <th>Date</th>\n",
       "      <th></th>\n",
       "    </tr>\n",
       "  </thead>\n",
       "  <tbody>\n",
       "    <tr>\n",
       "      <th>2020-09-23</th>\n",
       "      <td>11.930000</td>\n",
       "    </tr>\n",
       "    <tr>\n",
       "      <th>2020-09-24</th>\n",
       "      <td>11.770000</td>\n",
       "    </tr>\n",
       "    <tr>\n",
       "      <th>2020-09-25</th>\n",
       "      <td>12.290000</td>\n",
       "    </tr>\n",
       "    <tr>\n",
       "      <th>2020-09-28</th>\n",
       "      <td>12.760000</td>\n",
       "    </tr>\n",
       "    <tr>\n",
       "      <th>2020-09-29</th>\n",
       "      <td>12.250000</td>\n",
       "    </tr>\n",
       "    <tr>\n",
       "      <th>...</th>\n",
       "      <td>...</td>\n",
       "    </tr>\n",
       "    <tr>\n",
       "      <th>2021-09-02</th>\n",
       "      <td>19.760000</td>\n",
       "    </tr>\n",
       "    <tr>\n",
       "      <th>2021-09-03</th>\n",
       "      <td>19.370001</td>\n",
       "    </tr>\n",
       "    <tr>\n",
       "      <th>2021-09-07</th>\n",
       "      <td>19.530001</td>\n",
       "    </tr>\n",
       "    <tr>\n",
       "      <th>2021-09-08</th>\n",
       "      <td>19.129999</td>\n",
       "    </tr>\n",
       "    <tr>\n",
       "      <th>2021-09-10</th>\n",
       "      <td>19.634501</td>\n",
       "    </tr>\n",
       "  </tbody>\n",
       "</table>\n",
       "<p>243 rows × 1 columns</p>\n",
       "</div>"
      ],
      "text/plain": [
       "                Close\n",
       "Date                 \n",
       "2020-09-23  11.930000\n",
       "2020-09-24  11.770000\n",
       "2020-09-25  12.290000\n",
       "2020-09-28  12.760000\n",
       "2020-09-29  12.250000\n",
       "...               ...\n",
       "2021-09-02  19.760000\n",
       "2021-09-03  19.370001\n",
       "2021-09-07  19.530001\n",
       "2021-09-08  19.129999\n",
       "2021-09-10  19.634501\n",
       "\n",
       "[243 rows x 1 columns]"
      ]
     },
     "execution_count": 56,
     "metadata": {},
     "output_type": "execute_result"
    }
   ],
   "source": [
    "test_data"
   ]
  },
  {
   "cell_type": "code",
   "execution_count": 57,
   "id": "7944893c-4603-48c5-8f95-51244748a8df",
   "metadata": {},
   "outputs": [],
   "source": [
    "p = d = q = range(0, 2)\n",
    "\n",
    "# Generate all different combinations of p, q and q triplets\n",
    "pdq = list(itertools.product(p, d, q))\n",
    "\n",
    "# Generate all different combinations of seasonal p, q and q triplets for s = 12 (constant)\n",
    "seasonal_pdq = [(x[0], x[1], x[2], 12) for x in list(itertools.product(p, d, q))]\n"
   ]
  },
  {
   "cell_type": "code",
   "execution_count": 58,
   "id": "110e2b9c-360d-49ff-8d07-07fbc22e358f",
   "metadata": {
    "tags": []
   },
   "outputs": [
    {
     "name": "stdout",
     "output_type": "stream",
     "text": [
      "SARIMAX: (0, 0, 0) x (0, 0, 0, 12)\n",
      "SARIMAX: (0, 0, 0) x (0, 0, 1, 12)\n",
      "SARIMAX: (0, 0, 0) x (0, 1, 0, 12)\n",
      "SARIMAX: (0, 0, 0) x (0, 1, 1, 12)\n",
      "SARIMAX: (0, 0, 0) x (1, 0, 0, 12)\n",
      "SARIMAX: (0, 0, 0) x (1, 0, 1, 12)\n",
      "SARIMAX: (0, 0, 0) x (1, 1, 0, 12)\n",
      "SARIMAX: (0, 0, 0) x (1, 1, 1, 12)\n",
      "SARIMAX: (0, 0, 1) x (0, 0, 0, 12)\n",
      "SARIMAX: (0, 0, 1) x (0, 0, 1, 12)\n",
      "SARIMAX: (0, 0, 1) x (0, 1, 0, 12)\n",
      "SARIMAX: (0, 0, 1) x (0, 1, 1, 12)\n",
      "SARIMAX: (0, 0, 1) x (1, 0, 0, 12)\n",
      "SARIMAX: (0, 0, 1) x (1, 0, 1, 12)\n",
      "SARIMAX: (0, 0, 1) x (1, 1, 0, 12)\n",
      "SARIMAX: (0, 0, 1) x (1, 1, 1, 12)\n",
      "SARIMAX: (0, 1, 0) x (0, 0, 0, 12)\n",
      "SARIMAX: (0, 1, 0) x (0, 0, 1, 12)\n",
      "SARIMAX: (0, 1, 0) x (0, 1, 0, 12)\n",
      "SARIMAX: (0, 1, 0) x (0, 1, 1, 12)\n",
      "SARIMAX: (0, 1, 0) x (1, 0, 0, 12)\n",
      "SARIMAX: (0, 1, 0) x (1, 0, 1, 12)\n",
      "SARIMAX: (0, 1, 0) x (1, 1, 0, 12)\n",
      "SARIMAX: (0, 1, 0) x (1, 1, 1, 12)\n",
      "SARIMAX: (0, 1, 1) x (0, 0, 0, 12)\n",
      "SARIMAX: (0, 1, 1) x (0, 0, 1, 12)\n",
      "SARIMAX: (0, 1, 1) x (0, 1, 0, 12)\n",
      "SARIMAX: (0, 1, 1) x (0, 1, 1, 12)\n",
      "SARIMAX: (0, 1, 1) x (1, 0, 0, 12)\n",
      "SARIMAX: (0, 1, 1) x (1, 0, 1, 12)\n",
      "SARIMAX: (0, 1, 1) x (1, 1, 0, 12)\n",
      "SARIMAX: (0, 1, 1) x (1, 1, 1, 12)\n",
      "SARIMAX: (1, 0, 0) x (0, 0, 0, 12)\n",
      "SARIMAX: (1, 0, 0) x (0, 0, 1, 12)\n",
      "SARIMAX: (1, 0, 0) x (0, 1, 0, 12)\n",
      "SARIMAX: (1, 0, 0) x (0, 1, 1, 12)\n",
      "SARIMAX: (1, 0, 0) x (1, 0, 0, 12)\n",
      "SARIMAX: (1, 0, 0) x (1, 0, 1, 12)\n",
      "SARIMAX: (1, 0, 0) x (1, 1, 0, 12)\n",
      "SARIMAX: (1, 0, 0) x (1, 1, 1, 12)\n",
      "SARIMAX: (1, 0, 1) x (0, 0, 0, 12)\n",
      "SARIMAX: (1, 0, 1) x (0, 0, 1, 12)\n",
      "SARIMAX: (1, 0, 1) x (0, 1, 0, 12)\n",
      "SARIMAX: (1, 0, 1) x (0, 1, 1, 12)\n",
      "SARIMAX: (1, 0, 1) x (1, 0, 0, 12)\n",
      "SARIMAX: (1, 0, 1) x (1, 0, 1, 12)\n",
      "SARIMAX: (1, 0, 1) x (1, 1, 0, 12)\n",
      "SARIMAX: (1, 0, 1) x (1, 1, 1, 12)\n",
      "SARIMAX: (1, 1, 0) x (0, 0, 0, 12)\n",
      "SARIMAX: (1, 1, 0) x (0, 0, 1, 12)\n",
      "SARIMAX: (1, 1, 0) x (0, 1, 0, 12)\n",
      "SARIMAX: (1, 1, 0) x (0, 1, 1, 12)\n",
      "SARIMAX: (1, 1, 0) x (1, 0, 0, 12)\n",
      "SARIMAX: (1, 1, 0) x (1, 0, 1, 12)\n",
      "SARIMAX: (1, 1, 0) x (1, 1, 0, 12)\n",
      "SARIMAX: (1, 1, 0) x (1, 1, 1, 12)\n",
      "SARIMAX: (1, 1, 1) x (0, 0, 0, 12)\n",
      "SARIMAX: (1, 1, 1) x (0, 0, 1, 12)\n",
      "SARIMAX: (1, 1, 1) x (0, 1, 0, 12)\n",
      "SARIMAX: (1, 1, 1) x (0, 1, 1, 12)\n",
      "SARIMAX: (1, 1, 1) x (1, 0, 0, 12)\n",
      "SARIMAX: (1, 1, 1) x (1, 0, 1, 12)\n",
      "SARIMAX: (1, 1, 1) x (1, 1, 0, 12)\n",
      "SARIMAX: (1, 1, 1) x (1, 1, 1, 12)\n"
     ]
    }
   ],
   "source": [
    "for i in pdq:\n",
    "    for s in seasonal_pdq:\n",
    "        print('SARIMAX: {} x {}'.format(i, s))"
   ]
  },
  {
   "cell_type": "code",
   "execution_count": 59,
   "id": "24039a8e-ce14-498b-b613-361945203660",
   "metadata": {
    "tags": []
   },
   "outputs": [
    {
     "name": "stdout",
     "output_type": "stream",
     "text": [
      "ARIMA (0, 0, 0) x (0, 0, 0, 12)12 : AIC Calculated =24110.872297937323\n",
      "ARIMA (0, 0, 0) x (0, 0, 1, 12)12 : AIC Calculated =20973.177983455134\n",
      "ARIMA (0, 0, 0) x (0, 1, 0, 12)12 : AIC Calculated =12070.28381772518\n",
      "ARIMA (0, 0, 0) x (0, 1, 1, 12)12 : AIC Calculated =12008.102364855593\n",
      "ARIMA (0, 0, 0) x (1, 0, 0, 12)12 : AIC Calculated =12073.660629997801\n",
      "ARIMA (0, 0, 0) x (1, 0, 1, 12)12 : AIC Calculated =12064.689070043238\n",
      "ARIMA (0, 0, 0) x (1, 1, 0, 12)12 : AIC Calculated =12014.173665994138\n",
      "ARIMA (0, 0, 0) x (1, 1, 1, 12)12 : AIC Calculated =12007.696445304691\n",
      "ARIMA (0, 0, 1) x (0, 0, 0, 12)12 : AIC Calculated =20805.815210714132\n",
      "ARIMA (0, 0, 1) x (0, 0, 1, 12)12 : AIC Calculated =17768.03088359962\n",
      "ARIMA (0, 0, 1) x (0, 1, 0, 12)12 : AIC Calculated =9840.04580285735\n",
      "ARIMA (0, 0, 1) x (0, 1, 1, 12)12 : AIC Calculated =9735.676468598718\n",
      "ARIMA (0, 0, 1) x (1, 0, 0, 12)12 : AIC Calculated =12117.389996408605\n",
      "ARIMA (0, 0, 1) x (1, 0, 1, 12)12 : AIC Calculated =9781.213938404713\n",
      "ARIMA (0, 0, 1) x (1, 1, 0, 12)12 : AIC Calculated =9755.04186789247\n",
      "ARIMA (0, 0, 1) x (1, 1, 1, 12)12 : AIC Calculated =9732.265664670886\n",
      "ARIMA (0, 1, 0) x (0, 0, 0, 12)12 : AIC Calculated =5899.979323963759\n",
      "ARIMA (0, 1, 0) x (0, 0, 1, 12)12 : AIC Calculated =5884.283895794734\n",
      "ARIMA (0, 1, 0) x (0, 1, 0, 12)12 : AIC Calculated =7567.318386770899\n",
      "ARIMA (0, 1, 0) x (0, 1, 1, 12)12 : AIC Calculated =5917.271800868279\n",
      "ARIMA (0, 1, 0) x (1, 0, 0, 12)12 : AIC Calculated =5885.7301428275205\n",
      "ARIMA (0, 1, 0) x (1, 0, 1, 12)12 : AIC Calculated =5886.263357053518\n",
      "ARIMA (0, 1, 0) x (1, 1, 0, 12)12 : AIC Calculated =6865.266753176848\n",
      "ARIMA (0, 1, 0) x (1, 1, 1, 12)12 : AIC Calculated =5919.271852475224\n",
      "ARIMA (0, 1, 1) x (0, 0, 0, 12)12 : AIC Calculated =5889.075222863103\n",
      "ARIMA (0, 1, 1) x (0, 0, 1, 12)12 : AIC Calculated =5873.724431583728\n",
      "ARIMA (0, 1, 1) x (0, 1, 0, 12)12 : AIC Calculated =7552.108642466696\n",
      "ARIMA (0, 1, 1) x (0, 1, 1, 12)12 : AIC Calculated =5906.4064556522335\n",
      "ARIMA (0, 1, 1) x (1, 0, 0, 12)12 : AIC Calculated =5876.625386391961\n",
      "ARIMA (0, 1, 1) x (1, 0, 1, 12)12 : AIC Calculated =5875.717968531431\n",
      "ARIMA (0, 1, 1) x (1, 1, 0, 12)12 : AIC Calculated =6854.0282672522135\n",
      "ARIMA (0, 1, 1) x (1, 1, 1, 12)12 : AIC Calculated =5908.406519367825\n",
      "ARIMA (1, 0, 0) x (0, 0, 0, 12)12 : AIC Calculated =5903.203752304078\n",
      "ARIMA (1, 0, 0) x (0, 0, 1, 12)12 : AIC Calculated =5892.338371533618\n",
      "ARIMA (1, 0, 0) x (0, 1, 0, 12)12 : AIC Calculated =7474.712823381939\n",
      "ARIMA (1, 0, 0) x (0, 1, 1, 12)12 : AIC Calculated =5917.286731463465\n",
      "ARIMA (1, 0, 0) x (1, 0, 0, 12)12 : AIC Calculated =5887.519295842168\n",
      "ARIMA (1, 0, 0) x (1, 0, 1, 12)12 : AIC Calculated =5889.497139561268\n",
      "ARIMA (1, 0, 0) x (1, 1, 0, 12)12 : AIC Calculated =6806.082651485887\n",
      "ARIMA (1, 0, 0) x (1, 1, 1, 12)12 : AIC Calculated =5919.286813308259\n",
      "ARIMA (1, 0, 1) x (0, 0, 0, 12)12 : AIC Calculated =5892.539666300679\n",
      "ARIMA (1, 0, 1) x (0, 0, 1, 12)12 : AIC Calculated =5882.294329772843\n",
      "ARIMA (1, 0, 1) x (0, 1, 0, 12)12 : AIC Calculated =7441.822851053834\n",
      "ARIMA (1, 0, 1) x (0, 1, 1, 12)12 : AIC Calculated =5906.281032964374\n",
      "ARIMA (1, 0, 1) x (1, 0, 0, 12)12 : AIC Calculated =5878.370835827454\n",
      "ARIMA (1, 0, 1) x (1, 0, 1, 12)12 : AIC Calculated =5878.917749727385\n",
      "ARIMA (1, 0, 1) x (1, 1, 0, 12)12 : AIC Calculated =6784.846412431922\n",
      "ARIMA (1, 0, 1) x (1, 1, 1, 12)12 : AIC Calculated =5908.281129189934\n",
      "ARIMA (1, 1, 0) x (0, 0, 0, 12)12 : AIC Calculated =5890.69629125721\n",
      "ARIMA (1, 1, 0) x (0, 0, 1, 12)12 : AIC Calculated =5875.084290803058\n",
      "ARIMA (1, 1, 0) x (0, 1, 0, 12)12 : AIC Calculated =7553.8842924946675\n",
      "ARIMA (1, 1, 0) x (0, 1, 1, 12)12 : AIC Calculated =5908.342192301421\n",
      "ARIMA (1, 1, 0) x (1, 0, 0, 12)12 : AIC Calculated =5875.084922595397\n",
      "ARIMA (1, 1, 0) x (1, 0, 1, 12)12 : AIC Calculated =5877.072884732805\n",
      "ARIMA (1, 1, 0) x (1, 1, 0, 12)12 : AIC Calculated =6851.742090861853\n",
      "ARIMA (1, 1, 0) x (1, 1, 1, 12)12 : AIC Calculated =5910.346610551524\n",
      "ARIMA (1, 1, 1) x (0, 0, 0, 12)12 : AIC Calculated =5890.975950087925\n",
      "ARIMA (1, 1, 1) x (0, 0, 1, 12)12 : AIC Calculated =5875.624844537235\n",
      "ARIMA (1, 1, 1) x (0, 1, 0, 12)12 : AIC Calculated =7553.599401614625\n",
      "ARIMA (1, 1, 1) x (0, 1, 1, 12)12 : AIC Calculated =5908.327397865285\n",
      "ARIMA (1, 1, 1) x (1, 0, 0, 12)12 : AIC Calculated =5877.084542983886\n",
      "ARIMA (1, 1, 1) x (1, 0, 1, 12)12 : AIC Calculated =5877.61881332954\n",
      "ARIMA (1, 1, 1) x (1, 1, 0, 12)12 : AIC Calculated =6853.577454581558\n",
      "ARIMA (1, 1, 1) x (1, 1, 1, 12)12 : AIC Calculated =5910.327465741243\n"
     ]
    }
   ],
   "source": [
    "# Run a grid with pdq and seasonal pdq parameters calculated above and get the best AIC value\n",
    "\n",
    "ans = []\n",
    "for comb in pdq:\n",
    "    for combs in seasonal_pdq:\n",
    "        try:\n",
    "            mod = SARIMAX(data,\n",
    "                     order=comb,\n",
    "                     seasonal_order=combs,\n",
    "                     enforce_stationarity=False,\n",
    "                     enforce_invertibility=False)                                    \n",
    "\n",
    "            output = mod.fit()\n",
    "            ans.append([comb, combs, output.aic])\n",
    "            print('ARIMA {} x {}12 : AIC Calculated ={}'.format(comb, combs, output.aic))\n",
    "        except:\n",
    "            continue"
   ]
  },
  {
   "cell_type": "code",
   "execution_count": 60,
   "id": "688a65ee-cb08-470d-83fd-f5883f356c8b",
   "metadata": {},
   "outputs": [
    {
     "data": {
      "text/plain": [
       "pdq         (0, 1, 1)\n",
       "pdqs    (0, 0, 1, 12)\n",
       "aic       5873.724432\n",
       "Name: 25, dtype: object"
      ]
     },
     "execution_count": 60,
     "metadata": {},
     "output_type": "execute_result"
    }
   ],
   "source": [
    "ans_df = pd.DataFrame(ans, columns=['pdq', 'pdqs', 'aic'])\n",
    "# Find the parameters with minimal AIC value\n",
    "ans_df.loc[ans_df['aic'].idxmin()]\n",
    "#output: pdq=(1, 1, 1) and pdqs= (1, 1, 1, 12)\n"
   ]
  },
  {
   "cell_type": "code",
   "execution_count": 61,
   "id": "73a50d19-b2a4-44b7-8038-702516f20890",
   "metadata": {},
   "outputs": [
    {
     "name": "stdout",
     "output_type": "stream",
     "text": [
      "                                     SARIMAX Results                                      \n",
      "==========================================================================================\n",
      "Dep. Variable:                              Close   No. Observations:                 2195\n",
      "Model:             SARIMAX(0, 1, 1)x(0, 0, 1, 12)   Log Likelihood               -2697.642\n",
      "Date:                            Fri, 10 Sep 2021   AIC                           5401.285\n",
      "Time:                                    09:16:35   BIC                           5418.346\n",
      "Sample:                                         0   HQIC                          5407.522\n",
      "                                           - 2195                                         \n",
      "Covariance Type:                              opg                                         \n",
      "==============================================================================\n",
      "                 coef    std err          z      P>|z|      [0.025      0.975]\n",
      "------------------------------------------------------------------------------\n",
      "ma.L1          0.0676      0.018      3.756      0.000       0.032       0.103\n",
      "ma.S.L12      -0.0076      0.018     -0.425      0.671      -0.043       0.027\n",
      "sigma2         0.6956      0.013     51.880      0.000       0.669       0.722\n",
      "===================================================================================\n",
      "Ljung-Box (L1) (Q):                   0.00   Jarque-Bera (JB):               812.93\n",
      "Prob(Q):                              0.98   Prob(JB):                         0.00\n",
      "Heteroskedasticity (H):               2.17   Skew:                            -0.20\n",
      "Prob(H) (two-sided):                  0.00   Kurtosis:                         5.97\n",
      "===================================================================================\n",
      "\n",
      "Warnings:\n",
      "[1] Covariance matrix calculated using the outer product of gradients (complex-step).\n"
     ]
    }
   ],
   "source": [
    "mod = SARIMAX(train_data, order=(0, 1, 1),seasonal_order=(0, 0, 1, 12),enforce_stationarity=False,enforce_invertibility=False)\n",
    "                                                                \n",
    "results = mod.fit()\n",
    "print(results.summary())"
   ]
  },
  {
   "cell_type": "code",
   "execution_count": 62,
   "id": "c9e6a8d7-b410-46f2-8c8f-2c11b2b7ed9b",
   "metadata": {},
   "outputs": [
    {
     "data": {
      "image/png": "[encoded data removed]",
      "text/plain": [
       "<Figure size 1296x576 with 4 Axes>"
      ]
     },
     "metadata": {
      "needs_background": "light"
     },
     "output_type": "display_data"
    }
   ],
   "source": [
    "results.plot_diagnostics(figsize=(18, 8))\n",
    "plt.show()"
   ]
  },
  {
   "cell_type": "code",
   "execution_count": 63,
   "id": "cb7f29c0-aee0-4c0a-9d8e-a6c117b1e281",
   "metadata": {},
   "outputs": [
    {
     "ename": "NameError",
     "evalue": "name 'steps' is not defined",
     "output_type": "error",
     "traceback": [
      "\u001b[0;31m---------------------------------------------------------------------------\u001b[0m",
      "\u001b[0;31mNameError\u001b[0m                                 Traceback (most recent call last)",
      "\u001b[0;32m<ipython-input-63-6709b6776276>\u001b[0m in \u001b[0;36m<module>\u001b[0;34m\u001b[0m\n\u001b[0;32m----> 1\u001b[0;31m \u001b[0mpredictions\u001b[0m\u001b[0;34m=\u001b[0m \u001b[0mresults\u001b[0m\u001b[0;34m.\u001b[0m\u001b[0mpredict\u001b[0m\u001b[0;34m(\u001b[0m\u001b[0mstart\u001b[0m \u001b[0;34m=\u001b[0m\u001b[0mtraining_data_len\u001b[0m\u001b[0;34m,\u001b[0m \u001b[0mend\u001b[0m\u001b[0;34m=\u001b[0m\u001b[0mtraining_data_len\u001b[0m\u001b[0;34m+\u001b[0m\u001b[0mlen\u001b[0m\u001b[0;34m(\u001b[0m\u001b[0mtest_data\u001b[0m\u001b[0;34m)\u001b[0m\u001b[0;34m+\u001b[0m\u001b[0;34m(\u001b[0m\u001b[0msteps\u001b[0m\u001b[0;34m)\u001b[0m\u001b[0;34m-\u001b[0m\u001b[0;36m1\u001b[0m\u001b[0;34m)\u001b[0m\u001b[0;34m\u001b[0m\u001b[0;34m\u001b[0m\u001b[0m\n\u001b[0m",
      "\u001b[0;31mNameError\u001b[0m: name 'steps' is not defined"
     ]
    }
   ],
   "source": [
    "predictions= results.predict(start =training_data_len, end=training_data_len+len(test_data)+(steps)-1)"
   ]
  },
  {
   "cell_type": "code",
   "execution_count": null,
   "id": "6cc8cbaa-2459-4468-a15c-6cb0e68f9e04",
   "metadata": {},
   "outputs": [],
   "source": [
    "pred = results.get_prediction(start=pd.to_datetime('2020-01-03'), dynamic=False)\n",
    "pred_conf = pred.conf_int()"
   ]
  },
  {
   "cell_type": "code",
   "execution_count": null,
   "id": "cbac6e9d-2cf0-427d-8004-e2a047602f3b",
   "metadata": {},
   "outputs": [],
   "source": [
    "pred_conf"
   ]
  },
  {
   "cell_type": "code",
   "execution_count": null,
   "id": "c9a071c4-500c-42fb-a23d-0ef085e8c769",
   "metadata": {},
   "outputs": [],
   "source": [
    "pred.predicted_mean.shape"
   ]
  },
  {
   "cell_type": "code",
   "execution_count": null,
   "id": "e10a7d84-dbc9-4324-b894-0ff8bf98a037",
   "metadata": {},
   "outputs": [],
   "source": [
    "# Plot real vs predicted values along with confidence interval\n",
    "\n",
    "# Plot observed values\n",
    "ax = data['2020-01-03':].plot(label='observed')\n",
    "\n",
    "# Plot predicted values\n",
    "pred.predicted_mean.plot(ax=ax, label='One-step ahead Forecast', alpha=0.9)\n",
    "\n",
    "# Plot the range for confidence intervals\n",
    "ax.fill_between(pred_conf.index,\n",
    "                pred_conf.iloc[:, 0],\n",
    "                pred_conf.iloc[:, 1], color='g', alpha=0.5)\n",
    "\n",
    "# Set axes labels\n",
    "ax.set_xlabel('Date')\n",
    "ax.set_ylabel('Price')\n",
    "plt.legend()\n",
    "\n",
    "plt.show()"
   ]
  },
  {
   "cell_type": "code",
   "execution_count": null,
   "id": "324d5ecb-63ba-4d2f-b8e4-e93048d14325",
   "metadata": {},
   "outputs": [],
   "source": [
    "# Get the real and predicted values\n",
    "forecasted = pred.predicted_mean\n",
    "truth = data['2019-01-03':]\n",
    "\n",
    "# Compute the mean square error\n",
    "rmse = sqrt(mean_squared_error(truth,forecasted))\n",
    "print('The Mean Squared Error of our forecasts is {}'.format(round(mse, 2)))"
   ]
  },
  {
   "cell_type": "code",
   "execution_count": null,
   "id": "ddba1153-6d4c-433f-8957-dd765c492caa",
   "metadata": {},
   "outputs": [],
   "source": [
    "# Get dynamic predictions with confidence intervals as above \n",
    "pred_dynamic = output.get_prediction(start=pd.to_datetime('2020-01-03'), dynamic=True, full_results=True)\n",
    "pred_dynamic_conf = pred_dynamic.conf_int()"
   ]
  },
  {
   "cell_type": "code",
   "execution_count": null,
   "id": "d65263ed-eab6-4072-919e-5141562f21e5",
   "metadata": {},
   "outputs": [],
   "source": [
    "# Plot the dynamic forecast with confidence intervals.\n",
    "\n",
    "ax = data['2020-01-03':].plot(label='observed', figsize=(20, 15))\n",
    "pred_dynamic.predicted_mean.plot(label='Dynamic Forecast', ax=ax)\n",
    "\n",
    "ax.fill_between(pred_dynamic_conf.index,\n",
    "                pred_dynamic_conf.iloc[:, 0],\n",
    "                pred_dynamic_conf.iloc[:, 1], color='g', alpha=.3)\n",
    "\n",
    "ax.fill_betweenx(ax.get_ylim(), pd.to_datetime('1998-01-01'), forecasted.index[-1], alpha=.1, zorder=-1)\n",
    "\n",
    "ax.set_xlabel('Date')\n",
    "ax.set_ylabel('Price')\n",
    "\n",
    "plt.legend()\n",
    "plt.show()"
   ]
  },
  {
   "cell_type": "code",
   "execution_count": null,
   "id": "53ae7bf9-1e73-4dac-b176-00f56cf8346d",
   "metadata": {},
   "outputs": [],
   "source": [
    "# Extract the predicted and true values of our time series\n",
    "forecasted_dy = pred_dynamic.predicted_mean\n",
    "truth = data['2020-01-03':]\n",
    "\n",
    "# Compute the mean square error\n",
    "mse = ((forecasted_dy - truth) ** 2).mean()\n",
    "print('The Mean Squared Error of our forecasts is {}'.format(round(mse, 2)))"
   ]
  },
  {
   "cell_type": "code",
   "execution_count": null,
   "id": "7af691a2-35b1-4ea6-be0d-a81d43813913",
   "metadata": {},
   "outputs": [],
   "source": [
    "# Get forecast 500 steps ahead in future\n",
    "prediction = results.get_forecast(steps=500)\n",
    "\n",
    "# Get confidence intervals of forecasts\n",
    "pred_conf = prediction.conf_int()\n"
   ]
  },
  {
   "cell_type": "code",
   "execution_count": null,
   "id": "e8fb0a43-902c-4159-8cd2-22a4658c9616",
   "metadata": {},
   "outputs": [],
   "source": [
    "# Plot future predictions with confidence intervals\n",
    "ax = data.plot(label='observed', figsize=(20, 15))\n",
    "prediction.predicted_mean.plot(ax=ax, label='Forecast')\n",
    "ax.fill_between(pred_conf.index,\n",
    "                pred_conf.iloc[:, 0],\n",
    "                pred_conf.iloc[:, 1], color='k', alpha=0.25)\n",
    "ax.set_xlabel('Date')\n",
    "ax.set_ylabel('Price')\n",
    "\n",
    "plt.legend()\n",
    "plt.show()"
   ]
  }
 ],
 "metadata": {
  "kernelspec": {
   "display_name": "tf_env",
   "language": "python",
   "name": "tf_env"
  },
  "language_info": {
   "codemirror_mode": {
    "name": "ipython",
    "version": 3
   },
   "file_extension": ".py",
   "mimetype": "text/x-python",
   "name": "python",
   "nbconvert_exporter": "python",
   "pygments_lexer": "ipython3",
   "version": "3.8.11"
  }
 },
 "nbformat": 4,
 "nbformat_minor": 5
}
