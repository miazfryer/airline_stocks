{
 "cells": [
  {
   "cell_type": "code",
   "execution_count": 37,
   "id": "0e75f94e-53d4-4d04-9841-a39369dc1ec0",
   "metadata": {},
   "outputs": [],
   "source": [
    "#basic\n",
    "import pandas as pd\n",
    "import numpy as np\n",
    "\n",
    "#plot\n",
    "import matplotlib.pyplot as plt\n",
    "import seaborn as sns\n",
    "sns.set_style('whitegrid')\n",
    "sns.set(rc={'figure.figsize':(16,8)})\n",
    "sns.set(font_scale=1.3)\n",
    "plt.style.use(\"fivethirtyeight\")\n",
    "%matplotlib inline\n",
    "from pandas.plotting import autocorrelation_plot\n",
    "from statsmodels.graphics.tsaplots import plot_acf,plot_pacf\n",
    "\n",
    "# For reading stock data \n",
    "from pandas_datareader.data import DataReader\n",
    "\n",
    "# For time stamps\n",
    "from datetime import datetime\n",
    "\n",
    "import warnings\n",
    "warnings.filterwarnings('ignore')\n",
    "\n",
    "#modeling\n",
    "import itertools\n",
    "from statsmodels.tsa.stattools import adfuller\n",
    "from sklearn.preprocessing import MinMaxScaler\n",
    "from statsmodels.tsa.holtwinters import SimpleExpSmoothing, Holt, ExponentialSmoothing\n",
    "from math import sqrt\n",
    "from sklearn.metrics import mean_squared_error, mean_absolute_error\n",
    "from statsmodels.tsa.statespace.sarimax import SARIMAX\n",
    "from sklearn.model_selection import TimeSeriesSplit\n",
    "\n",
    "np.random.seed(123)"
   ]
  },
  {
   "cell_type": "code",
   "execution_count": 24,
   "id": "89649fb5-b882-48eb-8fe3-45d7b10bf0f4",
   "metadata": {},
   "outputs": [],
   "source": [
    "df = DataReader('AAL', data_source='yahoo', start='2012-01-01', end=datetime.now())"
   ]
  },
  {
   "cell_type": "code",
   "execution_count": 25,
   "id": "9ee62da8-c875-49ed-ac09-25e84d55a2e2",
   "metadata": {},
   "outputs": [],
   "source": [
    "data = df.filter(['Close'])"
   ]
  },
  {
   "cell_type": "code",
   "execution_count": 58,
   "id": "bc296934-8072-41b3-9a57-f2cd93f8d204",
   "metadata": {},
   "outputs": [
    {
     "data": {
      "text/plain": [
       "DatetimeIndex(['2012-01-03', '2012-01-04', '2012-01-05', '2012-01-06',\n",
       "               '2012-01-09', '2012-01-10', '2012-01-11', '2012-01-12',\n",
       "               '2012-01-13', '2012-01-17',\n",
       "               ...\n",
       "               '2021-08-25', '2021-08-26', '2021-08-27', '2021-08-30',\n",
       "               '2021-08-31', '2021-09-01', '2021-09-02', '2021-09-03',\n",
       "               '2021-09-07', '2021-09-08'],\n",
       "              dtype='datetime64[ns]', name='Date', length=2437, freq=None)"
      ]
     },
     "execution_count": 58,
     "metadata": {},
     "output_type": "execute_result"
    }
   ],
   "source": [
    "data.index"
   ]
  },
  {
   "cell_type": "code",
   "execution_count": 26,
   "id": "04fb3917-e174-4b59-8787-6799b8c70485",
   "metadata": {},
   "outputs": [],
   "source": [
    "dataset = data.values"
   ]
  },
  {
   "cell_type": "code",
   "execution_count": 27,
   "id": "faa807bf-0826-487f-af12-8ab1c7206216",
   "metadata": {},
   "outputs": [],
   "source": [
    "scaler = MinMaxScaler(feature_range=(0,1))\n",
    "scaled_data = scaler.fit_transform(dataset)"
   ]
  },
  {
   "cell_type": "code",
   "execution_count": 28,
   "id": "3cf5dba8-3c8c-4616-9410-7003d3708d22",
   "metadata": {},
   "outputs": [],
   "source": [
    "training_data_len = int(np.ceil( len(dataset) * .9 ))\n",
    "train_data = scaled_data[0:int(training_data_len), :]"
   ]
  },
  {
   "cell_type": "code",
   "execution_count": 29,
   "id": "2987ac29-80c4-4f6a-95f2-75509a6cbefd",
   "metadata": {},
   "outputs": [
    {
     "data": {
      "text/plain": [
       "(2194, 1)"
      ]
     },
     "execution_count": 29,
     "metadata": {},
     "output_type": "execute_result"
    }
   ],
   "source": [
    "train_data.shape"
   ]
  },
  {
   "cell_type": "code",
   "execution_count": 30,
   "id": "7944893c-4603-48c5-8f95-51244748a8df",
   "metadata": {},
   "outputs": [],
   "source": [
    "p = d = q = range(0, 2)\n",
    "\n",
    "# Generate all different combinations of p, q and q triplets\n",
    "pdq = list(itertools.product(p, d, q))\n",
    "\n",
    "# Generate all different combinations of seasonal p, q and q triplets for s = 12 (constant)\n",
    "seasonal_pdq = [(x[0], x[1], x[2], 12) for x in list(itertools.product(p, d, q))]\n"
   ]
  },
  {
   "cell_type": "code",
   "execution_count": 32,
   "id": "110e2b9c-360d-49ff-8d07-07fbc22e358f",
   "metadata": {
    "collapsed": true,
    "jupyter": {
     "outputs_hidden": true
    },
    "tags": []
   },
   "outputs": [
    {
     "name": "stdout",
     "output_type": "stream",
     "text": [
      "SARIMAX: (0, 0, 0) x (0, 0, 0, 12)\n",
      "SARIMAX: (0, 0, 0) x (0, 0, 1, 12)\n",
      "SARIMAX: (0, 0, 0) x (0, 1, 0, 12)\n",
      "SARIMAX: (0, 0, 0) x (0, 1, 1, 12)\n",
      "SARIMAX: (0, 0, 0) x (1, 0, 0, 12)\n",
      "SARIMAX: (0, 0, 0) x (1, 0, 1, 12)\n",
      "SARIMAX: (0, 0, 0) x (1, 1, 0, 12)\n",
      "SARIMAX: (0, 0, 0) x (1, 1, 1, 12)\n",
      "SARIMAX: (0, 0, 1) x (0, 0, 0, 12)\n",
      "SARIMAX: (0, 0, 1) x (0, 0, 1, 12)\n",
      "SARIMAX: (0, 0, 1) x (0, 1, 0, 12)\n",
      "SARIMAX: (0, 0, 1) x (0, 1, 1, 12)\n",
      "SARIMAX: (0, 0, 1) x (1, 0, 0, 12)\n",
      "SARIMAX: (0, 0, 1) x (1, 0, 1, 12)\n",
      "SARIMAX: (0, 0, 1) x (1, 1, 0, 12)\n",
      "SARIMAX: (0, 0, 1) x (1, 1, 1, 12)\n",
      "SARIMAX: (0, 1, 0) x (0, 0, 0, 12)\n",
      "SARIMAX: (0, 1, 0) x (0, 0, 1, 12)\n",
      "SARIMAX: (0, 1, 0) x (0, 1, 0, 12)\n",
      "SARIMAX: (0, 1, 0) x (0, 1, 1, 12)\n",
      "SARIMAX: (0, 1, 0) x (1, 0, 0, 12)\n",
      "SARIMAX: (0, 1, 0) x (1, 0, 1, 12)\n",
      "SARIMAX: (0, 1, 0) x (1, 1, 0, 12)\n",
      "SARIMAX: (0, 1, 0) x (1, 1, 1, 12)\n",
      "SARIMAX: (0, 1, 1) x (0, 0, 0, 12)\n",
      "SARIMAX: (0, 1, 1) x (0, 0, 1, 12)\n",
      "SARIMAX: (0, 1, 1) x (0, 1, 0, 12)\n",
      "SARIMAX: (0, 1, 1) x (0, 1, 1, 12)\n",
      "SARIMAX: (0, 1, 1) x (1, 0, 0, 12)\n",
      "SARIMAX: (0, 1, 1) x (1, 0, 1, 12)\n",
      "SARIMAX: (0, 1, 1) x (1, 1, 0, 12)\n",
      "SARIMAX: (0, 1, 1) x (1, 1, 1, 12)\n",
      "SARIMAX: (1, 0, 0) x (0, 0, 0, 12)\n",
      "SARIMAX: (1, 0, 0) x (0, 0, 1, 12)\n",
      "SARIMAX: (1, 0, 0) x (0, 1, 0, 12)\n",
      "SARIMAX: (1, 0, 0) x (0, 1, 1, 12)\n",
      "SARIMAX: (1, 0, 0) x (1, 0, 0, 12)\n",
      "SARIMAX: (1, 0, 0) x (1, 0, 1, 12)\n",
      "SARIMAX: (1, 0, 0) x (1, 1, 0, 12)\n",
      "SARIMAX: (1, 0, 0) x (1, 1, 1, 12)\n",
      "SARIMAX: (1, 0, 1) x (0, 0, 0, 12)\n",
      "SARIMAX: (1, 0, 1) x (0, 0, 1, 12)\n",
      "SARIMAX: (1, 0, 1) x (0, 1, 0, 12)\n",
      "SARIMAX: (1, 0, 1) x (0, 1, 1, 12)\n",
      "SARIMAX: (1, 0, 1) x (1, 0, 0, 12)\n",
      "SARIMAX: (1, 0, 1) x (1, 0, 1, 12)\n",
      "SARIMAX: (1, 0, 1) x (1, 1, 0, 12)\n",
      "SARIMAX: (1, 0, 1) x (1, 1, 1, 12)\n",
      "SARIMAX: (1, 1, 0) x (0, 0, 0, 12)\n",
      "SARIMAX: (1, 1, 0) x (0, 0, 1, 12)\n",
      "SARIMAX: (1, 1, 0) x (0, 1, 0, 12)\n",
      "SARIMAX: (1, 1, 0) x (0, 1, 1, 12)\n",
      "SARIMAX: (1, 1, 0) x (1, 0, 0, 12)\n",
      "SARIMAX: (1, 1, 0) x (1, 0, 1, 12)\n",
      "SARIMAX: (1, 1, 0) x (1, 1, 0, 12)\n",
      "SARIMAX: (1, 1, 0) x (1, 1, 1, 12)\n",
      "SARIMAX: (1, 1, 1) x (0, 0, 0, 12)\n",
      "SARIMAX: (1, 1, 1) x (0, 0, 1, 12)\n",
      "SARIMAX: (1, 1, 1) x (0, 1, 0, 12)\n",
      "SARIMAX: (1, 1, 1) x (0, 1, 1, 12)\n",
      "SARIMAX: (1, 1, 1) x (1, 0, 0, 12)\n",
      "SARIMAX: (1, 1, 1) x (1, 0, 1, 12)\n",
      "SARIMAX: (1, 1, 1) x (1, 1, 0, 12)\n",
      "SARIMAX: (1, 1, 1) x (1, 1, 1, 12)\n"
     ]
    }
   ],
   "source": [
    "for i in pdq:\n",
    "    for s in seasonal_pdq:\n",
    "        print('SARIMAX: {} x {}'.format(i, s))"
   ]
  },
  {
   "cell_type": "code",
   "execution_count": 39,
   "id": "24039a8e-ce14-498b-b613-361945203660",
   "metadata": {},
   "outputs": [
    {
     "name": "stdout",
     "output_type": "stream",
     "text": [
      "ARIMA (0, 0, 0) x (0, 0, 0, 12)12 : AIC Calculated =3799.6161839776787\n",
      "ARIMA (0, 0, 0) x (0, 0, 1, 12)12 : AIC Calculated =1102.1790240162202\n",
      "ARIMA (0, 0, 0) x (0, 1, 0, 12)12 : AIC Calculated =-6355.545522815352\n",
      "ARIMA (0, 0, 0) x (0, 1, 1, 12)12 : AIC Calculated =-6323.89698411943\n",
      "ARIMA (0, 0, 0) x (1, 0, 0, 12)12 : AIC Calculated =-6362.086304412698\n",
      "ARIMA (0, 0, 0) x (1, 0, 1, 12)12 : AIC Calculated =-6364.399854466099\n",
      "ARIMA (0, 0, 0) x (1, 1, 0, 12)12 : AIC Calculated =-6325.677422060362\n",
      "ARIMA (0, 0, 0) x (1, 1, 1, 12)12 : AIC Calculated =-6323.735468639443\n",
      "ARIMA (0, 0, 1) x (0, 0, 0, 12)12 : AIC Calculated =840.8519732342531\n",
      "ARIMA (0, 0, 1) x (0, 0, 1, 12)12 : AIC Calculated =-1756.9689233663235\n",
      "ARIMA (0, 0, 1) x (0, 1, 0, 12)12 : AIC Calculated =-8356.87195697485\n",
      "ARIMA (0, 0, 1) x (0, 1, 1, 12)12 : AIC Calculated =-8363.337633258685\n",
      "ARIMA (0, 0, 1) x (1, 0, 0, 12)12 : AIC Calculated =-8369.870073834361\n",
      "ARIMA (0, 0, 1) x (1, 0, 1, 12)12 : AIC Calculated =-8414.85474480704\n",
      "ARIMA (0, 0, 1) x (1, 1, 0, 12)12 : AIC Calculated =-8360.746728323638\n",
      "ARIMA (0, 0, 1) x (1, 1, 1, 12)12 : AIC Calculated =-8365.429318728782\n",
      "ARIMA (0, 1, 0) x (0, 0, 0, 12)12 : AIC Calculated =-12016.08070332456\n",
      "ARIMA (0, 1, 0) x (0, 0, 1, 12)12 : AIC Calculated =-11937.066735706803\n",
      "ARIMA (0, 1, 0) x (0, 1, 0, 12)12 : AIC Calculated =-10409.069712709945\n",
      "ARIMA (0, 1, 0) x (0, 1, 1, 12)12 : AIC Calculated =-11810.637384930145\n",
      "ARIMA (0, 1, 0) x (1, 0, 0, 12)12 : AIC Calculated =-11943.52987936853\n",
      "ARIMA (0, 1, 0) x (1, 0, 1, 12)12 : AIC Calculated =-11934.486863429136\n",
      "ARIMA (0, 1, 0) x (1, 1, 0, 12)12 : AIC Calculated =-10963.69854013989\n",
      "ARIMA (0, 1, 0) x (1, 1, 1, 12)12 : AIC Calculated =-11800.142018136172\n",
      "ARIMA (0, 1, 1) x (0, 0, 0, 12)12 : AIC Calculated =-12018.196949343268\n",
      "ARIMA (0, 1, 1) x (0, 0, 1, 12)12 : AIC Calculated =-11938.80368077669\n",
      "ARIMA (0, 1, 1) x (0, 1, 0, 12)12 : AIC Calculated =-10416.17291821024\n",
      "ARIMA (0, 1, 1) x (0, 1, 1, 12)12 : AIC Calculated =-11812.895511816756\n",
      "ARIMA (0, 1, 1) x (1, 0, 0, 12)12 : AIC Calculated =-11951.697277696227\n",
      "ARIMA (0, 1, 1) x (1, 0, 1, 12)12 : AIC Calculated =-11936.292602935206\n",
      "ARIMA (0, 1, 1) x (1, 1, 0, 12)12 : AIC Calculated =-10973.748646599057\n",
      "ARIMA (0, 1, 1) x (1, 1, 1, 12)12 : AIC Calculated =-11802.808162473528\n",
      "ARIMA (1, 0, 0) x (0, 0, 0, 12)12 : AIC Calculated =-12020.928919258142\n",
      "ARIMA (1, 0, 0) x (0, 0, 1, 12)12 : AIC Calculated =-11941.908012098516\n",
      "ARIMA (1, 0, 0) x (0, 1, 0, 12)12 : AIC Calculated =-10499.34277330372\n",
      "ARIMA (1, 0, 0) x (0, 1, 1, 12)12 : AIC Calculated =-11817.409122609284\n",
      "ARIMA (1, 0, 0) x (1, 0, 0, 12)12 : AIC Calculated =-11941.897311011697\n",
      "ARIMA (1, 0, 0) x (1, 0, 1, 12)12 : AIC Calculated =-11939.936576929349\n",
      "ARIMA (1, 0, 0) x (1, 1, 0, 12)12 : AIC Calculated =-11016.468926750571\n",
      "ARIMA (1, 0, 0) x (1, 1, 1, 12)12 : AIC Calculated =-11806.431626826132\n",
      "ARIMA (1, 0, 1) x (0, 0, 0, 12)12 : AIC Calculated =-12022.832501996923\n",
      "ARIMA (1, 0, 1) x (0, 0, 1, 12)12 : AIC Calculated =-11943.675057205975\n",
      "ARIMA (1, 0, 1) x (0, 1, 0, 12)12 : AIC Calculated =-10522.657608423999\n",
      "ARIMA (1, 0, 1) x (0, 1, 1, 12)12 : AIC Calculated =-11819.797880512078\n",
      "ARIMA (1, 0, 1) x (1, 0, 0, 12)12 : AIC Calculated =-11950.131699447233\n",
      "ARIMA (1, 0, 1) x (1, 0, 1, 12)12 : AIC Calculated =-11941.576597706979\n",
      "ARIMA (1, 0, 1) x (1, 1, 0, 12)12 : AIC Calculated =-11035.47234010182\n",
      "ARIMA (1, 0, 1) x (1, 1, 1, 12)12 : AIC Calculated =-11809.359502979642\n",
      "ARIMA (1, 1, 0) x (0, 0, 0, 12)12 : AIC Calculated =-12024.552491347366\n",
      "ARIMA (1, 1, 0) x (0, 0, 1, 12)12 : AIC Calculated =-11945.403498676988\n",
      "ARIMA (1, 1, 0) x (0, 1, 0, 12)12 : AIC Calculated =-10422.392068195028\n",
      "ARIMA (1, 1, 0) x (0, 1, 1, 12)12 : AIC Calculated =-11818.933003938522\n",
      "ARIMA (1, 1, 0) x (1, 0, 0, 12)12 : AIC Calculated =-11945.38807915205\n",
      "ARIMA (1, 1, 0) x (1, 0, 1, 12)12 : AIC Calculated =-11942.805971423048\n",
      "ARIMA (1, 1, 0) x (1, 1, 0, 12)12 : AIC Calculated =-10968.23559688891\n",
      "ARIMA (1, 1, 0) x (1, 1, 1, 12)12 : AIC Calculated =-11808.675066516502\n",
      "ARIMA (1, 1, 1) x (0, 0, 0, 12)12 : AIC Calculated =-12016.370103675055\n",
      "ARIMA (1, 1, 1) x (0, 0, 1, 12)12 : AIC Calculated =-11936.972887178918\n",
      "ARIMA (1, 1, 1) x (0, 1, 0, 12)12 : AIC Calculated =-10414.850322182276\n",
      "ARIMA (1, 1, 1) x (0, 1, 1, 12)12 : AIC Calculated =-11810.889211728809\n",
      "ARIMA (1, 1, 1) x (1, 0, 0, 12)12 : AIC Calculated =-11943.40009692908\n",
      "ARIMA (1, 1, 1) x (1, 0, 1, 12)12 : AIC Calculated =-11934.465694870058\n",
      "ARIMA (1, 1, 1) x (1, 1, 0, 12)12 : AIC Calculated =-10966.568779096107\n",
      "ARIMA (1, 1, 1) x (1, 1, 1, 12)12 : AIC Calculated =-11800.854441552954\n"
     ]
    }
   ],
   "source": [
    "# Run a grid with pdq and seasonal pdq parameters calculated above and get the best AIC value\n",
    "\n",
    "ans = []\n",
    "for comb in pdq:\n",
    "    for combs in seasonal_pdq:\n",
    "        try:\n",
    "            mod = SARIMAX(train_data,\n",
    "                     order=comb,\n",
    "                     seasonal_order=combs,\n",
    "                     enforce_stationarity=False,\n",
    "                     enforce_invertibility=False)                                    \n",
    "\n",
    "            output = mod.fit()\n",
    "            ans.append([comb, combs, output.aic])\n",
    "            print('ARIMA {} x {}12 : AIC Calculated ={}'.format(comb, combs, output.aic))\n",
    "        except:\n",
    "            continue"
   ]
  },
  {
   "cell_type": "code",
   "execution_count": 40,
   "id": "688a65ee-cb08-470d-83fd-f5883f356c8b",
   "metadata": {},
   "outputs": [
    {
     "data": {
      "text/plain": [
       "pdq         (1, 1, 0)\n",
       "pdqs    (0, 0, 0, 12)\n",
       "aic     -12024.552491\n",
       "Name: 48, dtype: object"
      ]
     },
     "execution_count": 40,
     "metadata": {},
     "output_type": "execute_result"
    }
   ],
   "source": [
    "ans_df = pd.DataFrame(ans, columns=['pdq', 'pdqs', 'aic'])\n",
    "# Find the parameters with minimal AIC value\n",
    "ans_df.loc[ans_df['aic'].idxmin()]\n",
    "#output: pdq=(1, 1, 1) and pdqs= (1, 1, 1, 12)\n"
   ]
  },
  {
   "cell_type": "code",
   "execution_count": null,
   "id": "735a25a1-f6f1-4c6d-a997-f20158d2e1bd",
   "metadata": {},
   "outputs": [],
   "source": []
  },
  {
   "cell_type": "code",
   "execution_count": 42,
   "id": "73a50d19-b2a4-44b7-8038-702516f20890",
   "metadata": {},
   "outputs": [
    {
     "name": "stdout",
     "output_type": "stream",
     "text": [
      "==============================================================================\n",
      "                 coef    std err          z      P>|z|      [0.025      0.975]\n",
      "------------------------------------------------------------------------------\n",
      "ar.L1          0.0691      0.018      3.898      0.000       0.034       0.104\n",
      "sigma2         0.0002   4.64e-06     52.185      0.000       0.000       0.000\n",
      "==============================================================================\n"
     ]
    }
   ],
   "source": [
    "mod = SARIMAX(train_data, order=(1, 1, 0),seasonal_order=(0, 0, 0, 12),enforce_stationarity=False,enforce_invertibility=False)\n",
    "                                                                \n",
    "results = mod.fit()\n",
    "print(results.summary().tables[1])"
   ]
  },
  {
   "cell_type": "code",
   "execution_count": 43,
   "id": "c9e6a8d7-b410-46f2-8c8f-2c11b2b7ed9b",
   "metadata": {},
   "outputs": [
    {
     "data": {
      "image/png": "[encoded data removed]",
      "text/plain": [
       "<Figure size 1296x576 with 4 Axes>"
      ]
     },
     "metadata": {
      "needs_background": "light"
     },
     "output_type": "display_data"
    }
   ],
   "source": [
    "results.plot_diagnostics(figsize=(18, 8))\n",
    "plt.show()"
   ]
  },
  {
   "cell_type": "code",
   "execution_count": 44,
   "id": "1ab3f3e9-4a88-4469-9c9d-5db7b8e6e154",
   "metadata": {},
   "outputs": [
    {
     "ename": "KeyError",
     "evalue": "'The `start` argument could not be matched to a location related to the index of the data.'",
     "output_type": "error",
     "traceback": [
      "\u001b[0;31m---------------------------------------------------------------------------\u001b[0m",
      "\u001b[0;31mAttributeError\u001b[0m                            Traceback (most recent call last)",
      "\u001b[0;32m/opt/anaconda3/envs/tf_env/lib/python3.8/site-packages/statsmodels/tsa/base/tsa_model.py\u001b[0m in \u001b[0;36mget_index_label_loc\u001b[0;34m(key, index, row_labels)\u001b[0m\n\u001b[1;32m    223\u001b[0m             \u001b[0;32mif\u001b[0m \u001b[0;32mnot\u001b[0m \u001b[0misinstance\u001b[0m\u001b[0;34m(\u001b[0m\u001b[0mkey\u001b[0m\u001b[0;34m,\u001b[0m \u001b[0;34m(\u001b[0m\u001b[0mint\u001b[0m\u001b[0;34m,\u001b[0m \u001b[0mnp\u001b[0m\u001b[0;34m.\u001b[0m\u001b[0minteger\u001b[0m\u001b[0;34m)\u001b[0m\u001b[0;34m)\u001b[0m\u001b[0;34m:\u001b[0m\u001b[0;34m\u001b[0m\u001b[0;34m\u001b[0m\u001b[0m\n\u001b[0;32m--> 224\u001b[0;31m                 \u001b[0mloc\u001b[0m \u001b[0;34m=\u001b[0m \u001b[0mrow_labels\u001b[0m\u001b[0;34m.\u001b[0m\u001b[0mget_loc\u001b[0m\u001b[0;34m(\u001b[0m\u001b[0mkey\u001b[0m\u001b[0;34m)\u001b[0m\u001b[0;34m\u001b[0m\u001b[0;34m\u001b[0m\u001b[0m\n\u001b[0m\u001b[1;32m    225\u001b[0m             \u001b[0;32melse\u001b[0m\u001b[0;34m:\u001b[0m\u001b[0;34m\u001b[0m\u001b[0;34m\u001b[0m\u001b[0m\n",
      "\u001b[0;31mAttributeError\u001b[0m: 'NoneType' object has no attribute 'get_loc'",
      "\nDuring handling of the above exception, another exception occurred:\n",
      "\u001b[0;31mKeyError\u001b[0m                                  Traceback (most recent call last)",
      "\u001b[0;32m/opt/anaconda3/envs/tf_env/lib/python3.8/site-packages/statsmodels/tsa/base/tsa_model.py\u001b[0m in \u001b[0;36mget_prediction_index\u001b[0;34m(start, end, nobs, base_index, index, silent, index_none, index_generated, data)\u001b[0m\n\u001b[1;32m    323\u001b[0m     \u001b[0;32mtry\u001b[0m\u001b[0;34m:\u001b[0m\u001b[0;34m\u001b[0m\u001b[0;34m\u001b[0m\u001b[0m\n\u001b[0;32m--> 324\u001b[0;31m         \u001b[0mstart\u001b[0m\u001b[0;34m,\u001b[0m \u001b[0m_\u001b[0m\u001b[0;34m,\u001b[0m \u001b[0mstart_oos\u001b[0m \u001b[0;34m=\u001b[0m \u001b[0mget_index_label_loc\u001b[0m\u001b[0;34m(\u001b[0m\u001b[0mstart\u001b[0m\u001b[0;34m,\u001b[0m \u001b[0mbase_index\u001b[0m\u001b[0;34m,\u001b[0m \u001b[0mdata\u001b[0m\u001b[0;34m.\u001b[0m\u001b[0mrow_labels\u001b[0m\u001b[0;34m)\u001b[0m\u001b[0;34m\u001b[0m\u001b[0;34m\u001b[0m\u001b[0m\n\u001b[0m\u001b[1;32m    325\u001b[0m     \u001b[0;32mexcept\u001b[0m \u001b[0mKeyError\u001b[0m\u001b[0;34m:\u001b[0m\u001b[0;34m\u001b[0m\u001b[0;34m\u001b[0m\u001b[0m\n",
      "\u001b[0;32m/opt/anaconda3/envs/tf_env/lib/python3.8/site-packages/statsmodels/tsa/base/tsa_model.py\u001b[0m in \u001b[0;36mget_index_label_loc\u001b[0;34m(key, index, row_labels)\u001b[0m\n\u001b[1;32m    255\u001b[0m         \u001b[0;32mexcept\u001b[0m\u001b[0;34m:\u001b[0m\u001b[0;34m\u001b[0m\u001b[0;34m\u001b[0m\u001b[0m\n\u001b[0;32m--> 256\u001b[0;31m             \u001b[0;32mraise\u001b[0m \u001b[0me\u001b[0m\u001b[0;34m\u001b[0m\u001b[0;34m\u001b[0m\u001b[0m\n\u001b[0m\u001b[1;32m    257\u001b[0m     \u001b[0;32mreturn\u001b[0m \u001b[0mloc\u001b[0m\u001b[0;34m,\u001b[0m \u001b[0mindex\u001b[0m\u001b[0;34m,\u001b[0m \u001b[0mindex_was_expanded\u001b[0m\u001b[0;34m\u001b[0m\u001b[0;34m\u001b[0m\u001b[0m\n",
      "\u001b[0;32m/opt/anaconda3/envs/tf_env/lib/python3.8/site-packages/statsmodels/tsa/base/tsa_model.py\u001b[0m in \u001b[0;36mget_index_label_loc\u001b[0;34m(key, index, row_labels)\u001b[0m\n\u001b[1;32m    219\u001b[0m     \u001b[0;32mtry\u001b[0m\u001b[0;34m:\u001b[0m\u001b[0;34m\u001b[0m\u001b[0;34m\u001b[0m\u001b[0m\n\u001b[0;32m--> 220\u001b[0;31m         \u001b[0mloc\u001b[0m\u001b[0;34m,\u001b[0m \u001b[0mindex\u001b[0m\u001b[0;34m,\u001b[0m \u001b[0mindex_was_expanded\u001b[0m \u001b[0;34m=\u001b[0m \u001b[0mget_index_loc\u001b[0m\u001b[0;34m(\u001b[0m\u001b[0mkey\u001b[0m\u001b[0;34m,\u001b[0m \u001b[0mindex\u001b[0m\u001b[0;34m)\u001b[0m\u001b[0;34m\u001b[0m\u001b[0;34m\u001b[0m\u001b[0m\n\u001b[0m\u001b[1;32m    221\u001b[0m     \u001b[0;32mexcept\u001b[0m \u001b[0mKeyError\u001b[0m \u001b[0;32mas\u001b[0m \u001b[0me\u001b[0m\u001b[0;34m:\u001b[0m\u001b[0;34m\u001b[0m\u001b[0;34m\u001b[0m\u001b[0m\n",
      "\u001b[0;32m/opt/anaconda3/envs/tf_env/lib/python3.8/site-packages/statsmodels/tsa/base/tsa_model.py\u001b[0m in \u001b[0;36mget_index_loc\u001b[0;34m(key, index)\u001b[0m\n\u001b[1;32m    169\u001b[0m         \u001b[0;32mexcept\u001b[0m \u001b[0;34m(\u001b[0m\u001b[0mIndexError\u001b[0m\u001b[0;34m,\u001b[0m \u001b[0mValueError\u001b[0m\u001b[0;34m)\u001b[0m \u001b[0;32mas\u001b[0m \u001b[0me\u001b[0m\u001b[0;34m:\u001b[0m\u001b[0;34m\u001b[0m\u001b[0;34m\u001b[0m\u001b[0m\n\u001b[0;32m--> 170\u001b[0;31m             \u001b[0;32mraise\u001b[0m \u001b[0mKeyError\u001b[0m\u001b[0;34m(\u001b[0m\u001b[0mstr\u001b[0m\u001b[0;34m(\u001b[0m\u001b[0me\u001b[0m\u001b[0;34m)\u001b[0m\u001b[0;34m)\u001b[0m\u001b[0;34m\u001b[0m\u001b[0;34m\u001b[0m\u001b[0m\n\u001b[0m\u001b[1;32m    171\u001b[0m         \u001b[0mloc\u001b[0m \u001b[0;34m=\u001b[0m \u001b[0mkey\u001b[0m\u001b[0;34m\u001b[0m\u001b[0;34m\u001b[0m\u001b[0m\n",
      "\u001b[0;31mKeyError\u001b[0m: 'only integers, slices (`:`), ellipsis (`...`), numpy.newaxis (`None`) and integer or boolean arrays are valid indices'",
      "\nDuring handling of the above exception, another exception occurred:\n",
      "\u001b[0;31mKeyError\u001b[0m                                  Traceback (most recent call last)",
      "\u001b[0;32m<ipython-input-44-211ef8f39ae0>\u001b[0m in \u001b[0;36m<module>\u001b[0;34m\u001b[0m\n\u001b[1;32m      1\u001b[0m \u001b[0;31m# Get predictions starting from 01-01-1998 and calculate confidence intervals\u001b[0m\u001b[0;34m\u001b[0m\u001b[0;34m\u001b[0m\u001b[0;34m\u001b[0m\u001b[0m\n\u001b[0;32m----> 2\u001b[0;31m \u001b[0mpred\u001b[0m \u001b[0;34m=\u001b[0m \u001b[0mresults\u001b[0m\u001b[0;34m.\u001b[0m\u001b[0mget_prediction\u001b[0m\u001b[0;34m(\u001b[0m\u001b[0mstart\u001b[0m\u001b[0;34m=\u001b[0m\u001b[0mpd\u001b[0m\u001b[0;34m.\u001b[0m\u001b[0mto_datetime\u001b[0m\u001b[0;34m(\u001b[0m\u001b[0;34m'2018-09-08'\u001b[0m\u001b[0;34m)\u001b[0m\u001b[0;34m,\u001b[0m \u001b[0mdynamic\u001b[0m\u001b[0;34m=\u001b[0m\u001b[0;32mFalse\u001b[0m\u001b[0;34m)\u001b[0m\u001b[0;34m\u001b[0m\u001b[0;34m\u001b[0m\u001b[0m\n\u001b[0m\u001b[1;32m      3\u001b[0m \u001b[0;31m# Get confidence intervals of forecasts\u001b[0m\u001b[0;34m\u001b[0m\u001b[0;34m\u001b[0m\u001b[0;34m\u001b[0m\u001b[0m\n\u001b[1;32m      4\u001b[0m \u001b[0mpred_ci\u001b[0m \u001b[0;34m=\u001b[0m \u001b[0mpred\u001b[0m\u001b[0;34m.\u001b[0m\u001b[0mconf_int\u001b[0m\u001b[0;34m(\u001b[0m\u001b[0;34m)\u001b[0m\u001b[0;34m\u001b[0m\u001b[0;34m\u001b[0m\u001b[0m\n\u001b[1;32m      5\u001b[0m \u001b[0;34m\u001b[0m\u001b[0m\n",
      "\u001b[0;32m/opt/anaconda3/envs/tf_env/lib/python3.8/site-packages/statsmodels/tsa/statespace/mlemodel.py\u001b[0m in \u001b[0;36mget_prediction\u001b[0;34m(self, start, end, dynamic, index, exog, extend_model, extend_kwargs, **kwargs)\u001b[0m\n\u001b[1;32m   3284\u001b[0m         \u001b[0;31m# Handle start, end, dynamic\u001b[0m\u001b[0;34m\u001b[0m\u001b[0;34m\u001b[0m\u001b[0;34m\u001b[0m\u001b[0m\n\u001b[1;32m   3285\u001b[0m         start, end, out_of_sample, prediction_index = (\n\u001b[0;32m-> 3286\u001b[0;31m             self.model._get_prediction_index(start, end, index))\n\u001b[0m\u001b[1;32m   3287\u001b[0m \u001b[0;34m\u001b[0m\u001b[0m\n\u001b[1;32m   3288\u001b[0m         \u001b[0;31m# Handle `dynamic`\u001b[0m\u001b[0;34m\u001b[0m\u001b[0;34m\u001b[0m\u001b[0;34m\u001b[0m\u001b[0m\n",
      "\u001b[0;32m/opt/anaconda3/envs/tf_env/lib/python3.8/site-packages/statsmodels/tsa/base/tsa_model.py\u001b[0m in \u001b[0;36m_get_prediction_index\u001b[0;34m(self, start, end, index, silent)\u001b[0m\n\u001b[1;32m    736\u001b[0m         \"\"\"\n\u001b[1;32m    737\u001b[0m         \u001b[0mnobs\u001b[0m \u001b[0;34m=\u001b[0m \u001b[0mlen\u001b[0m\u001b[0;34m(\u001b[0m\u001b[0mself\u001b[0m\u001b[0;34m.\u001b[0m\u001b[0mendog\u001b[0m\u001b[0;34m)\u001b[0m\u001b[0;34m\u001b[0m\u001b[0;34m\u001b[0m\u001b[0m\n\u001b[0;32m--> 738\u001b[0;31m         return get_prediction_index(start,\n\u001b[0m\u001b[1;32m    739\u001b[0m                                     \u001b[0mend\u001b[0m\u001b[0;34m,\u001b[0m\u001b[0;34m\u001b[0m\u001b[0;34m\u001b[0m\u001b[0m\n\u001b[1;32m    740\u001b[0m                                     \u001b[0mnobs\u001b[0m\u001b[0;34m,\u001b[0m\u001b[0;34m\u001b[0m\u001b[0;34m\u001b[0m\u001b[0m\n",
      "\u001b[0;32m/opt/anaconda3/envs/tf_env/lib/python3.8/site-packages/statsmodels/tsa/base/tsa_model.py\u001b[0m in \u001b[0;36mget_prediction_index\u001b[0;34m(start, end, nobs, base_index, index, silent, index_none, index_generated, data)\u001b[0m\n\u001b[1;32m    324\u001b[0m         \u001b[0mstart\u001b[0m\u001b[0;34m,\u001b[0m \u001b[0m_\u001b[0m\u001b[0;34m,\u001b[0m \u001b[0mstart_oos\u001b[0m \u001b[0;34m=\u001b[0m \u001b[0mget_index_label_loc\u001b[0m\u001b[0;34m(\u001b[0m\u001b[0mstart\u001b[0m\u001b[0;34m,\u001b[0m \u001b[0mbase_index\u001b[0m\u001b[0;34m,\u001b[0m \u001b[0mdata\u001b[0m\u001b[0;34m.\u001b[0m\u001b[0mrow_labels\u001b[0m\u001b[0;34m)\u001b[0m\u001b[0;34m\u001b[0m\u001b[0;34m\u001b[0m\u001b[0m\n\u001b[1;32m    325\u001b[0m     \u001b[0;32mexcept\u001b[0m \u001b[0mKeyError\u001b[0m\u001b[0;34m:\u001b[0m\u001b[0;34m\u001b[0m\u001b[0;34m\u001b[0m\u001b[0m\n\u001b[0;32m--> 326\u001b[0;31m         raise KeyError('The `start` argument could not be matched to a'\n\u001b[0m\u001b[1;32m    327\u001b[0m                        ' location related to the index of the data.')\n\u001b[1;32m    328\u001b[0m     \u001b[0;32mif\u001b[0m \u001b[0mend\u001b[0m \u001b[0;32mis\u001b[0m \u001b[0;32mNone\u001b[0m\u001b[0;34m:\u001b[0m\u001b[0;34m\u001b[0m\u001b[0;34m\u001b[0m\u001b[0m\n",
      "\u001b[0;31mKeyError\u001b[0m: 'The `start` argument could not be matched to a location related to the index of the data.'"
     ]
    }
   ],
   "source": [
    "# Get predictions starting from 01-01-1998 and calculate confidence intervals\n",
    "pred = results.get_prediction(start=pd.to_datetime('2018-09-08'), dynamic=False)\n",
    "# Get confidence intervals of forecasts\n",
    "pred_ci = pred.conf_int()\n",
    "\n",
    "ax = y['2015':].plot(label='observed')\n",
    "pred.predicted_mean.plot(ax=ax, label='One-step ahead Forecast', alpha=.7, figsize=(14, 4))\n",
    "ax.fill_between(pred_ci.index,\n",
    "                pred_ci.iloc[:, 0],\n",
    "                pred_ci.iloc[:, 1], color='k', alpha=.2)\n",
    "ax.set_xlabel('Date')\n",
    "ax.set_ylabel('Retail_sold')\n",
    "plt.legend()\n",
    "plt.show()"
   ]
  },
  {
   "cell_type": "code",
   "execution_count": null,
   "id": "ace4d8c5-c018-4701-bd98-a031f4e7993f",
   "metadata": {},
   "outputs": [],
   "source": [
    "# Get the real and predicted values\n",
    "y_forecasted = pred.predicted_mean\n",
    "y_truth = y['2018-06-01':]\n",
    "\n",
    "# Compute the mean square error\n",
    "mse = ((y_forecasted - y_truth) ** 2).mean()\n",
    "print('The Mean Squared Error is {}'.format(round(mse, 2)))\n",
    "print('The Root Mean Squared Error is {}'.format(round(np.sqrt(mse), 2)))\n"
   ]
  },
  {
   "cell_type": "code",
   "execution_count": null,
   "id": "95d18801-5e46-4671-97a5-7bede2b092c7",
   "metadata": {},
   "outputs": [],
   "source": [
    "pred_uc = results.get_forecast(steps=12)\n",
    "pred_ci = pred_uc.conf_int()\n",
    "ax = y.plot(label='observed', figsize=(14, 4))\n",
    "pred_uc.predicted_mean.plot(ax=ax, label='Forecast')\n",
    "ax.fill_between(pred_ci.index,\n",
    "                pred_ci.iloc[:, 0],\n",
    "                pred_ci.iloc[:, 1], color='k', alpha=.25)\n",
    "ax.set_xlabel('Date')\n",
    "ax.set_ylabel('Sales')\n",
    "plt.legend()\n",
    "plt.show()"
   ]
  },
  {
   "cell_type": "code",
   "execution_count": null,
   "id": "fbdc8f3d-794f-4a52-9832-218cd95467a7",
   "metadata": {},
   "outputs": [],
   "source": [
    "y_forecasted = pred.predicted_mean\n",
    "y_forecasted.head(12)"
   ]
  },
  {
   "cell_type": "code",
   "execution_count": null,
   "id": "f072926c-e877-4acc-877c-35c2d35e28d6",
   "metadata": {},
   "outputs": [],
   "source": [
    "y_truth.head(12)"
   ]
  },
  {
   "cell_type": "code",
   "execution_count": null,
   "id": "55bf4cf5-f118-4d48-809f-b0722972c528",
   "metadata": {},
   "outputs": [],
   "source": [
    "pred_ci.head(24)"
   ]
  },
  {
   "cell_type": "code",
   "execution_count": null,
   "id": "866eb16b-b731-4a58-ac6e-60458f192c4e",
   "metadata": {},
   "outputs": [],
   "source": [
    "forecast = pred_uc.predicted_mean\n",
    "forecast.head(12)"
   ]
  },
  {
   "cell_type": "code",
   "execution_count": null,
   "id": "3ce6765a-b05c-4926-a54c-5821d84f872c",
   "metadata": {},
   "outputs": [],
   "source": []
  },
  {
   "cell_type": "code",
   "execution_count": null,
   "id": "d693f74d-1c01-47f4-be5f-96b2a011c1ce",
   "metadata": {},
   "outputs": [],
   "source": [
    "\n"
   ]
  },
  {
   "cell_type": "code",
   "execution_count": null,
   "id": "c5f1e574-9f0f-4779-a9ba-cead084236da",
   "metadata": {},
   "outputs": [],
   "source": [
    "#crossval\n",
    "train_with_ind = train.reset_index()\n",
    "\n",
    "for train_ind, val_ind in split.split(train_with_ind):\n",
    "    sarimax = SARIMAX(endog=train_with_ind.iloc[train_ind, -1],\n",
    "                      order=(1, 1, 1),\n",
    "                     seasonal_order=(0, 1, 1, 52),\n",
    "                     enforce_stationarity=False,\n",
    "                     enforce_invertibility=False).fit()\n",
    "    preds = sarimax.predict(typ='levels', start=val_ind[0], end=val_ind[-1])\n",
    "    true = train_with_ind.iloc[val_ind, -1]\n",
    "    print(np.sqrt(mean_squared_error(true, preds)))\n",
    "\n",
    "\n",
    "y_hat_train = sari_mod.predict(typ='levels')\n",
    "y_hat_test = sari_mod.predict(start=valid.index[0], end=valid.index[-1],typ='levels')\n",
    "\n",
    "fig, ax = plt.subplots()\n",
    "ax.plot(train, label='train')\n",
    "ax.plot(valid, label='test')\n",
    "ax.plot(y_hat_train, label='train_pred')\n",
    "ax.plot(y_hat_test, label='test_pred')\n",
    "plt.legend();\n",
    "\n",
    "fig, ax = plt.subplots()\n",
    "ax.plot(valid, label='true')\n",
    "ax.plot(y_hat_test, label='pred')\n",
    "plt.legend();\n",
    "\n",
    "np.sqrt(mean_squared_error(valid, y_hat_test))"
   ]
  },
  {
   "cell_type": "code",
   "execution_count": null,
   "id": "a1bb3f4a-ce7a-43f3-bf2f-d1b82c58a987",
   "metadata": {},
   "outputs": [],
   "source": [
    "# Plot real vs predicted values along with confidence interval\n",
    "\n",
    "rcParams['figure.figsize'] = 15, 6\n",
    "\n",
    "# Plot observed values\n",
    "ax = CO2['1990':].plot(label='observed')\n",
    "\n",
    "# Plot predicted values\n",
    "pred.predicted_mean.plot(ax=ax, label='One-step ahead Forecast', alpha=0.9)\n",
    "\n",
    "# Plot the range for confidence intervals\n",
    "ax.fill_between(pred_conf.index,\n",
    "                pred_conf.iloc[:, 0],\n",
    "                pred_conf.iloc[:, 1], color='g', alpha=0.5)\n",
    "\n",
    "# Set axes labels\n",
    "ax.set_xlabel('Date')\n",
    "ax.set_ylabel('CO2 Levels')\n",
    "plt.legend()\n",
    "\n",
    "plt.show()"
   ]
  },
  {
   "cell_type": "code",
   "execution_count": null,
   "id": "9db435b0-9cb1-4c0a-b5d5-c8f5b5f28c8d",
   "metadata": {},
   "outputs": [],
   "source": [
    "# Get dynamic predictions with confidence intervals as above \n",
    "#In this case, we only use information from the time series up to a certain point, and after that, \n",
    "#forecasts are generated using values from previous forecasted time points.\n",
    "\n",
    "pred_dynamic = output.get_prediction(start=pd.to_datetime('1998-01-01'), dynamic=True, full_results=True)\n",
    "pred_dynamic_conf = pred_dynamic.conf_int()\n",
    "\n",
    "# Extract the predicted and true values of our time series\n",
    "CO2_forecasted = pred_dynamic.predicted_mean\n",
    "CO2_truth = CO2['1998-01-01':]\n",
    "\n",
    "# Compute the mean square error\n",
    "mse = ((CO2_forecasted - CO2_truth) ** 2).mean()\n",
    "print('The Mean Squared Error of our forecasts is {}'.format(round(mse, 2)))"
   ]
  },
  {
   "cell_type": "code",
   "execution_count": null,
   "id": "21ba0e1f-2ef6-4625-bf95-43e94ac7f5d3",
   "metadata": {},
   "outputs": [],
   "source": [
    "# Plot the dynamic forecast with confidence intervals.\n",
    "\n",
    "ax = CO2['1990':].plot(label='observed', figsize=(20, 15))\n",
    "pred_dynamic.predicted_mean.plot(label='Dynamic Forecast', ax=ax)\n",
    "\n",
    "ax.fill_between(pred_dynamic_conf.index,\n",
    "                pred_dynamic_conf.iloc[:, 0],\n",
    "                pred_dynamic_conf.iloc[:, 1], color='g', alpha=.3)\n",
    "\n",
    "ax.fill_betweenx(ax.get_ylim(), pd.to_datetime('1998-01-01'), CO2_forecasted.index[-1], alpha=.1, zorder=-1)\n",
    "\n",
    "ax.set_xlabel('Date')\n",
    "ax.set_ylabel('CO2 Levels')\n",
    "\n",
    "plt.legend()\n",
    "plt.show()"
   ]
  },
  {
   "cell_type": "code",
   "execution_count": null,
   "id": "64721915-6a74-41e3-9385-258f13dc8ac4",
   "metadata": {
    "tags": []
   },
   "outputs": [],
   "source": [
    "# Get forecast 500 steps ahead in future\n",
    "prediction = output.get_forecast(steps=500)\n",
    "pred_conf = prediction.conf_int()\n",
    "\n",
    "ax = CO2.plot(label='observed', figsize=(20, 15))\n",
    "prediction.predicted_mean.plot(ax=ax, label='Forecast')\n",
    "ax.fill_between(pred_conf.index,\n",
    "                pred_conf.iloc[:, 0],\n",
    "                pred_conf.iloc[:, 1], color='k', alpha=0.25)\n",
    "ax.set_xlabel('Date')\n",
    "ax.set_ylabel('CO2 Levels')\n",
    "\n",
    "plt.legend()\n",
    "plt.show()"
   ]
  },
  {
   "cell_type": "code",
   "execution_count": null,
   "id": "1e641003-821c-4d26-9a88-80f601b2d2d5",
   "metadata": {},
   "outputs": [],
   "source": [
    "forecast = sari_mod.forecast(steps=52)\n",
    "\n",
    "fig, ax = plt.subplots()\n",
    "ax.plot(ts_weekly, label='so_far')\n",
    "ax.plot(forecast, label='forecast')\n",
    "ax.set_title('Chicago Gun Crime Predictions\\n One Year out')\n",
    "\n",
    "plt.legend();"
   ]
  },
  {
   "cell_type": "code",
   "execution_count": null,
   "id": "aebe7d1d-f546-4696-803b-a40dfef34aff",
   "metadata": {},
   "outputs": [],
   "source": []
  },
  {
   "cell_type": "code",
   "execution_count": null,
   "id": "e51f6a6b-5b9b-47cb-aed7-d0c698e92bed",
   "metadata": {},
   "outputs": [],
   "source": []
  },
  {
   "cell_type": "code",
   "execution_count": null,
   "id": "8936c99e-0180-4e31-af5f-df535f200eef",
   "metadata": {},
   "outputs": [],
   "source": []
  },
  {
   "cell_type": "code",
   "execution_count": null,
   "id": "76cff2ff-d5dc-492a-9f61-e83daf373306",
   "metadata": {},
   "outputs": [],
   "source": []
  },
  {
   "cell_type": "code",
   "execution_count": null,
   "id": "c511a83b-55c6-4990-a1a2-d61ee4587a98",
   "metadata": {},
   "outputs": [],
   "source": []
  },
  {
   "cell_type": "code",
   "execution_count": null,
   "id": "a5c0d63a-ee27-48b8-832e-b62e2b4fd04c",
   "metadata": {},
   "outputs": [],
   "source": []
  },
  {
   "cell_type": "code",
   "execution_count": null,
   "id": "f89c11ef-24cf-41dc-9549-047c34be5a0f",
   "metadata": {},
   "outputs": [],
   "source": []
  },
  {
   "cell_type": "code",
   "execution_count": null,
   "id": "7608fb8c-130b-4e27-95c6-fbf00e39789d",
   "metadata": {},
   "outputs": [],
   "source": []
  },
  {
   "cell_type": "code",
   "execution_count": null,
   "id": "7c3d5e54-419c-4e4a-b314-531a7a7eb1dc",
   "metadata": {},
   "outputs": [],
   "source": []
  },
  {
   "cell_type": "code",
   "execution_count": null,
   "id": "bd3999bc-83ef-4f56-9f78-16d298a29899",
   "metadata": {},
   "outputs": [],
   "source": []
  },
  {
   "cell_type": "code",
   "execution_count": null,
   "id": "b5118324-9c2b-4927-a789-dced3f2a3a03",
   "metadata": {},
   "outputs": [],
   "source": []
  },
  {
   "cell_type": "code",
   "execution_count": null,
   "id": "bb56530e-9159-453a-9b43-5c1188764a5f",
   "metadata": {},
   "outputs": [],
   "source": []
  },
  {
   "cell_type": "code",
   "execution_count": null,
   "id": "b84d1828-40c7-4ec5-b154-66df124192da",
   "metadata": {},
   "outputs": [],
   "source": []
  },
  {
   "cell_type": "code",
   "execution_count": null,
   "id": "44288aed-d37d-4631-9324-2c1c49fa1c37",
   "metadata": {},
   "outputs": [],
   "source": [
    "\n",
    "sarima_model = SARIMAX(train_data, order=(0, 1, 2), seasonal_order=(0, 1, 2, 12), enforce_invertibility=False, enforce_stationarity=False)\n",
    "sarima_fit = sarima_model.fit()\n",
    "\n",
    "sarima_pred = sarima_fit.get_prediction(\"1974-01\", \"1975-12\")\n",
    "predicted_means = p.predicted_mean + df.data.iloc[-36:-1].rolling(12).mean().dropna().values\n",
    "predicted_intervals = p.conf_int(alpha=0.05)\n",
    "lower_bounds = predicted_intervals['lower station'] + df.data.iloc[-36:-1].rolling(12).mean().dropna().values\n",
    "upper_bounds = predicted_intervals['upper station'] + df.data.iloc[-36:-1].rolling(12).mean().dropna().values\n",
    "\n",
    "sarima_rmse = np.sqrt(np.mean(np.square(test_st.values - p.predicted_mean.values)))\n",
    "\n",
    "fig, ax = plt.subplots(figsize=(12, 4))\n",
    "ax.plot(df.data.index[100:-24], df.data.values[100:-24]);\n",
    "ax.plot(test_st.index, test_st.values + df.data.iloc[-36:-1].rolling(12).mean().dropna().values, label='truth');\n",
    "ax.plot(test_st.index, predicted_means, color='#ff7823', linestyle='--', label=\"prediction (RMSE={:0.2f})\".format(sarima_rmse));\n",
    "ax.fill_between(test_st.index, lower_bounds, upper_bounds, color='#ff7823', alpha=0.3, label=\"confidence interval (95%)\");\n",
    "ax.legend();\n",
    "ax.set_title(\"SARIMA\");"
   ]
  },
  {
   "cell_type": "code",
   "execution_count": null,
   "id": "4a2fc2ea-2d8f-4704-b71e-7953739d8120",
   "metadata": {},
   "outputs": [],
   "source": [
    "\n",
    "def sarima_grid_search(y,seasonal_period):\n",
    "    p = d = q = range(0, 2)\n",
    "    pdq = list(itertools.product(p, d, q))\n",
    "    seasonal_pdq = [(x[0], x[1], x[2],seasonal_period) for x in list(itertools.product(p, d, q))]\n",
    "    \n",
    "    mini = float('+inf')\n",
    "    \n",
    "    \n",
    "    for param in pdq:\n",
    "        for param_seasonal in seasonal_pdq:\n",
    "            try:\n",
    "                mod = sm.tsa.statespace.SARIMAX(y,\n",
    "                                                order=param,\n",
    "                                                seasonal_order=param_seasonal,\n",
    "                                                enforce_stationarity=False,\n",
    "                                                enforce_invertibility=False)\n",
    "\n",
    "                results = mod.fit()\n",
    "                \n",
    "                if results.aic < mini:\n",
    "                    mini = results.aic\n",
    "                    param_mini = param\n",
    "                    param_seasonal_mini = param_seasonal\n",
    "\n",
    "#                 print('SARIMA{}x{} - AIC:{}'.format(param, param_seasonal, results.aic))\n",
    "            except:\n",
    "                continue\n",
    "    print('The set of parameters with the minimum AIC is: SARIMA{}x{} - AIC:{}'.format(param_mini, param_seasonal_mini, mini))"
   ]
  },
  {
   "cell_type": "code",
   "execution_count": null,
   "id": "9cc8a138-2070-4869-a80f-cdd45603b9da",
   "metadata": {},
   "outputs": [],
   "source": [
    "sarima_grid_search(y,12)"
   ]
  },
  {
   "cell_type": "code",
   "execution_count": null,
   "id": "0086b032-67d3-4775-afa6-56fb72c230f9",
   "metadata": {},
   "outputs": [],
   "source": [
    "# Call this function after pick the right(p,d,q) for SARIMA based on AIC               \n",
    "def sarima_eva(y,order,seasonal_order,seasonal_period,pred_date,y_to_test):\n",
    "    # fit the model \n",
    "    mod = sm.tsa.statespace.SARIMAX(y,\n",
    "                                order=order,\n",
    "                                seasonal_order=seasonal_order,\n",
    "                                enforce_stationarity=False,\n",
    "                                enforce_invertibility=False)\n",
    "\n",
    "    results = mod.fit()\n",
    "    print(results.summary().tables[1])\n",
    "    \n",
    "    results.plot_diagnostics(figsize=(16, 8))\n",
    "    plt.show()\n",
    "    \n",
    "    # The dynamic=False argument ensures that we produce one-step ahead forecasts, \n",
    "    # meaning that forecasts at each point are generated using the full history up to that point.\n",
    "    pred = results.get_prediction(start=pd.to_datetime(pred_date), dynamic=False)\n",
    "    pred_ci = pred.conf_int()\n",
    "    y_forecasted = pred.predicted_mean\n",
    "    mse = ((y_forecasted - y_to_test) ** 2).mean()\n",
    "    print('The Root Mean Squared Error of SARIMA with season_length={} and dynamic = False {}'.format(seasonal_period,round(np.sqrt(mse), 2)))\n",
    "\n",
    "    ax = y.plot(label='observed')\n",
    "    y_forecasted.plot(ax=ax, label='One-step ahead Forecast', alpha=.7, figsize=(14, 7))\n",
    "    ax.fill_between(pred_ci.index,\n",
    "                    pred_ci.iloc[:, 0],\n",
    "                    pred_ci.iloc[:, 1], color='k', alpha=.2)\n",
    "\n",
    "    ax.set_xlabel('Date')\n",
    "    ax.set_ylabel('Sessions')\n",
    "    plt.legend()\n",
    "    plt.show()\n",
    "\n",
    "    # A better representation of our true predictive power can be obtained using dynamic forecasts. \n",
    "    # In this case, we only use information from the time series up to a certain point, \n",
    "    # and after that, forecasts are generated using values from previous forecasted time points.\n",
    "    pred_dynamic = results.get_prediction(start=pd.to_datetime(pred_date), dynamic=True, full_results=True)\n",
    "    pred_dynamic_ci = pred_dynamic.conf_int()\n",
    "    y_forecasted_dynamic = pred_dynamic.predicted_mean\n",
    "    mse_dynamic = ((y_forecasted_dynamic - y_to_test) ** 2).mean()\n",
    "    print('The Root Mean Squared Error of SARIMA with season_length={} and dynamic = True {}'.format(seasonal_period,round(np.sqrt(mse_dynamic), 2)))\n",
    "\n",
    "    ax = y.plot(label='observed')\n",
    "    y_forecasted_dynamic.plot(label='Dynamic Forecast', ax=ax,figsize=(14, 7))\n",
    "    ax.fill_between(pred_dynamic_ci.index,\n",
    "                    pred_dynamic_ci.iloc[:, 0],\n",
    "                    pred_dynamic_ci.iloc[:, 1], color='k', alpha=.2)\n",
    "\n",
    "    ax.set_xlabel('Date')\n",
    "    ax.set_ylabel('Sessions')\n",
    "\n",
    "    plt.legend()\n",
    "    plt.show()\n",
    "    \n",
    "    return (results)"
   ]
  },
  {
   "cell_type": "code",
   "execution_count": null,
   "id": "68334675-89e5-4678-bccc-9fe22124c022",
   "metadata": {},
   "outputs": [],
   "source": [
    "model = sarima_eva(y,(1, 1, 1),(1, 1, 0, 52),52,'2019-06-02',y_to_val)"
   ]
  },
  {
   "cell_type": "code",
   "execution_count": null,
   "id": "1cfeebb0-6551-4fce-8416-3638aaa34ea6",
   "metadata": {},
   "outputs": [],
   "source": [
    "def forecast(model,predict_steps,y):\n",
    "    \n",
    "    pred_uc = model.get_forecast(steps=predict_steps)\n",
    "\n",
    "    #SARIMAXResults.conf_int, can change alpha,the default alpha = .05 returns a 95% confidence interval.\n",
    "    pred_ci = pred_uc.conf_int()\n",
    "\n",
    "    ax = y.plot(label='observed', figsize=(14, 7))\n",
    "#     print(pred_uc.predicted_mean)\n",
    "    pred_uc.predicted_mean.plot(ax=ax, label='Forecast')\n",
    "    ax.fill_between(pred_ci.index,\n",
    "                    pred_ci.iloc[:, 0],\n",
    "                    pred_ci.iloc[:, 1], color='k', alpha=.25)\n",
    "    ax.set_xlabel('Date')\n",
    "    ax.set_ylabel(y.name)\n",
    "\n",
    "    plt.legend()\n",
    "    plt.show()\n",
    "    \n",
    "    # Produce the forcasted tables \n",
    "    pm = pred_uc.predicted_mean.reset_index()\n",
    "    pm.columns = ['Date','Predicted_Mean']\n",
    "    pci = pred_ci.reset_index()\n",
    "    pci.columns = ['Date','Lower Bound','Upper Bound']\n",
    "    final_table = pm.join(pci.set_index('Date'), on='Date')\n",
    "    \n",
    "    return (final_table)"
   ]
  },
  {
   "cell_type": "code",
   "execution_count": null,
   "id": "f688eb84-bf2b-41c0-ac10-9e7e03575252",
   "metadata": {},
   "outputs": [],
   "source": [
    "final_table = forecast(model,52,y)\n",
    "final_table.head()"
   ]
  }
 ],
 "metadata": {
  "kernelspec": {
   "display_name": "tf_env",
   "language": "python",
   "name": "tf_env"
  },
  "language_info": {
   "codemirror_mode": {
    "name": "ipython",
    "version": 3
   },
   "file_extension": ".py",
   "mimetype": "text/x-python",
   "name": "python",
   "nbconvert_exporter": "python",
   "pygments_lexer": "ipython3",
   "version": "3.8.11"
  }
 },
 "nbformat": 4,
 "nbformat_minor": 5
}
