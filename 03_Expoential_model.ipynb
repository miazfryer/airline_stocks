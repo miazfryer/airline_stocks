{
 "cells": [
  {
   "cell_type": "markdown",
   "id": "de875327-5441-46f2-9203-094b11ae6ecb",
   "metadata": {},
   "source": [
    "## Exponentail Smoothing"
   ]
  },
  {
   "cell_type": "markdown",
   "id": "c9309cad-4f0d-40f7-833f-2dbf72b893fd",
   "metadata": {},
   "source": [
    "* Double Exponential Smoothing\n",
    "1. Additive Trend: Double Exponential Smoothing with a linear trend.\n",
    "Additive Dampening: Dampen a trend linearly.\n",
    "\n",
    "2. Multiplicative Trend: Double Exponential Smoothing with an exponential trend.\n",
    "Multiplicative Dampening: Dampen the trend exponentially.\n",
    "\n",
    "* Triple Exponential Smoothing\n",
    "1. Additive Seasonality: Triple Exponential Smoothing with a linear seasonality.\n",
    "2. Multiplicative Seasonality: Triple Exponential Smoothing with an exponential seasonality.\n",
    "    \n",
    "* smoothing_level (alpha): Smoothing factor for the level.\n",
    "* smoothing_slope (beta): Smoothing factor for the trend.\n",
    "* smoothing_seasonal (gamma): the smoothing coefficient for the seasonal component.\n",
    "* Trend Type: Additive or multiplicative.\n",
    "* Dampen Type: Additive or multiplicative.\n",
    "* damping_slope (phi): the coefficient for the damped trend.\n",
    "* Seasonality Type: Additive or multiplicative.\n",
    "* Period: Time steps in seasonal period.\n",
    "* use_boxcox: Whether or not to perform a power transform of the series (True/False) or specify the lambda for the transform."
   ]
  },
  {
   "cell_type": "code",
   "execution_count": 1,
   "id": "15a76aa3-cc24-4cd1-93da-e05b08c1e758",
   "metadata": {},
   "outputs": [],
   "source": [
    "#basic\n",
    "import pandas as pd\n",
    "import numpy as np\n",
    "\n",
    "#plot\n",
    "import matplotlib.pyplot as plt\n",
    "import seaborn as sns\n",
    "sns.set_style('whitegrid')\n",
    "plt.style.use(\"fivethirtyeight\")\n",
    "%matplotlib inline\n",
    "\n",
    "# For reading stock data \n",
    "from pandas_datareader.data import DataReader\n",
    "\n",
    "# For time stamps\n",
    "from datetime import datetime\n",
    "\n",
    "import warnings\n",
    "warnings.filterwarnings('ignore')\n",
    "\n",
    "#modeling\n",
    "from statsmodels.tsa.holtwinters import SimpleExpSmoothing, Holt, ExponentialSmoothing\n",
    "from math import sqrt\n",
    "from sklearn.metrics import mean_squared_error\n"
   ]
  },
  {
   "cell_type": "code",
   "execution_count": 2,
   "id": "8b340fcc-5954-4737-860b-d354f7c600f9",
   "metadata": {},
   "outputs": [],
   "source": [
    "df = DataReader('AAL', data_source='yahoo', start='2021-3-01', end=datetime.now())"
   ]
  },
  {
   "cell_type": "code",
   "execution_count": 3,
   "id": "8c4c8528-0c88-4c89-9110-036c15bcf0e9",
   "metadata": {},
   "outputs": [],
   "source": [
    "df = df.resample(\"D\").sum()"
   ]
  },
  {
   "cell_type": "code",
   "execution_count": 4,
   "id": "138f9a53-e029-431e-b021-eb80c9276466",
   "metadata": {},
   "outputs": [],
   "source": [
    "data = df.filter(['Close'])"
   ]
  },
  {
   "cell_type": "code",
   "execution_count": 5,
   "id": "ae12edbb-8d0d-4e54-9bf4-afbdd4c4c1e4",
   "metadata": {},
   "outputs": [],
   "source": [
    "training_data_len = int(np.ceil( len(data) * .9 ))\n",
    "train = data[0:int(training_data_len)]\n",
    "test = data[int(training_data_len):]"
   ]
  },
  {
   "cell_type": "code",
   "execution_count": 6,
   "id": "202767a8-a2db-4cbe-ae59-f2221b2807ae",
   "metadata": {},
   "outputs": [
    {
     "data": {
      "text/plain": [
       "174"
      ]
     },
     "execution_count": 6,
     "metadata": {},
     "output_type": "execute_result"
    }
   ],
   "source": [
    "training_data_len"
   ]
  },
  {
   "cell_type": "code",
   "execution_count": 7,
   "id": "40233dbe-854d-449c-884d-c95472e6b406",
   "metadata": {},
   "outputs": [
    {
     "data": {
      "text/plain": [
       "(174, 1)"
      ]
     },
     "execution_count": 7,
     "metadata": {},
     "output_type": "execute_result"
    }
   ],
   "source": [
    "train.shape"
   ]
  },
  {
   "cell_type": "code",
   "execution_count": 8,
   "id": "49fb0089-19e3-4fc4-8210-21b9d49dc965",
   "metadata": {},
   "outputs": [
    {
     "data": {
      "text/plain": [
       "(19, 1)"
      ]
     },
     "execution_count": 8,
     "metadata": {},
     "output_type": "execute_result"
    }
   ],
   "source": [
    "test.shape"
   ]
  },
  {
   "cell_type": "markdown",
   "id": "40fb8117-56cd-4cb2-9527-86b3b0e3a0f8",
   "metadata": {},
   "source": [
    "### Simple Exponential Smoothing\n",
    "\n",
    "* Few data points, Irregular data, No seasonality or trend."
   ]
  },
  {
   "cell_type": "code",
   "execution_count": 9,
   "id": "01396802-3c80-4180-94d1-12f236b592b9",
   "metadata": {},
   "outputs": [
    {
     "ename": "ValueError",
     "evalue": "x and y must have same first dimension, but have shapes (19,) and (18,)",
     "output_type": "error",
     "traceback": [
      "\u001b[0;31m---------------------------------------------------------------------------\u001b[0m",
      "\u001b[0;31mValueError\u001b[0m                                Traceback (most recent call last)",
      "\u001b[0;32m<ipython-input-9-ddfa1e76dedb>\u001b[0m in \u001b[0;36m<module>\u001b[0;34m\u001b[0m\n\u001b[1;32m     21\u001b[0m \u001b[0;32mfor\u001b[0m \u001b[0mp\u001b[0m\u001b[0;34m,\u001b[0m \u001b[0mf\u001b[0m\u001b[0;34m,\u001b[0m \u001b[0mc\u001b[0m \u001b[0;32min\u001b[0m \u001b[0mzip\u001b[0m\u001b[0;34m(\u001b[0m\u001b[0;34m(\u001b[0m\u001b[0mpred1\u001b[0m\u001b[0;34m,\u001b[0m \u001b[0mpred2\u001b[0m\u001b[0;34m,\u001b[0m \u001b[0mpred3\u001b[0m\u001b[0;34m)\u001b[0m\u001b[0;34m,\u001b[0m\u001b[0;34m(\u001b[0m\u001b[0mfit1\u001b[0m\u001b[0;34m,\u001b[0m \u001b[0mfit2\u001b[0m\u001b[0;34m,\u001b[0m \u001b[0mfit3\u001b[0m\u001b[0;34m)\u001b[0m\u001b[0;34m,\u001b[0m\u001b[0;34m(\u001b[0m\u001b[0;34m'#ff7823'\u001b[0m\u001b[0;34m,\u001b[0m\u001b[0;34m'#3c763d'\u001b[0m\u001b[0;34m,\u001b[0m\u001b[0;34m'c'\u001b[0m\u001b[0;34m)\u001b[0m\u001b[0;34m)\u001b[0m\u001b[0;34m:\u001b[0m\u001b[0;34m\u001b[0m\u001b[0;34m\u001b[0m\u001b[0m\n\u001b[1;32m     22\u001b[0m     \u001b[0max\u001b[0m\u001b[0;34m.\u001b[0m\u001b[0mplot\u001b[0m\u001b[0;34m(\u001b[0m\u001b[0mtrain\u001b[0m\u001b[0;34m.\u001b[0m\u001b[0mindex\u001b[0m\u001b[0;34m[\u001b[0m\u001b[0;36m150\u001b[0m\u001b[0;34m:\u001b[0m\u001b[0;34m]\u001b[0m\u001b[0;34m,\u001b[0m \u001b[0mf\u001b[0m\u001b[0;34m.\u001b[0m\u001b[0mfittedvalues\u001b[0m\u001b[0;34m[\u001b[0m\u001b[0;36m150\u001b[0m\u001b[0;34m:\u001b[0m\u001b[0;34m]\u001b[0m\u001b[0;34m,\u001b[0m \u001b[0mcolor\u001b[0m\u001b[0;34m=\u001b[0m\u001b[0mc\u001b[0m\u001b[0;34m)\u001b[0m\u001b[0;34m\u001b[0m\u001b[0;34m\u001b[0m\u001b[0m\n\u001b[0;32m---> 23\u001b[0;31m     \u001b[0max\u001b[0m\u001b[0;34m.\u001b[0m\u001b[0mplot\u001b[0m\u001b[0;34m(\u001b[0m\u001b[0mtest\u001b[0m\u001b[0;34m.\u001b[0m\u001b[0mindex\u001b[0m\u001b[0;34m,\u001b[0m \u001b[0mp\u001b[0m\u001b[0;34m,\u001b[0m \u001b[0mlabel\u001b[0m\u001b[0;34m=\u001b[0m\u001b[0;34m\"alpha=\"\u001b[0m\u001b[0;34m+\u001b[0m\u001b[0mstr\u001b[0m\u001b[0;34m(\u001b[0m\u001b[0mf\u001b[0m\u001b[0;34m.\u001b[0m\u001b[0mparams\u001b[0m\u001b[0;34m[\u001b[0m\u001b[0;34m'smoothing_level'\u001b[0m\u001b[0;34m]\u001b[0m\u001b[0;34m)\u001b[0m\u001b[0;34m[\u001b[0m\u001b[0;34m:\u001b[0m\u001b[0;36m3\u001b[0m\u001b[0;34m]\u001b[0m\u001b[0;34m,\u001b[0m \u001b[0mcolor\u001b[0m\u001b[0;34m=\u001b[0m\u001b[0mc\u001b[0m\u001b[0;34m)\u001b[0m\u001b[0;34m\u001b[0m\u001b[0;34m\u001b[0m\u001b[0m\n\u001b[0m\u001b[1;32m     24\u001b[0m \u001b[0mplt\u001b[0m\u001b[0;34m.\u001b[0m\u001b[0mtitle\u001b[0m\u001b[0;34m(\u001b[0m\u001b[0;34m\"Simple Exponential Smoothing\"\u001b[0m\u001b[0;34m)\u001b[0m\u001b[0;34m\u001b[0m\u001b[0;34m\u001b[0m\u001b[0m\n\u001b[1;32m     25\u001b[0m \u001b[0mplt\u001b[0m\u001b[0;34m.\u001b[0m\u001b[0mlegend\u001b[0m\u001b[0;34m(\u001b[0m\u001b[0;34m)\u001b[0m\u001b[0;34m;\u001b[0m\u001b[0;34m\u001b[0m\u001b[0;34m\u001b[0m\u001b[0m\n",
      "\u001b[0;32m/opt/anaconda3/envs/tf_env/lib/python3.8/site-packages/matplotlib/axes/_axes.py\u001b[0m in \u001b[0;36mplot\u001b[0;34m(self, scalex, scaley, data, *args, **kwargs)\u001b[0m\n\u001b[1;32m   1603\u001b[0m         \"\"\"\n\u001b[1;32m   1604\u001b[0m         \u001b[0mkwargs\u001b[0m \u001b[0;34m=\u001b[0m \u001b[0mcbook\u001b[0m\u001b[0;34m.\u001b[0m\u001b[0mnormalize_kwargs\u001b[0m\u001b[0;34m(\u001b[0m\u001b[0mkwargs\u001b[0m\u001b[0;34m,\u001b[0m \u001b[0mmlines\u001b[0m\u001b[0;34m.\u001b[0m\u001b[0mLine2D\u001b[0m\u001b[0;34m)\u001b[0m\u001b[0;34m\u001b[0m\u001b[0;34m\u001b[0m\u001b[0m\n\u001b[0;32m-> 1605\u001b[0;31m         \u001b[0mlines\u001b[0m \u001b[0;34m=\u001b[0m \u001b[0;34m[\u001b[0m\u001b[0;34m*\u001b[0m\u001b[0mself\u001b[0m\u001b[0;34m.\u001b[0m\u001b[0m_get_lines\u001b[0m\u001b[0;34m(\u001b[0m\u001b[0;34m*\u001b[0m\u001b[0margs\u001b[0m\u001b[0;34m,\u001b[0m \u001b[0mdata\u001b[0m\u001b[0;34m=\u001b[0m\u001b[0mdata\u001b[0m\u001b[0;34m,\u001b[0m \u001b[0;34m**\u001b[0m\u001b[0mkwargs\u001b[0m\u001b[0;34m)\u001b[0m\u001b[0;34m]\u001b[0m\u001b[0;34m\u001b[0m\u001b[0;34m\u001b[0m\u001b[0m\n\u001b[0m\u001b[1;32m   1606\u001b[0m         \u001b[0;32mfor\u001b[0m \u001b[0mline\u001b[0m \u001b[0;32min\u001b[0m \u001b[0mlines\u001b[0m\u001b[0;34m:\u001b[0m\u001b[0;34m\u001b[0m\u001b[0;34m\u001b[0m\u001b[0m\n\u001b[1;32m   1607\u001b[0m             \u001b[0mself\u001b[0m\u001b[0;34m.\u001b[0m\u001b[0madd_line\u001b[0m\u001b[0;34m(\u001b[0m\u001b[0mline\u001b[0m\u001b[0;34m)\u001b[0m\u001b[0;34m\u001b[0m\u001b[0;34m\u001b[0m\u001b[0m\n",
      "\u001b[0;32m/opt/anaconda3/envs/tf_env/lib/python3.8/site-packages/matplotlib/axes/_base.py\u001b[0m in \u001b[0;36m__call__\u001b[0;34m(self, data, *args, **kwargs)\u001b[0m\n\u001b[1;32m    313\u001b[0m                 \u001b[0mthis\u001b[0m \u001b[0;34m+=\u001b[0m \u001b[0margs\u001b[0m\u001b[0;34m[\u001b[0m\u001b[0;36m0\u001b[0m\u001b[0;34m]\u001b[0m\u001b[0;34m,\u001b[0m\u001b[0;34m\u001b[0m\u001b[0;34m\u001b[0m\u001b[0m\n\u001b[1;32m    314\u001b[0m                 \u001b[0margs\u001b[0m \u001b[0;34m=\u001b[0m \u001b[0margs\u001b[0m\u001b[0;34m[\u001b[0m\u001b[0;36m1\u001b[0m\u001b[0;34m:\u001b[0m\u001b[0;34m]\u001b[0m\u001b[0;34m\u001b[0m\u001b[0;34m\u001b[0m\u001b[0m\n\u001b[0;32m--> 315\u001b[0;31m             \u001b[0;32myield\u001b[0m \u001b[0;32mfrom\u001b[0m \u001b[0mself\u001b[0m\u001b[0;34m.\u001b[0m\u001b[0m_plot_args\u001b[0m\u001b[0;34m(\u001b[0m\u001b[0mthis\u001b[0m\u001b[0;34m,\u001b[0m \u001b[0mkwargs\u001b[0m\u001b[0;34m)\u001b[0m\u001b[0;34m\u001b[0m\u001b[0;34m\u001b[0m\u001b[0m\n\u001b[0m\u001b[1;32m    316\u001b[0m \u001b[0;34m\u001b[0m\u001b[0m\n\u001b[1;32m    317\u001b[0m     \u001b[0;32mdef\u001b[0m \u001b[0mget_next_color\u001b[0m\u001b[0;34m(\u001b[0m\u001b[0mself\u001b[0m\u001b[0;34m)\u001b[0m\u001b[0;34m:\u001b[0m\u001b[0;34m\u001b[0m\u001b[0;34m\u001b[0m\u001b[0m\n",
      "\u001b[0;32m/opt/anaconda3/envs/tf_env/lib/python3.8/site-packages/matplotlib/axes/_base.py\u001b[0m in \u001b[0;36m_plot_args\u001b[0;34m(self, tup, kwargs, return_kwargs)\u001b[0m\n\u001b[1;32m    499\u001b[0m \u001b[0;34m\u001b[0m\u001b[0m\n\u001b[1;32m    500\u001b[0m         \u001b[0;32mif\u001b[0m \u001b[0mx\u001b[0m\u001b[0;34m.\u001b[0m\u001b[0mshape\u001b[0m\u001b[0;34m[\u001b[0m\u001b[0;36m0\u001b[0m\u001b[0;34m]\u001b[0m \u001b[0;34m!=\u001b[0m \u001b[0my\u001b[0m\u001b[0;34m.\u001b[0m\u001b[0mshape\u001b[0m\u001b[0;34m[\u001b[0m\u001b[0;36m0\u001b[0m\u001b[0;34m]\u001b[0m\u001b[0;34m:\u001b[0m\u001b[0;34m\u001b[0m\u001b[0;34m\u001b[0m\u001b[0m\n\u001b[0;32m--> 501\u001b[0;31m             raise ValueError(f\"x and y must have same first dimension, but \"\n\u001b[0m\u001b[1;32m    502\u001b[0m                              f\"have shapes {x.shape} and {y.shape}\")\n\u001b[1;32m    503\u001b[0m         \u001b[0;32mif\u001b[0m \u001b[0mx\u001b[0m\u001b[0;34m.\u001b[0m\u001b[0mndim\u001b[0m \u001b[0;34m>\u001b[0m \u001b[0;36m2\u001b[0m \u001b[0;32mor\u001b[0m \u001b[0my\u001b[0m\u001b[0;34m.\u001b[0m\u001b[0mndim\u001b[0m \u001b[0;34m>\u001b[0m \u001b[0;36m2\u001b[0m\u001b[0;34m:\u001b[0m\u001b[0;34m\u001b[0m\u001b[0;34m\u001b[0m\u001b[0m\n",
      "\u001b[0;31mValueError\u001b[0m: x and y must have same first dimension, but have shapes (19,) and (18,)"
     ]
    },
    {
     "data": {
      "image/png": "[encoded data removed]",
      "text/plain": [
       "<Figure size 864x432 with 1 Axes>"
      ]
     },
     "metadata": {
      "needs_background": "light"
     },
     "output_type": "display_data"
    }
   ],
   "source": [
    "train.index = pd.to_datetime(train.index)\n",
    "test.index = pd.to_datetime(test.index)\n",
    "pred = test.copy()\n",
    "\n",
    "model = SimpleExpSmoothing(np.asarray(train['Close']))\n",
    "model._index = pd.to_datetime(train.index)\n",
    "\n",
    "fit1 = model.fit()\n",
    "pred1 = fit1.forecast(18)\n",
    "\n",
    "fit2 = model.fit(smoothing_level=.2)\n",
    "pred2 = fit2.forecast(18)\n",
    "\n",
    "fit3 = model.fit(smoothing_level=.5)\n",
    "pred3 = fit3.forecast(18)\n",
    "\n",
    "fig, ax= plt.subplots(figsize=(12, 6))\n",
    "ax.plot(train.index[150:], train.values[150:])\n",
    "ax.plot(test.index, test.values, color=\"gray\")\n",
    "\n",
    "for p, f, c in zip((pred1, pred2, pred3),(fit1, fit2, fit3),('#ff7823','#3c763d','c')):\n",
    "    ax.plot(train.index[150:], f.fittedvalues[150:], color=c)\n",
    "    ax.plot(test.index, p, label=\"alpha=\"+str(f.params['smoothing_level'])[:3], color=c)\n",
    "plt.title(\"Simple Exponential Smoothing\")    \n",
    "plt.legend();\n"
   ]
  },
  {
   "cell_type": "code",
   "execution_count": null,
   "id": "f4e55306-fac0-405e-be19-551367ffe013",
   "metadata": {},
   "outputs": [],
   "source": [
    "mse1 = ((pred1 - test['Close']) ** 2).mean()\n",
    "mse1"
   ]
  },
  {
   "cell_type": "code",
   "execution_count": null,
   "id": "5a7721b0-1fea-462e-84c1-14f5e4d0c012",
   "metadata": {},
   "outputs": [],
   "source": [
    "mse2 = ((pred2 - test['Close']) ** 2).mean()\n",
    "mse2"
   ]
  },
  {
   "cell_type": "code",
   "execution_count": null,
   "id": "3b674775-8c4e-4f2b-b11b-71d6d90f4388",
   "metadata": {},
   "outputs": [],
   "source": [
    "plt.figure(figsize=(12, 8))\n",
    "plt.plot(train, marker=\"o\", color=\"black\")\n",
    "\n",
    "fit1 = SimpleExpSmoothing(train ,initialization_method=\"heuristic\").fit(smoothing_level=0.2,optimized=False)\n",
    "fcast1 = fit1.forecast(12).rename(r'$\\alpha=0.2$')\n",
    "# plot\n",
    "fcast1.plot(marker='o', color='blue', legend=True)\n",
    "fit1.fittedvalues.plot(marker='o',  color='blue')\n",
    "\n",
    "\n",
    "fit2 = SimpleExpSmoothing(train).fit(smoothing_level=0.6,optimized=False)\n",
    "fcast2 = fit2.forecast(12).rename(r'$\\alpha=0.6$')\n",
    "# plot\n",
    "fcast2.plot(marker='o', color='red', legend=True)\n",
    "fit2.fittedvalues.plot(marker='o', color='red')\n",
    "\n",
    "\n",
    "fit3 = SimpleExpSmoothing(train).fit()\n",
    "fcast3 = fit3.forecast(12).rename(r'$\\alpha=%s$'%fit3.model.params['smoothing_level'])\n",
    "# plot\n",
    "fcast3.plot(marker='o', color='green', legend=True)\n",
    "fit3.fittedvalues.plot(marker='o', color='green')\n",
    "\n",
    "plt.show()"
   ]
  },
  {
   "cell_type": "markdown",
   "id": "9e1e94d9-3f7f-44f8-94aa-69deaf0ee788",
   "metadata": {},
   "source": [
    "### Holt’s\n",
    "\n",
    "* Trend in data, No seasonality.\n",
    "* Data has a trend. Use the multiplicative version, unless the data has been logged before. In this case, use the additive version"
   ]
  },
  {
   "cell_type": "code",
   "execution_count": null,
   "id": "241e32cc-2def-4b76-aebe-fc9a2c60d96e",
   "metadata": {},
   "outputs": [],
   "source": [
    "#Holt's linear smoothing\n",
    "model = Holt(np.asarray(train['Close']))\n",
    "model._index = pd.to_datetime(train.index)\n",
    "\n",
    "fit1 = model.fit(smoothing_level=.3, smoothing_trend=.05)\n",
    "pred1 = fit1.forecast(18)\n",
    "\n",
    "fit2 = model.fit(optimized=True)\n",
    "pred2 = fit2.forecast(18)\n",
    "\n",
    "fit3 = model.fit(smoothing_level=.3, smoothing_trend=.2)\n",
    "pred3 = fit3.forecast(18)\n",
    "\n",
    "with plt.style.context('images/presentation.mplstyle'):\n",
    "    fig, ax = plt.subplots(figsize=(12, 6))\n",
    "    ax.plot(train.index[150:], train.values[150:])\n",
    "    ax.plot(test.index, test.values, color=\"gray\")\n",
    "    for p, f, c in zip((pred1, pred2, pred3),(fit1, fit2, fit3),('#ff7823','#3c763d','c')):\n",
    "        ax.plot(train.index[150:], f.fittedvalues[150:], color=c)\n",
    "        ax.plot(test.index, p, label=\"alpha=\"+str(f.params['smoothing_level'])[:4]+\", beta=\"+str(f.params['smoothing_trend'])[:4], color=c)\n",
    "    plt.title(\"Holt's Exponential Smoothing\")\n",
    "    plt.legend();\n",
    "\n",
    "#plt.savefig('images/exsmoothing.png')"
   ]
  },
  {
   "cell_type": "code",
   "execution_count": null,
   "id": "b620b9b4-604f-4154-9bcf-614fbec000cd",
   "metadata": {},
   "outputs": [],
   "source": [
    "fit1.summary()"
   ]
  },
  {
   "cell_type": "markdown",
   "id": "53944940-2f33-451a-97b1-d0ee93469153",
   "metadata": {},
   "source": [
    "### Holt’s Damped Trend"
   ]
  },
  {
   "cell_type": "code",
   "execution_count": null,
   "id": "78432e10-2f80-418e-8710-eb950bb1492d",
   "metadata": {},
   "outputs": [],
   "source": [
    "from statsmodels.tsa.holtwinters import ExponentialSmoothing\n",
    "import numpy as np\n",
    "\n",
    "model = ExponentialSmoothing(np.asarray(train['Close']), trend='add', seasonal=None)\n",
    "model2 = ExponentialSmoothing(np.asarray(train['Close']), trend='add', seasonal=None, damped=True)\n",
    "model._index = pd.to_datetime(train.index)\n",
    "\n",
    "fit1 = model.fit()\n",
    "fit2 = model2.fit()\n",
    "pred1 = fit1.forecast(18)\n",
    "pred2 = fit2.forecast(18)\n",
    "\n",
    "fig, ax = plt.subplots(2, figsize=(12, 12))\n",
    "ax[0].plot(train.index[250:], train.values[250:])\n",
    "ax[0].plot(test.index, test.values, color=\"gray\", label=\"truth\")\n",
    "ax[1].plot(train.index[300:], train.values[300:])\n",
    "ax[1].plot(test.index, test.values, color=\"gray\", label=\"truth\")\n",
    "for p, f, c in zip((pred1, pred2),(fit1, fit2),('#ff7823','#3c763d')):\n",
    "    ax[0].plot(train.index[250:], f.fittedvalues[250:], color=c)\n",
    "    ax[1].plot(train.index[300:], f.fittedvalues[300:], color=c)\n",
    "    ax[0].plot(test.index, p, label=\"alpha=\"+str(f.params['smoothing_level'])[:4]+\", beta=\"+str(f.params['smoothing_trend'])[:4]+ \", damping=\"+str(True if f.params['damping_trend']>0 else False), color=c)\n",
    "    ax[1].plot(test.index, p, label=\"alpha=\"+str(f.params['smoothing_level'])[:4]+\", beta=\"+str(f.params['smoothing_trend'])[:4]+ \", damping=\"+str(True if f.params['damping_trend']>0 else False), color=c)\n",
    "ax[0].set_title(\"Damped Exponential Smoothing\");\n",
    "ax[1].set_title(\"Damped Exponential Smoothing - zoomed\");\n",
    "plt.legend();"
   ]
  },
  {
   "cell_type": "code",
   "execution_count": null,
   "id": "56da53ce-028a-441c-8ee6-ec5da4d422a7",
   "metadata": {},
   "outputs": [],
   "source": [
    "fit1 = Holt(train, initialization_method=\"estimated\").fit(\n",
    "    smoothing_level=0.8, smoothing_trend=0.2, optimized=False\n",
    ")\n",
    "fcast1 = fit1.forecast(5).rename(\"Holt's linear trend\")\n",
    "#fit2 = Holt(air, exponential=True, initialization_method=\"estimated\").fit(\n",
    "    #smoothing_level=0.8, smoothing_trend=0.2, optimized=False\n",
    "#)\n",
    "#fcast2 = fit2.forecast(5).rename(\"Exponential trend\")\n",
    "fit3 = Holt(train, damped_trend=True, initialization_method=\"estimated\").fit(\n",
    "    smoothing_level=0.8, smoothing_trend=0.2\n",
    ")\n",
    "fcast3 = fit3.forecast(5).rename(\"Additive damped trend\")\n",
    "\n",
    "plt.figure(figsize=(12, 8))\n",
    "plt.plot(train, marker=\"o\", color=\"black\")\n",
    "fit1.fittedvalues.plot(marker=\"o\", color='blue')\n",
    "fcast1.plot(color='blue', marker=\"o\", legend=True)\n",
    "#fit2.fittedvalues.plot(marker=\"o\", color='red')\n",
    "#fcast2.plot(color='red', marker=\"o\", legend=True)\n",
    "fit3.fittedvalues.plot(marker=\"o\", color='green')\n",
    "fcast3.plot(color='green', marker=\"o\", legend=True)\n",
    "\n",
    "plt.show()\n"
   ]
  },
  {
   "cell_type": "code",
   "execution_count": null,
   "id": "4b3239b3-8f53-4e69-ad16-eb39b7104f51",
   "metadata": {},
   "outputs": [],
   "source": [
    "fit1 = SimpleExpSmoothing(train, initialization_method=\"estimated\").fit()\n",
    "fcast1 = fit1.forecast(12).rename(\"SES\")\n",
    "fit2 = Holt(train, initialization_method=\"estimated\").fit()\n",
    "fcast2 = fit2.forecast(12).rename(\"Holt's\")\n",
    "#fit3 = Holt(train, exponential=True, initialization_method=\"estimated\").fit()\n",
    "#fcast3 = fit3.forecast(12).rename(\"Exponential\")\n",
    "fit4 = Holt(train, damped_trend=True, initialization_method=\"estimated\").fit(\n",
    "    damping_trend=0.98\n",
    ")\n",
    "fcast4 = fit4.forecast(12).rename(\"Additive Damped\")\n",
    "#fit5 = Holt(train, exponential=True, damped_trend=True, initialization_method=\"estimated\").fit()\n",
    "#fcast5 = fit5.forecast(12).rename(\"Multiplicative Damped\")\n",
    "params = [\n",
    "    \"smoothing_level\",\n",
    "    \"smoothing_trend\",\n",
    "    \"damping_trend\",\n",
    "    \"initial_level\",\n",
    "    \"initial_trend\",\n",
    "]\n",
    "results = pd.DataFrame(\n",
    "    index=[r\"$\\alpha$\", r\"$\\beta$\", r\"$\\phi$\", r\"$l_0$\", \"$b_0$\", \"SSE\"],\n",
    "    columns=[\"SES\", \"Holt's\", \"Exponential\", \"Additive\", \"Multiplicative\"],\n",
    ")\n",
    "results[\"SES\"] = [fit1.params[p] for p in params] + [fit1.sse]\n",
    "results[\"Holt's\"] = [fit2.params[p] for p in params] + [fit2.sse]\n",
    "#results[\"Exponential\"] = [fit3.params[p] for p in params] + [fit3.sse]\n",
    "results[\"Additive\"] = [fit4.params[p] for p in params] + [fit4.sse]\n",
    "#results[\"Multiplicative\"] = [fit5.params[p] for p in params] + [fit5.sse]\n",
    "results"
   ]
  },
  {
   "cell_type": "code",
   "execution_count": null,
   "id": "c97dee07-a638-4009-a012-3ceaef63cd65",
   "metadata": {},
   "outputs": [],
   "source": [
    "ax = train.plot(color=\"black\", marker=\"o\", figsize=(12, 8))\n",
    "fcast1.plot(ax=ax, color=\"red\", legend=True)\n",
    "fcast2.plot(ax=ax, color=\"green\", legend=True)\n",
    "#fcast3.plot(ax=ax, color=\"blue\", legend=True)\n",
    "fcast4.plot(ax=ax, color=\"cyan\", legend=True)\n",
    "#fcast5.plot(ax=ax, color=\"magenta\", legend=True)\n",
    "ax.set_ylabel(\"Stock Prices\")\n",
    "plt.show()\n",
    "print(\n",
    "    \"comparing forecasting performance of non-seasonal methods.\"\n",
    ")"
   ]
  },
  {
   "cell_type": "markdown",
   "id": "4e5964b6-4860-4d1d-8339-a056783b2981",
   "metadata": {},
   "source": [
    "### Holt-Winter’s Seasonal Smoothing model\n",
    "\n",
    "* Additive method: the seasonal variations are roughly constant throughout the series.\n",
    "* Multiplicative method: the seasonal variations are changing proportionally to the level of the series."
   ]
  },
  {
   "cell_type": "code",
   "execution_count": null,
   "id": "81ea5158-c845-4ee0-aecb-5563fea45d1a",
   "metadata": {},
   "outputs": [],
   "source": [
    "\n",
    "model = ExponentialSmoothing(train, trend=\"add\", seasonal=\"add\", seasonal_periods=12)\n",
    "model2 = ExponentialSmoothing(train, trend=\"add\", seasonal=\"add\", seasonal_periods=12, damped=True)\n",
    "fit = model.fit()\n",
    "pred = fit.forecast(18)\n",
    "fit2 = model2.fit()\n",
    "pred2 = fit2.forecast(18)\n",
    "\n",
    "#sse1 = np.sqrt(np.mean(np.square(test.values - pred.values)))\n",
    "#sse2 = np.sqrt(np.mean(np.square(test.values - pred2.values)))\n",
    "\n",
    "fig, ax = plt.subplots(figsize=(12, 6))\n",
    "ax.plot(train.index[60:], train.values[60:]);\n",
    "ax.plot(test.index, test.values, label='truth');\n",
    "ax.plot(test.index, pred, linestyle='--', color='#ff7823', label=\"w/o damping (RMSE={:0.2f}, AIC={:0.2f})\".format(sse1, fit.aic));\n",
    "ax.plot(test.index, pred2, linestyle='--', color='#3c763d', label=\"damped (RMSE={:0.2f}, AIC={:0.2f})\".format(sse2, fit2.aic)); \n",
    "ax.legend();\n",
    "ax.set_title(\"Holt-Winter's Seasonal Smoothing\");"
   ]
  },
  {
   "cell_type": "code",
   "execution_count": null,
   "id": "44c761dc-d552-4401-afb7-f521d7337bbc",
   "metadata": {},
   "outputs": [],
   "source": [
    "fit1 = ExponentialSmoothing(\n",
    "    train,\n",
    "    seasonal_periods=4,\n",
    "    trend=\"add\",\n",
    "    seasonal=\"add\",\n",
    "    use_boxcox=True,\n",
    "    initialization_method=\"estimated\",\n",
    ").fit()\n",
    "fit2 = ExponentialSmoothing(\n",
    "    train,\n",
    "    seasonal_periods=4,\n",
    "    trend=\"add\",\n",
    "    seasonal=\"mul\",\n",
    "    use_boxcox=True,\n",
    "    initialization_method=\"estimated\",\n",
    ").fit()\n",
    "fit3 = ExponentialSmoothing(\n",
    "    train,\n",
    "    seasonal_periods=4,\n",
    "    trend=\"add\",\n",
    "    seasonal=\"add\",\n",
    "    damped_trend=True,\n",
    "    use_boxcox=True,\n",
    "    initialization_method=\"estimated\",\n",
    ").fit()\n",
    "fit4 = ExponentialSmoothing(\n",
    "    train,\n",
    "    seasonal_periods=4,\n",
    "    trend=\"add\",\n",
    "    seasonal=\"mul\",\n",
    "    damped_trend=True,\n",
    "    use_boxcox=True,\n",
    "    initialization_method=\"estimated\",\n",
    ").fit()\n",
    "results = pd.DataFrame(\n",
    "    index=[r\"$\\alpha$\", r\"$\\beta$\", r\"$\\phi$\", r\"$\\gamma$\", r\"$l_0$\", \"$b_0$\", \"SSE\"]\n",
    ")\n",
    "params = [\n",
    "    \"smoothing_level\",\n",
    "    \"smoothing_trend\",\n",
    "    \"damping_trend\",\n",
    "    \"smoothing_seasonal\",\n",
    "    \"initial_level\",\n",
    "    \"initial_trend\",\n",
    "]\n",
    "results[\"Additive\"] = [fit1.params[p] for p in params] + [fit1.sse]\n",
    "results[\"Multiplicative\"] = [fit2.params[p] for p in params] + [fit2.sse]\n",
    "results[\"Additive Dam\"] = [fit3.params[p] for p in params] + [fit3.sse]\n",
    "results[\"Multiplica Dam\"] = [fit4.params[p] for p in params] + [fit4.sse]\n",
    "\n",
    "ax = aust.plot(\n",
    "    figsize=(10, 6),\n",
    "    marker=\"o\",\n",
    "    color=\"black\",\n",
    "    title=\"Forecasts from Holt-Winters' multiplicative method\",\n",
    ")\n",
    "ax.set_ylabel(\"International visitor night in Australia (millions)\")\n",
    "ax.set_xlabel(\"Year\")\n",
    "fit1.fittedvalues.plot(ax=ax, style=\"--\", color=\"red\")\n",
    "fit2.fittedvalues.plot(ax=ax, style=\"--\", color=\"green\")\n",
    "\n",
    "fit1.forecast(8).rename(\"Holt-Winters (add-add-seasonal)\").plot(\n",
    "    ax=ax, style=\"--\", marker=\"o\", color=\"red\", legend=True\n",
    ")\n",
    "fit2.forecast(8).rename(\"Holt-Winters (add-mul-seasonal)\").plot(\n",
    "    ax=ax, style=\"--\", marker=\"o\", color=\"green\", legend=True\n",
    ")\n",
    "\n",
    "plt.show()\n",
    "print(\n",
    "    \"Figure 7.6: Forecasting international visitor nights in Australia using Holt-Winters method with both additive and multiplicative seasonality.\"\n",
    ")\n",
    "\n",
    "results"
   ]
  },
  {
   "cell_type": "code",
   "execution_count": null,
   "id": "b2d1c13d-6be3-448f-ad5f-a97f7f8fbac2",
   "metadata": {},
   "outputs": [],
   "source": [
    "states1 = pd.DataFrame(\n",
    "    np.c_[fit1.level, fit1.trend, fit1.season],\n",
    "    columns=[\"level\", \"slope\", \"seasonal\"],\n",
    "    index=aust.index,\n",
    ")\n",
    "states2 = pd.DataFrame(\n",
    "    np.c_[fit2.level, fit2.trend, fit2.season],\n",
    "    columns=[\"level\", \"slope\", \"seasonal\"],\n",
    "    index=aust.index,\n",
    ")\n",
    "fig, [[ax1, ax4], [ax2, ax5], [ax3, ax6]] = plt.subplots(3, 2, figsize=(12, 8))\n",
    "states1[[\"level\"]].plot(ax=ax1)\n",
    "states1[[\"slope\"]].plot(ax=ax2)\n",
    "states1[[\"seasonal\"]].plot(ax=ax3)\n",
    "states2[[\"level\"]].plot(ax=ax4)\n",
    "states2[[\"slope\"]].plot(ax=ax5)\n",
    "states2[[\"seasonal\"]].plot(ax=ax6)\n",
    "plt.show()"
   ]
  },
  {
   "cell_type": "markdown",
   "id": "93769e2c-60ce-4a4f-997f-5949ae7777c7",
   "metadata": {},
   "source": [
    "### Manual Grid Search comparing RMSE"
   ]
  },
  {
   "cell_type": "code",
   "execution_count": null,
   "id": "3622e910-745d-4fa0-9e33-c25e6aa5ae5e",
   "metadata": {},
   "outputs": [],
   "source": [
    "df = DataReader('AAL', data_source='yahoo', start='2020-03-01', end=datetime.now())"
   ]
  },
  {
   "cell_type": "code",
   "execution_count": null,
   "id": "6e162db9-3345-41b9-ac8c-40baf445dff3",
   "metadata": {},
   "outputs": [],
   "source": [
    "data = df.filter(['Close'])"
   ]
  },
  {
   "cell_type": "code",
   "execution_count": null,
   "id": "f5461d7f-6b09-48bb-ba30-30ea767bfa66",
   "metadata": {},
   "outputs": [],
   "source": [
    "dataset = data.values"
   ]
  },
  {
   "cell_type": "code",
   "execution_count": null,
   "id": "97a11aa6-9cc4-4e86-b345-8eaa4ea41bb0",
   "metadata": {},
   "outputs": [],
   "source": [
    "training_data_len = int(np.ceil( len(dataset) * .9 ))"
   ]
  },
  {
   "cell_type": "code",
   "execution_count": null,
   "id": "c46bcaf4-ac9c-464b-ac9a-6a19dff9ce5b",
   "metadata": {},
   "outputs": [],
   "source": [
    "# one-step Holt Winter’s Exponential Smoothing forecast\n",
    "def exp_smoothing_forecast(history, config):\n",
    "\tt,d,s,p,b,r = config\n",
    "\t# define model\n",
    "\thistory = np.array(history)\n",
    "\tmodel = ExponentialSmoothing(history, trend=t, damped=d, seasonal=s, seasonal_periods=p)\n",
    "\t# fit model\n",
    "\tmodel_fit = model.fit(optimized=True, use_boxcox=b, remove_bias=r)\n",
    "\t# make one step forecast\n",
    "\tyhat = model_fit.predict(len(history), len(history))\n",
    "\treturn yhat[0]"
   ]
  },
  {
   "cell_type": "code",
   "execution_count": null,
   "id": "c7f25ece-b7e4-4364-8397-dcb12f63bff9",
   "metadata": {},
   "outputs": [],
   "source": [
    "fit1 = ExponentialSmoothing(train, seasonal_periods=4, trend='add', seasonal='add', damped=True).fit(use_boxcox=True)\n",
    "fit2 = ExponentialSmoothing(train, seasonal_periods=4, trend='add', seasonal='mul', damped=True).fit(use_boxcox=True)\n",
    "fit1.fittedvalues.plot(style='--', color='red')\n",
    "fit2.fittedvalues.plot(style='--', color='green')\n",
    "\n",
    "fit1.forecast(12).plot(style='--', marker='o', color='red', legend=True)\n",
    "fit2.forecast(12).plot(style='--', marker='o', color='green', legend=True)\n",
    "\n",
    "plt.show()\n",
    "print(\"Forecasting sales of properties using Holt-Winters method with additive seasonality.\")"
   ]
  },
  {
   "cell_type": "code",
   "execution_count": null,
   "id": "f4612174-03ae-4acd-8105-d9b7f93c5e42",
   "metadata": {},
   "outputs": [],
   "source": [
    "# root mean squared error or rmse\n",
    "def measure_rmse(actual, predicted):\n",
    "\treturn sqrt(mean_squared_error(actual, predicted))\n",
    " "
   ]
  },
  {
   "cell_type": "code",
   "execution_count": null,
   "id": "6caea717-0f84-4928-801b-615efd64b4fc",
   "metadata": {},
   "outputs": [],
   "source": [
    "# split a univariate dataset into train/test sets\n",
    "def train_test_split(data, n_test):\n",
    "\treturn data[:-n_test], data[-n_test:]"
   ]
  },
  {
   "cell_type": "code",
   "execution_count": null,
   "id": "b24cdc1b-8a6f-4b99-9ee6-11ad004262d3",
   "metadata": {},
   "outputs": [],
   "source": [
    "# walk-forward validation for univariate data\n",
    "def walk_forward_validation(data, n_test, cfg):\n",
    "\tpredictions = list()\n",
    "\t# split dataset\n",
    "\ttrain, test = train_test_split(data, n_test)\n",
    "\t# seed history with training dataset\n",
    "\thistory = [x for x in train]\n",
    "\t# step over each time-step in the test set\n",
    "\tfor i in range(len(test)):\n",
    "\t\t# fit model and make forecast for history\n",
    "\t\tyhat = exp_smoothing_forecast(history, cfg)\n",
    "\t\t# store forecast in list of predictions\n",
    "\t\tpredictions.append(yhat)\n",
    "\t\t# add actual observation to history for the next loop\n",
    "\t\thistory.append(test[i])\n",
    "\t# estimate prediction error\n",
    "\terror = measure_rmse(test, predictions)\n",
    "\treturn error\n",
    " "
   ]
  },
  {
   "cell_type": "code",
   "execution_count": null,
   "id": "02e0cdce-15f0-442d-bb06-847bdfb821f5",
   "metadata": {},
   "outputs": [],
   "source": [
    "#Trend:\n",
    "t= 'mul'\n",
    "#Damped: \n",
    "d= False\n",
    "#Seasonal: \n",
    "s= None\n",
    "#Seasonal Periods: \n",
    "p= None\n",
    "#Box-Cox Transform: \n",
    "b= True\n",
    "#Remove Bias: \n",
    "r= True\n",
    "\n",
    "cfg = t,d,s,p,b,r \n",
    "\n",
    "#t_params = ['add', 'mul', None]\n",
    "#d_params = [True, False]\n",
    "#s_params = ['add', 'mul', None]\n",
    "#p_params = seasonal\n",
    "#b_params = [True, False]\n",
    "#r_params = [True, False]\n"
   ]
  },
  {
   "cell_type": "code",
   "execution_count": null,
   "id": "8cbcdd3d-5b3c-4d07-b3dd-4a4805e180dc",
   "metadata": {},
   "outputs": [],
   "source": [
    "walk_forward_validation(dataset, training_data_len , cfg)"
   ]
  },
  {
   "cell_type": "code",
   "execution_count": null,
   "id": "f54afba1-2af9-4546-beac-dc4fbe8cc0fa",
   "metadata": {},
   "outputs": [],
   "source": [
    "#Trend:\n",
    "t= 'mul'\n",
    "#Damped: \n",
    "d= False\n",
    "#Seasonal: \n",
    "s= None\n",
    "#Seasonal Periods: \n",
    "p= None\n",
    "#Box-Cox Transform: \n",
    "b= False\n",
    "#Remove Bias: \n",
    "r= False\n",
    "\n",
    "cfg_trend = t,d,s,p,b,r \n",
    "\n",
    "walk_forward_validation(dataset, training_data_len , cfg_trend )"
   ]
  },
  {
   "cell_type": "code",
   "execution_count": null,
   "id": "e5ec75fe-a497-4c72-a9f7-cd3beadc7a23",
   "metadata": {},
   "outputs": [],
   "source": [
    "#Trend:\n",
    "t= None\n",
    "#Damped: \n",
    "d= False\n",
    "#Seasonal: \n",
    "s= 'add'\n",
    "#Seasonal Periods: \n",
    "p= 12\n",
    "#Box-Cox Transform: \n",
    "b= False\n",
    "#Remove Bias: \n",
    "r= False\n",
    "\n",
    "cfg_sea = t,d,s,p,b,r \n",
    "\n",
    "walk_forward_validation(dataset, training_data_len , cfg_sea )"
   ]
  },
  {
   "cell_type": "code",
   "execution_count": null,
   "id": "072816bb-d0ac-4daa-bd76-04e533376008",
   "metadata": {},
   "outputs": [],
   "source": [
    "#Trend:\n",
    "t= None\n",
    "#Damped: \n",
    "d= False\n",
    "#Seasonal: \n",
    "s= 'add'\n",
    "#Seasonal Periods: \n",
    "p= 12\n",
    "#Box-Cox Transform: \n",
    "b= False\n",
    "#Remove Bias: \n",
    "r= True\n",
    "\n",
    "cfg_sea2 = t,d,s,p,b,r \n",
    "\n",
    "walk_forward_validation(dataset, training_data_len ,cfg_sea2)"
   ]
  },
  {
   "cell_type": "code",
   "execution_count": null,
   "id": "7e0721d2-8776-4c3c-96c1-8362b0a2f49e",
   "metadata": {},
   "outputs": [],
   "source": [
    "#Trend:\n",
    "t= 'add'\n",
    "#Damped: \n",
    "d= False\n",
    "#Seasonal: \n",
    "s= 'add'\n",
    "#Seasonal Periods: \n",
    "p= 12\n",
    "#Box-Cox Transform: \n",
    "b= False\n",
    "#Remove Bias: \n",
    "r= False \n",
    "\n",
    "\n",
    "cfg_both = t,d,s,p,b,r \n",
    "\n",
    "walk_forward_validation(dataset, training_data_len ,cfg_both)"
   ]
  },
  {
   "cell_type": "code",
   "execution_count": null,
   "id": "21b62e53-bc46-40b4-847c-ce82770d9250",
   "metadata": {},
   "outputs": [],
   "source": [
    "#Trend:\n",
    "t= 'add'\n",
    "#Damped: \n",
    "d= True \n",
    "#Seasonal: \n",
    "s= 'add'\n",
    "#Seasonal Periods: \n",
    "p= 12\n",
    "#Box-Cox Transform: \n",
    "b= False\n",
    "#Remove Bias: \n",
    "r= False \n",
    "\n",
    "\n",
    "cfg_both2 = t,d,s,p,b,r \n",
    "\n",
    "walk_forward_validation(dataset, training_data_len ,cfg_both2)"
   ]
  },
  {
   "cell_type": "code",
   "execution_count": null,
   "id": "b03330e8-b2f6-4b0d-827e-013300752fec",
   "metadata": {},
   "outputs": [],
   "source": []
  }
 ],
 "metadata": {
  "kernelspec": {
   "display_name": "tf_env",
   "language": "python",
   "name": "tf_env"
  },
  "language_info": {
   "codemirror_mode": {
    "name": "ipython",
    "version": 3
   },
   "file_extension": ".py",
   "mimetype": "text/x-python",
   "name": "python",
   "nbconvert_exporter": "python",
   "pygments_lexer": "ipython3",
   "version": "3.8.11"
  }
 },
 "nbformat": 4,
 "nbformat_minor": 5
}
